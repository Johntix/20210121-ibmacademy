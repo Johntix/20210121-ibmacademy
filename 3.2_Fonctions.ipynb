{
 "cells": [
  {
   "cell_type": "markdown",
   "metadata": {
    "deletable": false,
    "editable": false
   },
   "source": [
    "<img src = \"images/logos.png\" width = 600, align = \"center\">\n",
    "<br>\n",
    "\n",
    "<h1 align=center><font size = 5>PYTHON - LES FONCTIONS</font></h1>"
   ]
  },
  {
   "cell_type": "markdown",
   "metadata": {},
   "source": [
    "## Contenu\n",
    "\n",
    "\n",
    "<div class=\"alert alert-block alert-info\" style=\"margin-top: 20px\">\n",
    "<ol>\n",
    "\n",
    "<li><a href=\"#ref1\">Qu'est-ce-qu'une fonction ?</a></li>\n",
    "<li><a href=\"#ref2\">Argument par défaut</a></li>\n",
    "<li><a href=\"#ref3\">Variables locales et variables globales</a></li>\n",
    "\n",
    "</ol>\n",
    "<br>\n",
    "<p></p>\n",
    "Durée éstimée: <strong>15 min</strong>\n",
    "</div>\n",
    "\n",
    "<hr>"
   ]
  },
  {
   "cell_type": "markdown",
   "metadata": {},
   "source": [
    "<a id='ref1'></a>\n",
    "<center><h2>Qu'est-ce-qu'une fonction ?</h2></center>\n",
    "\n",
    "On peut définir une fonction comme une sorte de bloc de code réutilisable par simple appel en lui passant, si nécessaire, les arguments attendus.\n",
    "\n",
    "On peut citer deux sortes de fonctions :\n",
    "\n",
    "\n",
    "- **Fonctions prédéfinies ou natives**\n",
    "- **Fonctions créées par l'utilisateur**"
   ]
  },
  {
   "cell_type": "markdown",
   "metadata": {},
   "source": [
    " Règles de définition d'une fonction en python ::\n",
    "-  Le bloc fonction commence par **def** suivi du nom de la fonction **nom** et des parenthèses **()**.\n",
    "-  Si nécessaire, les arguments ou les paramètres sont placés dans ces parenthèses. \n",
    "-  Le corps de la fonction commence après le symbole (**:**) et est indenté.\n",
    "-  La documentation peut-être placée avant le corps.\n",
    "-  L'instruction **return**  met fin aux instructions de la fonction et peut éventuellement retourner une valeur.\n",
    "\n",
    "Exemple : s'il fallait la réinventer la fonction len() qui retourne la longuer d'une liste :\n",
    " "
   ]
  },
  {
   "cell_type": "code",
   "execution_count": null,
   "metadata": {},
   "outputs": [],
   "source": [
    "def long(a):\n",
    "    \"\"\"\n",
    "    retourne la longueur d'une liste passée en argument\n",
    "    \"\"\"\n",
    "    i=0\n",
    "    for val in a : \n",
    "        i +=1\n",
    "    return(i)"
   ]
  },
  {
   "cell_type": "markdown",
   "metadata": {},
   "source": [
    "On peut consulter la documentation de la fonction :"
   ]
  },
  {
   "cell_type": "code",
   "execution_count": null,
   "metadata": {},
   "outputs": [],
   "source": [
    "help(long)"
   ]
  },
  {
   "cell_type": "markdown",
   "metadata": {},
   "source": [
    "Appel de la fonction : "
   ]
  },
  {
   "cell_type": "code",
   "execution_count": null,
   "metadata": {},
   "outputs": [],
   "source": [
    "L = [(2006, 2018, 2012, 2015),\n",
    " ('Casino Royale', 'Qauntum of Solace', 'Skyfall', 'Spectre'),\n",
    " 'Daniel Craig',\n",
    " [7.0, 5.4, 7.1, 5.8]]\n",
    "print('La longueur de la liste est :', long(L))"
   ]
  },
  {
   "cell_type": "markdown",
   "metadata": {},
   "source": [
    "#### Ecrire une fonction nbPair() qui renvoie le nombre d’élément(s) pair(s)dans le tableau reçu en argument. "
   ]
  },
  {
   "cell_type": "code",
   "execution_count": null,
   "metadata": {},
   "outputs": [],
   "source": []
  },
  {
   "cell_type": "markdown",
   "metadata": {},
   "source": [
    " <div align=\"right\">\n",
    "<a href=\"#q1\" class=\"btn btn-default\" data-toggle=\"collapse\">Solution</a>\n",
    "\n",
    "</div>\n",
    "<div id=\"q1\" class=\"collapse\">\n",
    "```\n",
    "def nbPair(tab):\n",
    "    i=0\n",
    "    for val in tab :\n",
    "        if(val%2 == 0):\n",
    "            i+=1\n",
    "    return(i)\n",
    "```\n",
    "</div>"
   ]
  },
  {
   "cell_type": "markdown",
   "metadata": {},
   "source": [
    "<a id='ref2'></a><h3>Variables *in english pour changer*</h3>\n"
   ]
  },
  {
   "cell_type": "markdown",
   "metadata": {},
   "source": [
    "The input to a function is called a formal parameter.\n",
    "\n",
    "A variable that is declared inside a function is called a  local variable. The parameter only exists within the function (i.e. the point where the function starts and stops).  \n",
    "\n",
    "A variable that is declared outside a function definition is a global variable, and its value is accessible and modifiable throughout the program. We will discuss more about global variables at the end of the lab.\n"
   ]
  },
  {
   "cell_type": "code",
   "execution_count": null,
   "metadata": {},
   "outputs": [],
   "source": [
    "#Function Definition   \n",
    "def square(a):\n",
    "    \"\"\"Square the input and add one  \n",
    "    \"\"\"\n",
    "    #Local variable \n",
    "    b=1\n",
    "    c=a*a+b;\n",
    "    print(a, \"if you square +1 \",c) \n",
    "    return(c)\n"
   ]
  },
  {
   "cell_type": "markdown",
   "metadata": {},
   "source": [
    "We can call the function  with an input of 3:"
   ]
  },
  {
   "cell_type": "code",
   "execution_count": null,
   "metadata": {},
   "outputs": [],
   "source": [
    "#Initializes Global variable  \n",
    "x=3\n",
    "#Makes function call and return function as z\n",
    "z=square(x)\n",
    "z"
   ]
  },
  {
   "cell_type": "markdown",
   "metadata": {},
   "source": [
    " We can call the function  with an input of 2 in a different manner:"
   ]
  },
  {
   "cell_type": "code",
   "execution_count": null,
   "metadata": {},
   "outputs": [],
   "source": [
    "square(2)"
   ]
  },
  {
   "cell_type": "markdown",
   "metadata": {},
   "source": [
    " If there is no **return** statement, the function returns **None**. The following two functions are equivalent:  \n",
    "  "
   ]
  },
  {
   "cell_type": "code",
   "execution_count": null,
   "metadata": {},
   "outputs": [],
   "source": [
    "def MJ():\n",
    "    print('Michael Jackson')\n",
    "    \n",
    "def MJ1():\n",
    "    print('Michael Jackson')\n",
    "    return(None)"
   ]
  },
  {
   "cell_type": "code",
   "execution_count": null,
   "metadata": {},
   "outputs": [],
   "source": [
    "MJ()"
   ]
  },
  {
   "cell_type": "code",
   "execution_count": null,
   "metadata": {},
   "outputs": [],
   "source": [
    "MJ1()"
   ]
  },
  {
   "cell_type": "markdown",
   "metadata": {},
   "source": [
    " Printing the function after a call reveals a **None** is the default return statement:"
   ]
  },
  {
   "cell_type": "code",
   "execution_count": null,
   "metadata": {},
   "outputs": [],
   "source": [
    "print(MJ())\n",
    "print(MJ1())"
   ]
  },
  {
   "cell_type": "markdown",
   "metadata": {},
   "source": [
    "<h3><b>Fonctions prédéfinies</b></h3>"
   ]
  },
  {
   "cell_type": "markdown",
   "metadata": {},
   "source": [
    "Il y a de très nombreuses fonctions natives fournies dans Python : "
   ]
  },
  {
   "cell_type": "markdown",
   "metadata": {},
   "source": [
    "La fonction **print():"
   ]
  },
  {
   "cell_type": "code",
   "execution_count": null,
   "metadata": {},
   "outputs": [],
   "source": [
    "notes = [10.0,8.5,9.5,7.0,7.0,9.5,9.0,9.5] \n",
    "print(notes)"
   ]
  },
  {
   "cell_type": "markdown",
   "metadata": {},
   "source": [
    "La fonction somme **sum()**"
   ]
  },
  {
   "cell_type": "code",
   "execution_count": null,
   "metadata": {},
   "outputs": [],
   "source": [
    "sum(notes)"
   ]
  },
  {
   "cell_type": "markdown",
   "metadata": {},
   "source": [
    "La fonction **min()**"
   ]
  },
  {
   "cell_type": "code",
   "execution_count": null,
   "metadata": {},
   "outputs": [],
   "source": [
    "min(notes)"
   ]
  },
  {
   "cell_type": "markdown",
   "metadata": {},
   "source": [
    "<div class=\"alert alert-success alertsuccess\" style=\"margin-top: 20px\">\n",
    "<h4> En savoir plus :  </h4>\n",
    "<p></p>\n",
    "La documentation de Python donne la liste de toutes les fonctions native (buil-in)  \n",
    "<a href=\"https://docs.python.org/fr/3.6/library/functions.html#built-in-funcs\">Fonctions natives</a>\n",
    "</div>"
   ]
  },
  {
   "cell_type": "markdown",
   "metadata": {},
   "source": [
    "<hr>"
   ]
  },
  {
   "cell_type": "markdown",
   "metadata": {},
   "source": [
    "<a id='ref4'></a>\n",
    "<center><h2>Argument par défaut</h2></center>\n",
    "\n",
    "Il est parfois utile d'assigné à, un argument de fonction une valeur par défaut. Dans ce cas l'affectation de la valeur se fait à la définition de la fonction.\n"
   ]
  },
  {
   "cell_type": "code",
   "execution_count": null,
   "metadata": {},
   "outputs": [],
   "source": [
    "def evaluation(note=4): \n",
    "    if(note < 5):\n",
    "        print(\"Mauvais film la note est \",note)\n",
    "        \n",
    "    else:\n",
    "        print(\"C'est un bon film la note est :\",note)"
   ]
  },
  {
   "cell_type": "code",
   "execution_count": null,
   "metadata": {},
   "outputs": [],
   "source": [
    "evaluation()\n",
    "evaluation(8)"
   ]
  },
  {
   "cell_type": "markdown",
   "metadata": {},
   "source": [
    "<a id='ref6'></a>\n",
    "<center><h2>Variables globales ou variables locales</h2></center>\n",
    "<br>\n",
    "Les variables définies en dehors des fonctions sont appelées variables globales. A l'inverse celles définies dans le corps d'une foncions sont des `locales` et ne sont pas accessibles de l'exterieur. \n",
    "<br>"
   ]
  },
  {
   "cell_type": "code",
   "execution_count": null,
   "metadata": {},
   "outputs": [],
   "source": [
    "def prenom(acteur):\n",
    "    tab_acteur = acteur.split()\n",
    "    return (\"prenom\",tab_acteur[0])\n",
    "    \n",
    "prenom(\"Daniel Craig\")"
   ]
  },
  {
   "cell_type": "markdown",
   "metadata": {},
   "source": [
    "L'accès à tab_acteur est impossible de l'exterieur. La variable n'existe que dans le bloc de la fonction"
   ]
  },
  {
   "cell_type": "code",
   "execution_count": null,
   "metadata": {},
   "outputs": [],
   "source": [
    "print(tab_acteur)"
   ]
  },
  {
   "cell_type": "markdown",
   "metadata": {},
   "source": [
    "Il est possible cependant d'en créeer une globale dans le bloc de fonction :"
   ]
  },
  {
   "cell_type": "code",
   "execution_count": null,
   "metadata": {},
   "outputs": [],
   "source": [
    "def prenom(acteur):\n",
    "    global tab_acteur\n",
    "    tab_acteur = acteur.split()\n",
    "    return (\"prenom\",tab_acteur[0])\n",
    "    \n",
    "print(tab_acteur)\n",
    "prenom(\"Daniel Craig\")"
   ]
  },
  {
   "cell_type": "markdown",
   "metadata": {
    "deletable": false,
    "editable": false
   },
   "source": [
    "<hr>\n",
    "Copyright &copy; 2020 Hatem & Driss @NEEDEMAND"
   ]
  }
 ],
 "metadata": {
  "celltoolbar": "Aucun(e)",
  "kernelspec": {
   "display_name": "Python 3",
   "language": "python",
   "name": "python3"
  },
  "language_info": {
   "codemirror_mode": {
    "name": "ipython",
    "version": 3
   },
   "file_extension": ".py",
   "mimetype": "text/x-python",
   "name": "python",
   "nbconvert_exporter": "python",
   "pygments_lexer": "ipython3",
   "version": "3.7.6"
  },
  "widgets": {
   "state": {},
   "version": "1.1.2"
  }
 },
 "nbformat": 4,
 "nbformat_minor": 2
}

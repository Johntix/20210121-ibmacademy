{
 "cells": [
  {
   "cell_type": "markdown",
   "metadata": {
    "deletable": false,
    "editable": false
   },
   "source": [
    "<img src = \"images/logos.png\" width = 600, align = \"center\">\n",
    "<br>\n",
    "\n",
    "<h1 align=center><font size = 5>PYTHON - LA PROGRAMMATION OBJET</font></h1>"
   ]
  },
  {
   "cell_type": "markdown",
   "metadata": {},
   "source": [
    "# Intro!\n",
    "\n",
    "Quitons un peu James Bond et prenons comme support de cours des figures géométriques.<br>\n",
    "Les deux classes que nous allons créer dans ce notebook sont les classes cercle et rectangle.\n",
    "Nous allons définir ce qu'est :\n",
    "- une classe\n",
    "- une instance\n",
    "- un attribut\n",
    "- une méthode"
   ]
  },
  {
   "cell_type": "markdown",
   "metadata": {},
   "source": [
    "#### Creation des classes \n",
    "La première étape consiste à nommer la classe. Dans notre exemple elles s'appellerons `Cercle` et `Rectangle`.<br>\n",
    "Il faut ensuite déterminer les données qui caractérise chaque entité ce qu'on appellera des **attributs**.<br>\n",
    "Dans la figure ci-dessous le cercle apparait caractérisé par son *rayon* et sa *couleur* alors que le rectangle est caractérisé par sa *longueur*, sa *largeur* et sa *couleur*. "
   ]
  },
  {
   "cell_type": "markdown",
   "metadata": {},
   "source": [
    "<img src = \"images/cercle_rect.png\" align = \"center\">\n",
    " <h4 align=center>\n"
   ]
  },
  {
   "cell_type": "markdown",
   "metadata": {},
   "source": [
    "#### Instances d'une classe: Objet and Attributs"
   ]
  },
  {
   "cell_type": "markdown",
   "metadata": {},
   "source": [
    "Une instance est un objet construit à partir d'une classe ayant ces porpres attributs. Dans la figure ci-dessous nous voyons trois instances de la classe Cercle. Chaque objet est défini par sa propre couleur et son rayon."
   ]
  },
  {
   "cell_type": "markdown",
   "metadata": {},
   "source": [
    "<img src = \"images/3_cercles.png\" align=\"center\">\n"
   ]
  },
  {
   "cell_type": "markdown",
   "metadata": {},
   "source": [
    "#### Méthodes \n",
    "\n",
    "Les méthodes sont des fonctions internes définies dans la classe et permettent de modifier ou d'interagir avec l'objet.<br>\n",
    "Exemple, on peut définir une méthode **zoom(t)** dans la classe cercle permettant de modifier la taille de l'objet en appliquqant un ratio *t* donné à son rayon.<br>\n",
    "La figure ci-dessous illustre l'utilisation de cette méthode en appliquant un ratio de 2 au cercle orange et un ratio de 0.5 au cercle bleu."
   ]
  },
  {
   "cell_type": "markdown",
   "metadata": {},
   "source": [
    "<img src = \"images/zoom.png\" align = \"center\">"
   ]
  },
  {
   "cell_type": "markdown",
   "metadata": {},
   "source": [
    "# Creation de la Classe"
   ]
  },
  {
   "cell_type": "markdown",
   "metadata": {},
   "source": [
    "La création d'une classe se fait en utilisant le mot clé **class** suivi du nom de la classe puis entre parenthèse la nom de classe parente qui dans ce cours sera la classe gégérique `object`\n"
   ]
  },
  {
   "cell_type": "markdown",
   "metadata": {},
   "source": [
    "<img src = \"images/classe.png\" align = \"center\"> "
   ]
  },
  {
   "cell_type": "markdown",
   "metadata": {},
   "source": [
    "L'étape suivante consiste à définir une méthode spéciale appelée constructeur et nommée **__init__** qui servira à initialiser les objets crées. Le terme **self** permettra d'acceder à tous les attributs de la classe, comme par exemple **self.rayon**.\n",
    "Ensuite on pourra définir la méthode **zoom** qui multiplira par un ratio *t* le rayon de l'objet."
   ]
  },
  {
   "cell_type": "code",
   "execution_count": 20,
   "metadata": {},
   "outputs": [
    {
     "data": {
      "text/plain": [
       "['__class__',\n",
       " '__delattr__',\n",
       " '__dict__',\n",
       " '__dir__',\n",
       " '__doc__',\n",
       " '__eq__',\n",
       " '__format__',\n",
       " '__ge__',\n",
       " '__getattribute__',\n",
       " '__gt__',\n",
       " '__hash__',\n",
       " '__init__',\n",
       " '__init_subclass__',\n",
       " '__le__',\n",
       " '__lt__',\n",
       " '__module__',\n",
       " '__ne__',\n",
       " '__new__',\n",
       " '__reduce__',\n",
       " '__reduce_ex__',\n",
       " '__repr__',\n",
       " '__setattr__',\n",
       " '__sizeof__',\n",
       " '__str__',\n",
       " '__subclasshook__',\n",
       " '__weakref__',\n",
       " 'couleur',\n",
       " 'rayon',\n",
       " 'zoom']"
      ]
     },
     "execution_count": 20,
     "metadata": {},
     "output_type": "execute_result"
    }
   ],
   "source": [
    "class Cercle(object) :\n",
    "    def __init__(self, r, c) :\n",
    "        self.rayon = r\n",
    "        self.couleur = c\n",
    "\n",
    "    def zoom(self,t) :\n",
    "        self.rayon = self.rayon*t\n",
    "        return(self.rayon)\n",
    "    \n",
    "    \n",
    "c = Cercle(5, 'red')\n",
    "dir(c)\n",
    "#c.zoom(3)"
   ]
  },
  {
   "cell_type": "markdown",
   "metadata": {},
   "source": [
    "<img src = \"images/defClasse.png\" align = \"center\">"
   ]
  },
  {
   "cell_type": "markdown",
   "metadata": {},
   "source": [
    "Ci dessous la définition de la classe Cercle avec des valeurs par défaut pour les rayon et couleur."
   ]
  },
  {
   "cell_type": "code",
   "execution_count": 29,
   "metadata": {},
   "outputs": [],
   "source": [
    "class Cercle(object):\n",
    "    \n",
    "    def __init__(self,rayon=3,couleur='bleu'):\n",
    "        \n",
    "        self.rayon=rayon\n",
    "        self.couleur=couleur \n",
    "    \n",
    "    def zoom(self,t):\n",
    "        \n",
    "        self.rayon=self.rayon*t\n",
    "        return(self.rayon) "
   ]
  },
  {
   "cell_type": "markdown",
   "metadata": {},
   "source": [
    "### Creation d'une instance de la classe Cercle"
   ]
  },
  {
   "cell_type": "markdown",
   "metadata": {},
   "source": [
    "Création d'un **CercleRouge**"
   ]
  },
  {
   "cell_type": "code",
   "execution_count": 21,
   "metadata": {},
   "outputs": [],
   "source": [
    "CercleRouge=Cercle(5,'rouge')"
   ]
  },
  {
   "cell_type": "markdown",
   "metadata": {},
   "source": [
    "La commande **dir** permet de lister les méthodes de l'objet. Beaucoup d'entre-elles sont des méthodes native associée à l'obet `object`de Python."
   ]
  },
  {
   "cell_type": "code",
   "execution_count": 22,
   "metadata": {},
   "outputs": [
    {
     "data": {
      "text/plain": [
       "['__class__',\n",
       " '__delattr__',\n",
       " '__dict__',\n",
       " '__dir__',\n",
       " '__doc__',\n",
       " '__eq__',\n",
       " '__format__',\n",
       " '__ge__',\n",
       " '__getattribute__',\n",
       " '__gt__',\n",
       " '__hash__',\n",
       " '__init__',\n",
       " '__init_subclass__',\n",
       " '__le__',\n",
       " '__lt__',\n",
       " '__module__',\n",
       " '__ne__',\n",
       " '__new__',\n",
       " '__reduce__',\n",
       " '__reduce_ex__',\n",
       " '__repr__',\n",
       " '__setattr__',\n",
       " '__sizeof__',\n",
       " '__str__',\n",
       " '__subclasshook__',\n",
       " '__weakref__',\n",
       " 'couleur',\n",
       " 'rayon',\n",
       " 'zoom']"
      ]
     },
     "execution_count": 22,
     "metadata": {},
     "output_type": "execute_result"
    }
   ],
   "source": [
    "dir(CercleRouge)"
   ]
  },
  {
   "cell_type": "code",
   "execution_count": 23,
   "metadata": {},
   "outputs": [
    {
     "data": {
      "text/plain": [
       "{'rayon': 5, 'couleur': 'rouge'}"
      ]
     },
     "execution_count": 23,
     "metadata": {},
     "output_type": "execute_result"
    }
   ],
   "source": [
    "vars(CercleRouge)"
   ]
  },
  {
   "cell_type": "markdown",
   "metadata": {},
   "source": [
    "L'accès aux attributs peut se faire de manière directe :  "
   ]
  },
  {
   "cell_type": "code",
   "execution_count": 24,
   "metadata": {},
   "outputs": [
    {
     "data": {
      "text/plain": [
       "5"
      ]
     },
     "execution_count": 24,
     "metadata": {},
     "output_type": "execute_result"
    }
   ],
   "source": [
    "CercleRouge.rayon"
   ]
  },
  {
   "cell_type": "code",
   "execution_count": 25,
   "metadata": {},
   "outputs": [
    {
     "data": {
      "text/plain": [
       "'rouge'"
      ]
     },
     "execution_count": 25,
     "metadata": {},
     "output_type": "execute_result"
    }
   ],
   "source": [
    "CercleRouge.couleur"
   ]
  },
  {
   "cell_type": "markdown",
   "metadata": {},
   "source": [
    "Les attributs peuvent être modifiés : "
   ]
  },
  {
   "cell_type": "code",
   "execution_count": 26,
   "metadata": {},
   "outputs": [],
   "source": [
    "CercleRouge.rayon = 3\n"
   ]
  },
  {
   "cell_type": "code",
   "execution_count": 27,
   "metadata": {},
   "outputs": [
    {
     "data": {
      "text/plain": [
       "3"
      ]
     },
     "execution_count": 27,
     "metadata": {},
     "output_type": "execute_result"
    }
   ],
   "source": [
    "CercleRouge.rayon"
   ]
  },
  {
   "cell_type": "markdown",
   "metadata": {},
   "source": [
    "Pour créer un cercle bleu de rayon 100, il suffit de préciser le rayon puisque la couleur par défaut est *bleu*"
   ]
  },
  {
   "cell_type": "code",
   "execution_count": 30,
   "metadata": {},
   "outputs": [],
   "source": [
    "CercleBleu=Cercle(100)"
   ]
  },
  {
   "cell_type": "code",
   "execution_count": 31,
   "metadata": {},
   "outputs": [
    {
     "data": {
      "text/plain": [
       "100"
      ]
     },
     "execution_count": 31,
     "metadata": {},
     "output_type": "execute_result"
    }
   ],
   "source": [
    "CercleBleu.rayon"
   ]
  },
  {
   "cell_type": "code",
   "execution_count": 32,
   "metadata": {},
   "outputs": [
    {
     "data": {
      "text/plain": [
       "'bleu'"
      ]
     },
     "execution_count": 32,
     "metadata": {},
     "output_type": "execute_result"
    }
   ],
   "source": [
    "CercleBleu.couleur"
   ]
  },
  {
   "cell_type": "markdown",
   "metadata": {},
   "source": [
    "L'appel de la méthode **zoom** permet de modifier le rayon : "
   ]
  },
  {
   "cell_type": "code",
   "execution_count": 33,
   "metadata": {},
   "outputs": [
    {
     "name": "stdout",
     "output_type": "stream",
     "text": [
      "Rayon du cercle: 3\n",
      "Rayon après application de la méthode zoom(2): 6\n",
      "Rayon après application de la méthode zoom(3): 18\n"
     ]
    }
   ],
   "source": [
    "print('Rayon du cercle:',CercleRouge.rayon)\n",
    "CercleRouge.zoom(2)\n",
    "print('Rayon après application de la méthode zoom(2):',CercleRouge.rayon)\n",
    "CercleRouge.zoom(3)\n",
    "print('Rayon après application de la méthode zoom(3):',CercleRouge.rayon)"
   ]
  },
  {
   "cell_type": "markdown",
   "metadata": {},
   "source": [
    "### La classe rectangle"
   ]
  },
  {
   "cell_type": "markdown",
   "metadata": {},
   "source": [
    "créer une classe rectangle dont les attributs sont la largeur, longueur et couleur. Par défaut un rectangle sera rouge et ses dimensions seront largeur = 2 et longueur = 5"
   ]
  },
  {
   "cell_type": "code",
   "execution_count": 9,
   "metadata": {},
   "outputs": [],
   "source": [
    "class rectangle(object):\n",
    "    \n",
    "    def __init__(self,largeur=2,longueur=5,couleur='jaune'):\n",
    "        self.largeur = largeur\n",
    "        self.longueur = longueur\n",
    "        self.couleur = couleur\n"
   ]
  },
  {
   "cell_type": "markdown",
   "metadata": {},
   "source": [
    " <div align=\"right\">\n",
    "<a href=\"#s1\" class=\"btn btn-default\" data-toggle=\"collapse\">Solution</a>\n",
    "\n",
    "</div>\n",
    "<div id=\"s1\" class=\"collapse\">\n",
    "```\n",
    "class Rectangle(object):\n",
    "    \n",
    "    def __init__(self,largeur=2,longueur =5,couleur='rouge'):\n",
    "        self.longueur=longueur \n",
    "        self.largeur=largeur\n",
    "        self.couleur=couleur\n",
    "        \n",
    "```\n",
    "</div>"
   ]
  },
  {
   "cell_type": "markdown",
   "metadata": {},
   "source": [
    "Créer une instance RectangleBleu de couleur bleu et de dimensions largeur = 1, longueur = 5"
   ]
  },
  {
   "cell_type": "code",
   "execution_count": 8,
   "metadata": {},
   "outputs": [],
   "source": [
    "RectangleBleu = rectangle(largeur = 1, longueur = 5, couleur = 'bleu')"
   ]
  },
  {
   "cell_type": "markdown",
   "metadata": {},
   "source": [
    " <div align=\"right\">\n",
    "<a href=\"#s2\" class=\"btn btn-default\" data-toggle=\"collapse\">Solution</a>\n",
    "\n",
    "</div>\n",
    "<div id=\"s2\" class=\"collapse\">\n",
    "```\n",
    "    RectangleBleu= Rectangle(largeur=1,couleur='bleu')\n",
    "        \n",
    "```\n",
    "</div>"
   ]
  },
  {
   "cell_type": "markdown",
   "metadata": {},
   "source": [
    "Afficher la valeur de tous les attributs de RectangleBleu"
   ]
  },
  {
   "cell_type": "code",
   "execution_count": 6,
   "metadata": {},
   "outputs": [
    {
     "data": {
      "text/plain": [
       "{'largeur': 1, 'longueur': 5, 'couleur': 'bleu'}"
      ]
     },
     "execution_count": 6,
     "metadata": {},
     "output_type": "execute_result"
    }
   ],
   "source": [
    "vars(RectangleBleu)"
   ]
  },
  {
   "cell_type": "markdown",
   "metadata": {},
   "source": [
    " <div align=\"right\">\n",
    "<a href=\"#s3\" class=\"btn btn-default\" data-toggle=\"collapse\">Solution</a>\n",
    "\n",
    "</div>\n",
    "<div id=\"s3\" class=\"collapse\">\n",
    "```\n",
    "print('longueur',RectangleBleu.longueur)\n",
    "print('largeur',RectangleBleu.largeur)\n",
    "print('couleur',RectangleBleu.couleur)\n",
    "        \n",
    "```\n",
    "</div>"
   ]
  },
  {
   "cell_type": "markdown",
   "metadata": {},
   "source": [
    "Munissez la classe rectangle d'une methode **aire** calculant et retournant la surface du rectangle (longueur * largeur)"
   ]
  },
  {
   "cell_type": "code",
   "execution_count": 11,
   "metadata": {},
   "outputs": [],
   "source": [
    "class rectangle(object):\n",
    "    \n",
    "    def __init__(self,largeur=2,longueur=5,couleur='jaune'):\n",
    "        self.largeur = largeur\n",
    "        self.longueur = longueur\n",
    "        self.couleur = couleur\n",
    "        \n",
    "    def aire(self):\n",
    "        return self.longueur * self.largeur\n"
   ]
  },
  {
   "cell_type": "markdown",
   "metadata": {},
   "source": [
    " <div align=\"right\">\n",
    "<a href=\"#s4\" class=\"btn btn-default\" data-toggle=\"collapse\">Solution</a>\n",
    "\n",
    "</div>\n",
    "<div id=\"s4\" class=\"collapse\">\n",
    "```\n",
    "class Rectangle(object):\n",
    "    \n",
    "    def __init__(self,largeur=2,longueur =5,couleur='rouge'):\n",
    "        self.longueur=longueur \n",
    "        self.largeur=largeur\n",
    "        self.couleur=couleur\n",
    "        \n",
    "    def aire(self) :\n",
    "        return self.longueur*self.largeur\n",
    "        \n",
    "```\n",
    "</div>"
   ]
  },
  {
   "cell_type": "markdown",
   "metadata": {
    "collapsed": true
   },
   "source": [
    "Afficher l'aire de l'objet RectangleBleu"
   ]
  },
  {
   "cell_type": "code",
   "execution_count": 14,
   "metadata": {},
   "outputs": [
    {
     "data": {
      "text/plain": [
       "5"
      ]
     },
     "execution_count": 14,
     "metadata": {},
     "output_type": "execute_result"
    }
   ],
   "source": [
    "RectangleBleu = rectangle(largeur = 1, longueur = 5, couleur = 'bleu')\n",
    "\n",
    "\n",
    "RectangleBleu.aire() #ça ne peut marcher que si je redéfinit la classe RectangleBleu car dans l'historique, quand RectangleBleu à été créé il n'y avait pas 'aire'"
   ]
  },
  {
   "cell_type": "markdown",
   "metadata": {},
   "source": [
    " <div align=\"right\">\n",
    "<a href=\"#s5\" class=\"btn btn-default\" data-toggle=\"collapse\">Solution</a>\n",
    "\n",
    "</div>\n",
    "<div id=\"s5\" class=\"collapse\">\n",
    "```\n",
    "#Redefinir RectangleBleu pour tenir compte de la nouvelle méthode\n",
    "    \n",
    "RectangleBleu=Rectangle(largeur=1, couleur='bleu') \n",
    "RectangleBleu.aire()\n",
    "```\n",
    "</div>"
   ]
  },
  {
   "cell_type": "markdown",
   "metadata": {
    "deletable": false,
    "editable": false
   },
   "source": [
    "<hr>\n",
    "Copyright &copy; 2020 Hatem & Driss @NEEDEMAND"
   ]
  },
  {
   "cell_type": "code",
   "execution_count": null,
   "metadata": {},
   "outputs": [],
   "source": [
    "class figure(object):\n",
    "    def __init__(self, c)"
   ]
  }
 ],
 "metadata": {
  "celltoolbar": "Aucun(e)",
  "kernelspec": {
   "display_name": "Python 3",
   "language": "python",
   "name": "python3"
  },
  "language_info": {
   "codemirror_mode": {
    "name": "ipython",
    "version": 3
   },
   "file_extension": ".py",
   "mimetype": "text/x-python",
   "name": "python",
   "nbconvert_exporter": "python",
   "pygments_lexer": "ipython3",
   "version": "3.8.3"
  },
  "widgets": {
   "state": {},
   "version": "1.1.2"
  }
 },
 "nbformat": 4,
 "nbformat_minor": 2
}

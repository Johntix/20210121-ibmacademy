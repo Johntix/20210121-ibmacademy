{
 "cells": [
  {
   "cell_type": "markdown",
   "metadata": {},
   "source": [
    "<img src = \"logos.png\" width = 600, align = \"center\">\n",
    "<br>\n",
    "<h1 align=center>Apprentissage supervisé : Classification</h1>"
   ]
  },
  {
   "cell_type": "markdown",
   "metadata": {},
   "source": [
    "\n",
    "Nous allons voir la classification dans une population virtuelle à deux dimensions. Les données utilisées seront, dans ce cas, générées par la fonction ``make_blobs``.\n",
    "\n",
    "Il s’agit d’une fonction de génération de clusters…[Lire plus](http://scikit-learn.org/stable/modules/generated/sklearn.datasets.make_blobs.html)"
   ]
  },
  {
   "cell_type": "code",
   "execution_count": 1,
   "metadata": {},
   "outputs": [
    {
     "name": "stdout",
     "output_type": "stream",
     "text": [
      "X : nb_echantillons x nb_caracteristiques: (100, 2)\n",
      "Y : nb_echantillons: (100,)\n",
      "\n",
      "Les 5 premiers échantillons :\n",
      " [[ 4.21850347  2.23419161]\n",
      " [ 0.90779887  0.45984362]\n",
      " [-0.27652528  5.08127768]\n",
      " [ 0.08848433  2.32299086]\n",
      " [ 3.24329731  1.21460627]]\n",
      "\n",
      "Les 5 premiers labels : [1 1 0 0 1]\n"
     ]
    }
   ],
   "source": [
    "%matplotlib inline\n",
    "import matplotlib.pyplot as plt\n",
    "import numpy as np\n",
    "from sklearn.datasets import make_blobs\n",
    "\n",
    "X, Y = make_blobs(centers=2, random_state=0)\n",
    "\n",
    "print('X : nb_echantillons x nb_caracteristiques:', X.shape)\n",
    "print('Y : nb_echantillons:', Y.shape)\n",
    "\n",
    "print('\\nLes 5 premiers échantillons :\\n', X[:5, :])\n",
    "print('\\nLes 5 premiers labels :', Y[:5])"
   ]
  },
  {
   "cell_type": "markdown",
   "metadata": {},
   "source": [
    "Comme ces données sont en deux dimensions, nous pouvons représenter chaque échantillon par un point dans le plan, sa première caractéristique étant l’abscisse du point, la deuxième son ordonnée."
   ]
  },
  {
   "cell_type": "code",
   "execution_count": 2,
   "metadata": {},
   "outputs": [
    {
     "data": {
      "image/png": "[encoded data removed]",
      "text/plain": [
       "<Figure size 432x288 with 1 Axes>"
      ]
     },
     "metadata": {
      "needs_background": "light"
     },
     "output_type": "display_data"
    }
   ],
   "source": [
    "plt.scatter(X[Y == 0, 0], X[Y == 0, 1], \n",
    "            color='blue', s=40, label='0')\n",
    "plt.scatter(X[Y == 1, 0], X[Y == 1, 1], \n",
    "            color='red', s=40, label='1', marker='s')\n",
    "\n",
    "plt.xlabel('Première caractéristique')\n",
    "plt.ylabel('Deuxième caractéristique')\n",
    "plt.legend(loc='upper right');"
   ]
  },
  {
   "cell_type": "markdown",
   "metadata": {},
   "source": [
    "La classification est un processus supervisé et pour mesurer sa performance nous allons découper nos données en deux parties :\n",
    "1.\t75 % destines à l’apprentissage.\n",
    "2.\t25 % pour le test et l’évaluation du modèle.\n"
   ]
  },
  {
   "cell_type": "code",
   "execution_count": 20,
   "metadata": {},
   "outputs": [],
   "source": [
    "from sklearn.model_selection import train_test_split\n",
    "\n",
    "X_train, X_test, Y_train, Y_test = train_test_split(X, Y,\n",
    "                                                    test_size=0.25,\n",
    "                                                    random_state=42,\n",
    "                                                    stratify=Y)"
   ]
  },
  {
   "cell_type": "markdown",
   "metadata": {},
   "source": [
    "Chaque algorithme de scikit-learn est exposé via un objet ``Estimator``. (Tous les modèle de scikit-learn implémentent la même interface interface).\n",
    "API Estimator (source : https://www.oreilly.com/ideas/intro-to-scikit-learn)\n",
    "Communément, les étapes d’utilisation de l’API estimator dans Scikit-Learn sont les suivantes :\n",
    "1.\tChoix d’un modèle et importation de la classe correspondante depuis Scikit-Learn.\n",
    "2.\tChoix des hyperparamètres du modèle et instanciation de la classe avec les valeurs choisies.\n",
    "3.\tOrganiser les données dans une matrice de caractéristiques et un vecteur cible.\n",
    "4.\tAdapter le modèle aux données en utilisant la méthode fit() .\n",
    "5.\tUtiliser le modèle sur des Nouvelles donnée :\n",
    "<ul>\n",
    "<li>Pour de l’apprentissage supervisé les labels des données inconnues sont souvent prédits avec la méthode predict().</li>\n",
    "<li>Pour de l’apprentissage non supervisé les propriétés sont souvent transformées ou inférées en utilisant la méthode transform() ou predict().</li>\n",
    "</ul>\n",
    "\n",
    "Importons, par exemple, la classe de régression logistique.\n"
   ]
  },
  {
   "cell_type": "code",
   "execution_count": 21,
   "metadata": {},
   "outputs": [],
   "source": [
    "from sklearn.linear_model import LogisticRegression"
   ]
  },
  {
   "cell_type": "markdown",
   "metadata": {},
   "source": [
    "L’étape suivante consiste en une instanciation de l’objet estimator."
   ]
  },
  {
   "cell_type": "code",
   "execution_count": 22,
   "metadata": {},
   "outputs": [],
   "source": [
    "modele = LogisticRegression()"
   ]
  },
  {
   "cell_type": "code",
   "execution_count": 23,
   "metadata": {},
   "outputs": [
    {
     "data": {
      "text/plain": [
       "(75, 2)"
      ]
     },
     "execution_count": 23,
     "metadata": {},
     "output_type": "execute_result"
    }
   ],
   "source": [
    "X_train.shape"
   ]
  },
  {
   "cell_type": "code",
   "execution_count": 24,
   "metadata": {},
   "outputs": [
    {
     "data": {
      "text/plain": [
       "(75,)"
      ]
     },
     "execution_count": 24,
     "metadata": {},
     "output_type": "execute_result"
    }
   ],
   "source": [
    "Y_train.shape"
   ]
  },
  {
   "cell_type": "markdown",
   "metadata": {},
   "source": [
    "On appellee la méthode ``fit()`` en lui passant les données d’apprentissage X_train et Y_train"
   ]
  },
  {
   "cell_type": "code",
   "execution_count": 25,
   "metadata": {},
   "outputs": [
    {
     "data": {
      "text/plain": [
       "{'C': 1.0,\n",
       " 'class_weight': None,\n",
       " 'dual': False,\n",
       " 'fit_intercept': True,\n",
       " 'intercept_scaling': 1,\n",
       " 'l1_ratio': None,\n",
       " 'max_iter': 100,\n",
       " 'multi_class': 'auto',\n",
       " 'n_jobs': None,\n",
       " 'penalty': 'l2',\n",
       " 'random_state': None,\n",
       " 'solver': 'lbfgs',\n",
       " 'tol': 0.0001,\n",
       " 'verbose': 0,\n",
       " 'warm_start': False}"
      ]
     },
     "execution_count": 25,
     "metadata": {},
     "output_type": "execute_result"
    }
   ],
   "source": [
    "m = modele.fit(X_train, Y_train)\n",
    "m.get_params()"
   ]
  },
  {
   "cell_type": "markdown",
   "metadata": {},
   "source": [
    "**Remarque : **\n",
    "Certaines méthodes d’estimator comme ``fit()`` retourne ``self`` par défaut. Ainsi, après l’exécution du code ci-dessus c’est l’instance de la classe avec les paramètres par défaut qui sont affichés.\n",
    "Il est possible de récupérer ces paramètres en utilisant la méthode ``get_params()``, qui retournera un dictionnaire de paramètres."
   ]
  },
  {
   "cell_type": "markdown",
   "metadata": {},
   "source": [
    "Le modèle peut alors être appliqué aux données inconnues et l’utiliser pour prédire la sortie correspondante : "
   ]
  },
  {
   "cell_type": "code",
   "execution_count": 26,
   "metadata": {},
   "outputs": [],
   "source": [
    "prediction = modele.predict(X_test)"
   ]
  },
  {
   "cell_type": "markdown",
   "metadata": {},
   "source": [
    "Nous pouvons comparer les labels prédits aux vrais :"
   ]
  },
  {
   "cell_type": "code",
   "execution_count": 27,
   "metadata": {},
   "outputs": [
    {
     "name": "stdout",
     "output_type": "stream",
     "text": [
      "[1 1 1 0 1 1 0 1 1 1 0 1 0 0 1 0 0 1 0 0 0 0 0 1 1]\n",
      "[1 1 1 0 1 1 0 1 1 1 0 1 0 0 1 0 0 1 0 0 0 0 0 0 1]\n"
     ]
    }
   ],
   "source": [
    "print(prediction)\n",
    "print(Y_test) #on voit qu'il fait 1 faute"
   ]
  },
  {
   "cell_type": "markdown",
   "metadata": {},
   "source": [
    "L’évaluation du modèle de classification se fait par la mesure de la fraction de prédiction correcte : c’est la “precision” du modèle **(accuracy) :**"
   ]
  },
  {
   "cell_type": "code",
   "execution_count": 28,
   "metadata": {},
   "outputs": [
    {
     "data": {
      "text/plain": [
       "0.96"
      ]
     },
     "execution_count": 28,
     "metadata": {},
     "output_type": "execute_result"
    }
   ],
   "source": [
    "np.mean(prediction == Y_test) #représente le taux de réussite sur le test final"
   ]
  },
  {
   "cell_type": "markdown",
   "metadata": {},
   "source": [
    "Il existe également une fonction, ``score``, que tout classifieur de scikit-learn peut appliquer aux données de test :"
   ]
  },
  {
   "cell_type": "code",
   "execution_count": 29,
   "metadata": {},
   "outputs": [
    {
     "data": {
      "text/plain": [
       "0.96"
      ]
     },
     "execution_count": 29,
     "metadata": {},
     "output_type": "execute_result"
    }
   ],
   "source": [
    "modele.score(X_test, Y_test) #représente le taux de réussite sur le test final"
   ]
  },
  {
   "cell_type": "markdown",
   "metadata": {},
   "source": [
    "Il est souvent utile de comparer les performances de généralisation et celle de l’apprentissage :"
   ]
  },
  {
   "cell_type": "code",
   "execution_count": 30,
   "metadata": {},
   "outputs": [
    {
     "data": {
      "text/plain": [
       "0.9333333333333333"
      ]
     },
     "execution_count": 30,
     "metadata": {},
     "output_type": "execute_result"
    }
   ],
   "source": [
    "modele.score(X_train, Y_train) #si il ya sur apprentissage on serait à 1, représente le taux de réussite sur l'apprentissage"
   ]
  },
  {
   "cell_type": "markdown",
   "metadata": {},
   "source": [
    "La régression logistique est un modèle dit linéaire, ce qui implique qu’il va créer un outil de decision linéaire dans le plan des données d’entrée. En 2 dimensions, cela veut simplement dire que le modèle va tracer une droite qui sépare le “bleu” du “rouge” :"
   ]
  },
  {
   "cell_type": "code",
   "execution_count": 31,
   "metadata": {},
   "outputs": [
    {
     "data": {
      "image/png": "[encoded data removed]",
      "text/plain": [
       "<Figure size 432x288 with 1 Axes>"
      ]
     },
     "metadata": {},
     "output_type": "display_data"
    }
   ],
   "source": [
    "from figures import plot_2d_separator\n",
    "\n",
    "plt.scatter(X[Y == 0, 0], X[Y == 0, 1], \n",
    "            c='blue', s=40, label='0')\n",
    "plt.scatter(X[Y == 1, 0], X[Y == 1, 1], \n",
    "            c='red', s=40, label='1', marker='s')\n",
    "\n",
    "plt.xlabel('Première caractéristique')\n",
    "plt.ylabel('Deuxième caractéristique')\n",
    "plot_2d_separator(modele, X)\n",
    "plt.legend(loc='upper right');"
   ]
  },
  {
   "cell_type": "markdown",
   "metadata": {},
   "source": [
    "**Paramètres de régression :** Tous les paramètres du modèle sont des attributs de l’objet estimator se terminant par un underscore. Voici les coefficients de la droite obtenue :"
   ]
  },
  {
   "cell_type": "code",
   "execution_count": 36,
   "metadata": {},
   "outputs": [
    {
     "name": "stdout",
     "output_type": "stream",
     "text": [
      "[[ 0.37276445 -2.25942572]]\n",
      "[5.69346378]\n"
     ]
    }
   ],
   "source": [
    "print(modele.coef_)\n",
    "print(modele.intercept_)"
   ]
  },
  {
   "cell_type": "code",
   "execution_count": 37,
   "metadata": {},
   "outputs": [
    {
     "name": "stdout",
     "output_type": "stream",
     "text": [
      "[[12  1]\n",
      " [ 0 12]]\n"
     ]
    }
   ],
   "source": [
    "from sklearn import metrics\n",
    "print(metrics.confusion_matrix(Y_test, prediction))"
   ]
  },
  {
   "cell_type": "code",
   "execution_count": 38,
   "metadata": {},
   "outputs": [],
   "source": [
    "confusion = metrics.confusion_matrix(Y_test, prediction)\n",
    "TP = confusion[1][1]\n",
    "TN = confusion[0][0]\n",
    "FP = confusion[0][1]\n",
    "FN = confusion[1][0]"
   ]
  },
  {
   "cell_type": "code",
   "execution_count": 39,
   "metadata": {},
   "outputs": [
    {
     "name": "stdout",
     "output_type": "stream",
     "text": [
      "True Positives: 12\n",
      "True Negatives: 12\n",
      "False Positives: 1\n",
      "False Negatives: 0\n"
     ]
    }
   ],
   "source": [
    "print('True Positives:', TP)\n",
    "print('True Negatives:', TN)\n",
    "print('False Positives:', FP)\n",
    "print('False Negatives:', FN)"
   ]
  },
  {
   "cell_type": "markdown",
   "metadata": {},
   "source": [
    "### Exercice : Affaires conjugales"
   ]
  },
  {
   "cell_type": "code",
   "execution_count": null,
   "metadata": {},
   "outputs": [],
   "source": []
  },
  {
   "cell_type": "code",
   "execution_count": null,
   "metadata": {},
   "outputs": [],
   "source": []
  }
 ],
 "metadata": {
  "anaconda-cloud": {},
  "kernelspec": {
   "display_name": "Python 3",
   "language": "python",
   "name": "python3"
  },
  "language_info": {
   "codemirror_mode": {
    "name": "ipython",
    "version": 3
   },
   "file_extension": ".py",
   "mimetype": "text/x-python",
   "name": "python",
   "nbconvert_exporter": "python",
   "pygments_lexer": "ipython3",
   "version": "3.8.3"
  }
 },
 "nbformat": 4,
 "nbformat_minor": 1
}

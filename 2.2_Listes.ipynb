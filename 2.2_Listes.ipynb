{
 "cells": [
  {
   "cell_type": "markdown",
   "metadata": {},
   "source": [
    "<img src = \"images/logos.png\" width = 600, align = \"center\">\n",
    "<br>\n",
    "\n",
    "<h1 align=center><font size = 5>PYTHON - LES TABLEAUX</font></h1>"
   ]
  },
  {
   "cell_type": "markdown",
   "metadata": {},
   "source": [
    "\n",
    "## Contenu\n",
    "\n",
    "\n",
    "<div class=\"alert alert-block alert-info\" style=\"margin-top: 20px\">\n",
    "<ul>\n",
    "    <li><a href=\"#ref0\">Présentation du jeu de données</a></li>\n",
    "<li><a href=\"#ref1\">Les Tableaux (Lists)</a></li>\n",
    "<li><a href=\"#ref2\">Quiz</a></li>\n",
    "    </ul>\n",
    "Durée estimée: <strong>15 min</strong>\n",
    "</div>\n",
    "\n",
    "<hr>"
   ]
  },
  {
   "cell_type": "markdown",
   "metadata": {},
   "source": [
    "<a id=\"ref0\"></a>\n",
    "<center><h2>Le jeu de données</h2></center>"
   ]
  },
  {
   "cell_type": "markdown",
   "metadata": {},
   "source": [
    "Vous collectionnez les films de James Bond et récupérer une base de données contenant des informations sur la filmographie complète de l'agent 007.\n",
    "\n",
    "La table est composée d'une ligne par film et caractérise un film par :\n",
    "\n",
    "- **Numero**\n",
    "- **Titre original**\n",
    "- **Annee** - Année de sortie\n",
    "- **Realisateur**\n",
    "- **Acteur**\n",
    "- **Compositeur**\n",
    "- **Interprete**\n",
    "- **Budget**\n",
    "- **Total_box_office**\n",
    "- **Box_office_france**\n",
    "- **Note**\n",
    "<br>\n",
    "<br>\n",
    "\n",
    "Le jeu de données est visisble ci-dessous :\n",
    "<font size=\"1\">\n",
    "<table font-size:xx-small style=\"width:90%\">\n",
    "<caption>\n",
    "</caption>\n",
    "<tbody><tr>\n",
    "<th align=\"center\">Numéro\n",
    "</th>\n",
    "<th align=\"center\">Titre original\n",
    "</th>\n",
    "<th>Année\n",
    "</th>\n",
    "<th>Réalisateur\n",
    "</th>\n",
    "<th align=\"center\">Acteur\n",
    "</th>\n",
    "<th>Compositeur\n",
    "</th>\n",
    "<th>Interprète<br/>du générique\n",
    "</th>\n",
    "<th>Budget<br />(USD)\n",
    "</th>\n",
    "<th>Total Box-office<br/>(USD)\n",
    "</th>\n",
    "<th>Box-office<br/>France\n",
    "</th>\n",
    "<th>Note\n",
    "</th></tr>\n",
    "<tr>\n",
    "<td>1\n",
    "</td>\n",
    "<td>Dr. No\n",
    "</td>\n",
    "<td>1962\n",
    "</td>\n",
    "<td>Terence Young\n",
    "</td>\n",
    "<td>Sean Connery\n",
    "</td>\n",
    "<td>Monty Norman\n",
    "</td>\n",
    "<td>\n",
    "</td>\n",
    "<td align=\"right\">1000000\n",
    "</td>\n",
    "<td align=\"right\">59600000\n",
    "</td>\n",
    "<td align=\"right\">4772547\n",
    "</td>\n",
    "<td>6.8\n",
    "</td></tr>\n",
    "<tr>\n",
    "<td>2\n",
    "</td>\n",
    "<td><i>From Russia with Love</i>\n",
    "</td>\n",
    "<td>1963\n",
    "</td>\n",
    "<td>Terence Young\n",
    "</td>\n",
    "<td>Sean Connery\n",
    "</td>\n",
    "<td>John Barry\n",
    "</td>\n",
    "<td>Matt Monro\n",
    "</td>\n",
    "<td align=\"right\">2500000\n",
    "</td>\n",
    "<td align=\"right\">78900000\n",
    "</td>\n",
    "<td align=\"right\">5623391\n",
    "</td>\n",
    "<td>6.8\n",
    "</td>\n",
    "</tr>\n",
    "<tr>\n",
    "<td>3\n",
    "</td>\n",
    "<td><i>Goldfinger</i>\n",
    "</td>\n",
    "<td>1964\n",
    "</td>\n",
    "<td>Guy Hamilton\n",
    "</td>\n",
    "<td>Sean Connery\n",
    "</td>\n",
    "<td>John Barry\n",
    "</td>\n",
    "<td>Shirley Bassey\n",
    "</td>\n",
    "<td align=\"right\">3500000\n",
    "</td>\n",
    "<td align=\"right\">124900000\n",
    "</td>\n",
    "<td align=\"right\">6675099\n",
    "</td>\n",
    "<td>7.2\n",
    "</td>\n",
    "</tr>\n",
    "<tr>\n",
    "<td>4\n",
    "</td>\n",
    "<td><i>Thunderball</i>\n",
    "</td>\n",
    "<td>1965\n",
    "</td>\n",
    "<td>Terence Young\n",
    "</td>\n",
    "<td>Sean Connery\n",
    "</td>\n",
    "<td>John Barry\n",
    "</td>\n",
    "<td>Tom Jones\n",
    "</td>\n",
    "<td align=\"right\">5600000\n",
    "</td>\n",
    "<td align=\"right\">141200000\n",
    "</td>\n",
    "<td align=\"right\">55734842\n",
    "</td>\n",
    "<td>6.7\n",
    "</td></tr>\n",
    "<tr>\n",
    "<td>5\n",
    "</td>\n",
    "<td>You Only Live Twice\n",
    "</td>\n",
    "<td>1967\n",
    "</td>\n",
    "<td>Lewis Gilbert\n",
    "</td>\n",
    "<td>Sean Connery\n",
    "</td>\n",
    "<td>John Barry\n",
    "</td>\n",
    "<td>Nancy Sinatra\n",
    "</td>\n",
    "<td align=\"right\">9500000\n",
    "</td>\n",
    "<td align=\"right\">111600000\n",
    "</td>\n",
    "<td align=\"right\">4489249\n",
    "</td>\n",
    "<td>6.5\n",
    "</td></tr>\n",
    "<tr>\n",
    "<td>6\n",
    "</td>\n",
    "<td>On Her Majesty's Secret Service\n",
    "</td>\n",
    "<td>1969\n",
    "</td>\n",
    "<td>Peter Roger Hunt\n",
    "</td>\n",
    "<td>George Lazenby\n",
    "</td>\n",
    "<td>John Barry\n",
    "</td>\n",
    "<td>Louis Armstrong\n",
    "</td>\n",
    "<td align=\"right\">7000000\n",
    "</td>\n",
    "<td align=\"right\">87400000\n",
    "</td>\n",
    "\n",
    "<td align=\"right\">1958172\n",
    "</td>\n",
    "<td>6.4\n",
    "</td></tr>\n",
    "<tr>\n",
    "<td>7\n",
    "</td>\n",
    "<td>Diamonds are forever\n",
    "</td>\n",
    "<td>1971\n",
    "</td>\n",
    "<td>Guy Hamilton\n",
    "</td>\n",
    "<td>Sean Connery\n",
    "</td>\n",
    "<td>John Barry\n",
    "</td>\n",
    "<td>Shirley Bassey\n",
    "</td>\n",
    "<td align=\"right\">7200000\n",
    "</td>\n",
    "<td align=\"right\">116000000\n",
    "</td>\n",
    "<td align=\"right\">2493739\n",
    "</td>\n",
    "<td>6.2\n",
    "</td></tr>\n",
    "<tr>\n",
    "<td>8\n",
    "</td>\n",
    "<td>Live and Let Die\n",
    "</td>\n",
    "<td>1973\n",
    "</td>\n",
    "<td>Guy Hamilton\n",
    "</td>\n",
    "<td>Roger Moore\n",
    "</td>\n",
    "<td>George Martin\n",
    "</td>\n",
    "<td>Paul McCartney\n",
    "<p>Wings\n",
    "</p>\n",
    "</td>\n",
    "<td align=\"right\">7000000\n",
    "</td>\n",
    "<td align=\"right\">161800000\n",
    "</td>\n",
    "<td align=\"right\">3053913\n",
    "</td>\n",
    "<td>6.1\n",
    "</td></tr>\n",
    "<tr>\n",
    "<td>9\n",
    "</td>\n",
    "<td>The Man with the Golden Gun\n",
    "</td>\n",
    "<td>1974\n",
    "</td>\n",
    "    <td>Guy Hamilton\n",
    "</td>\n",
    "    <td>Roger Moore\n",
    "</td>\n",
    "<td>John Barry\n",
    "</td>\n",
    "<td>Lulu\n",
    "</td>\n",
    "<td align=\"right\">7000000\n",
    "</td>\n",
    "<td align=\"right\">97600000\n",
    "</td>\n",
    "<td align=\"right\">2873898\n",
    "</td>\n",
    "<td>6.2\n",
    "</td></tr>\n",
    "<tr>\n",
    "<td>10\n",
    "</td>\n",
    "<td>The Spy Who Loved Me\n",
    "</td>\n",
    "<td>1977\n",
    "</td>\n",
    "<td>Lewis Gilbert\n",
    "</td>\n",
    "<td>Roger Moore\n",
    "</td>\n",
    "<td>Marvin Hamlisch\n",
    "</td>\n",
    "<td>Carly Simon\n",
    "</td>\n",
    "<td align=\"right\">14000000\n",
    "</td>\n",
    "<td align=\"right\">185400000\n",
    "</td>\n",
    "<td align=\"right\">3500993\n",
    "</td>\n",
    "<td>6.4\n",
    "</td></tr>\n",
    "<tr>\n",
    "<td>11\n",
    "</td>\n",
    "<td>Moonraker\n",
    "</td>\n",
    "<td>1979\n",
    "</td>\n",
    "<td>Lewis Gilbert\n",
    "</td>\n",
    "<td>Roger Moore\n",
    "</td>\n",
    "<td>John Barry\n",
    "</td>\n",
    "<td>Shirley Bassey\n",
    "</td>\n",
    "<td align=\"right\">34000000\n",
    "</td>\n",
    "<td align=\"right\">210300000\n",
    "</td>\n",
    "<td align=\"right\">3171274\n",
    "</td>\n",
    "<td>5.8\n",
    "</td></tr>\n",
    "<tr>\n",
    "<td>12\n",
    "</td>\n",
    "<td>For Your Eyes Only\n",
    "</td>\n",
    "<td>1981\n",
    "</td>\n",
    "<td>John Glen\n",
    "</td>\n",
    "<td>Roger Moore\n",
    "</td>\n",
    "<td>Bill Conti\n",
    "</td>\n",
    "<td>Sheena Easton\n",
    "</td>\n",
    "<td align=\"right\">28000000\n",
    "</td>\n",
    "<td align=\"right\">195300000\n",
    "</td>\n",
    "<td align=\"right\">3181840\n",
    "</td>\n",
    "<td>6.0\n",
    "</td></tr>\n",
    "<tr>\n",
    "<td>13\n",
    "</td>\n",
    "<td><i>Octopussy</i>\n",
    "</td>\n",
    "<td>1983\n",
    "</td>\n",
    "<td>John Glen\n",
    "</td>\n",
    "<td>Roger Moore\n",
    "</td>\n",
    "<td>John Barry\n",
    "</td>\n",
    "<td>Rita Coolidge\n",
    "</td>\n",
    "<td align=\"right\">27500000\n",
    "</td>\n",
    "<td align=\"right\">187500000\n",
    "</td>\n",
    "<td align=\"right\">2944481\n",
    "</td>\n",
    "<td>6.0\n",
    "</td></tr>\n",
    "<tr>\n",
    "<td>14\n",
    "</td>\n",
    "<td><i>A View to a Kill</i>\n",
    "</td>\n",
    "<td>1985\n",
    "</td>\n",
    "    <td>John Glen\n",
    "</td>\n",
    "    <td>Roger Moore\n",
    "</td>\n",
    "    <td>John Barry\n",
    "</td>\n",
    "<td>Duran Duran\n",
    "</td>\n",
    "<td align=\"right\">30000000\n",
    "</td>\n",
    "<td align=\"right\">152400000\n",
    "</td>\n",
    "<td align=\"right\">2423306\n",
    "</td>\n",
    "<td>5.9\n",
    "</td></tr>\n",
    "<tr>\n",
    "<td>15\n",
    "</td>\n",
    "<td>The Living Daylights\n",
    "</td>\n",
    "<td>1987\n",
    "</td>\n",
    "<td>John Glen\n",
    "</td>\n",
    "<td>Timothy Dalton\n",
    "</td>\n",
    "    <td>John Barry\n",
    "</td>\n",
    "<td>a-ha\n",
    "</td>\n",
    "<td align=\"right\">40000000\n",
    "</td>\n",
    "<td align=\"right\">191200000\n",
    "</td>\n",
    "<td align=\"right\">1978347\n",
    "</td>\n",
    "<td>6.2\n",
    "</td></tr>\n",
    "<tr>\n",
    "<td>16\n",
    "</td>\n",
    "<td>Licence to Kill\n",
    "</td>\n",
    "<td>1989\n",
    "</td>\n",
    "<td>John Glen\n",
    "</td>\n",
    "<td>Timothy Dalton\n",
    "</td>\n",
    "<td>Michael Kamen\n",
    "</td>\n",
    "<td>Gladys Knight\n",
    "<p>Patti LaBelle\n",
    "</p>\n",
    "</td>\n",
    "<td align=\"right\">42000000\n",
    "</td>\n",
    "<td align=\"right\">156200000\n",
    "</td>\n",
    "<td align=\"right\">2110402\n",
    "</td>\n",
    "<td>6.2\n",
    "</td></tr>\n",
    "<tr>\n",
    "<td>17\n",
    "</td>\n",
    "<td>GoldenEye\n",
    "</td>\n",
    "<td>1995\n",
    "</td>\n",
    "<td>Martin Campbell\n",
    "</td>\n",
    "<td>Pierce Brosnan\n",
    "</td>\n",
    "<td>Eric Serra\n",
    "</td>\n",
    "<td>Tina Turner\n",
    "</td>\n",
    "<td align=\"right\">60000000\n",
    "</td>\n",
    "<td align=\"right\">353400000\n",
    "</td>\n",
    "<td align=\"right\">3493610\n",
    "</td>\n",
    "<td>6.6\n",
    "</td></tr>\n",
    "<tr>\n",
    "<td>18\n",
    "</td>\n",
    "<td>Tomorrow Never Dies\n",
    "</td>\n",
    "<td>1997\n",
    "</td>\n",
    "<td>Roger Spottiswoode\n",
    "</td>\n",
    "<td>Pierce Brosnan\n",
    "</td>\n",
    "<td>David Arnold\n",
    "</td>\n",
    "<td>Sheryl Crow\n",
    "</td>\n",
    "<td align=\"right\">110000000\n",
    "</td>\n",
    "<td align=\"right\">346600000\n",
    "</td>\n",
    "<td align=\"right\">3435210\n",
    "</td>\n",
    "<td>5.8\n",
    "</td></tr>\n",
    "<tr>\n",
    "<td>19\n",
    "</td>\n",
    "<td>The World Is Not Enough\n",
    "</td>\n",
    "<td>1999\n",
    "</td>\n",
    "<td>Michael Apted\n",
    "</td>\n",
    "<td>Pierce Brosnan\n",
    "</td>\n",
    "   <td>David Arnold\n",
    "</td>\n",
    "<td>Garbage\n",
    "</td>\n",
    "<td align=\"right\">135000000\n",
    "</td>\n",
    "<td align=\"right\">390000000\n",
    "</td>\n",
    "<td align=\"right\">3599609\n",
    "</td>\n",
    "<td>5.5\n",
    "</td></tr>\n",
    "<tr>\n",
    "<td>20\n",
    "</td>\n",
    "<td>Die Another Day\n",
    "</td>\n",
    "<td>2002\n",
    "</td>\n",
    "<td>Lee Tamahori\n",
    "</td>\n",
    "<td>Pierce Brosnan\n",
    "</td>\n",
    "<td>David Arnold\n",
    "</td>\n",
    "<td>Madonna\n",
    "</td>\n",
    "<td align=\"right\">142000000\n",
    "</td>\n",
    "<td align=\"right\">456000000\n",
    "</td>\n",
    "<td align=\"right\">4015654\n",
    "</td>\n",
    "<td>5.0\n",
    "</td></tr>\n",
    "<tr>\n",
    "<td>21\n",
    "</td>\n",
    "<td>Casino Royale\n",
    "</td>\n",
    "<td>2006\n",
    "</td>\n",
    "<td>Martin Campbell\n",
    "</td>\n",
    "<td>Daniel Craig\n",
    "</td>\n",
    "<td>David Arnold\n",
    "</td>\n",
    "<td>Chris Cornell\n",
    "</td>\n",
    "<td align=\"right\">140000000\n",
    "</td>\n",
    "<td align=\"right\">594293106\n",
    "</td>\n",
    "<td align=\"right\">3179519\n",
    "</td>\n",
    "<td>7.0\n",
    "</td></tr>\n",
    "<tr>\n",
    "<td>22\n",
    "</td>\n",
    "<td>Quantum of Solace\n",
    "</td>\n",
    "<td>2008\n",
    "</td>\n",
    "<td>Marc Forster\n",
    "</td>\n",
    "<td>Daniel Craig\n",
    "</td>\n",
    "<td>David Arnold\n",
    "</td>\n",
    "<td>Alicia Keys\n",
    "<p>Jack White\n",
    "</p>\n",
    "</td>\n",
    "<td align=\"right\">230000000\n",
    "</td>\n",
    "<td align=\"right\">586090627\n",
    "</td>\n",
    "<td align=\"right\">3715301\n",
    "</td>\n",
    "<td>5.4\n",
    "</td></tr>\n",
    "<tr>\n",
    "<td>23\n",
    "</td>\n",
    "<td>Skyfall\n",
    "</td>\n",
    "<td>2012\n",
    "</td>\n",
    "<td>Sam Mendes\n",
    "</td>\n",
    " <td>Daniel Craig\n",
    "</td>\n",
    "<td>Thomas Newman\n",
    "</td>\n",
    "    \n",
    "<td>Adele\n",
    "</td>\n",
    "<td align=\"right\">200000000\n",
    "</td>\n",
    "<td align=\"right\">1108346855\n",
    "</td>\n",
    "<td align=\"right\">7003902\n",
    "</td>\n",
    "<td>7.1\n",
    "</td></tr>\n",
    "<tr>\n",
    "<td>24\n",
    "</td>\n",
    "<td>Spectre\n",
    "</td>\n",
    "<td>2015\n",
    "</td>\n",
    "<td>Sam Mendes\n",
    "</td>\n",
    " <td>Daniel Craig\n",
    "</td>\n",
    "<td>Thomas Newman\n",
    "</td>\n",
    "<td>Sam Smith\n",
    "</td>\n",
    "<td align=\"right\">245000000\n",
    "</td>\n",
    "<td align=\"right\">880674175\n",
    "</td>\n",
    "<td align=\"right\">4978710\n",
    "</td>\n",
    "<td>5.8\n",
    "</td>\n",
    "</tr>\n",
    "<tr>\n",
    "<td>25\n",
    "</td>\n",
    "<td>Bond 25\n",
    "</td>\n",
    "<td>2020\n",
    "</td>\n",
    "<td>Cary Joji Fukunaga\n",
    "</td>\n",
    "<td align=\"right\">\n",
    "</td>\n",
    "<td align=\"right\">\n",
    "</td>\n",
    "<td align=\"right\">\n",
    "</td>\n",
    "<td align=\"right\">\n",
    "</td></tr></tbody></table></font>"
   ]
  },
  {
   "cell_type": "markdown",
   "metadata": {},
   "source": [
    "<hr>"
   ]
  },
  {
   "cell_type": "markdown",
   "metadata": {},
   "source": [
    "<a id=\"ref1\"></a>\n",
    "<center><h2>Tableaux - Lists</h2></center>\n",
    "\n",
    "Les tableaux ou encore lists sont des conteneurs acceptant des valeurs de types hétérogènes pouvant être des lists.Dans une list, les valeurs sont indéxées en partant de 0. Elles sont écrites en utilisant des crochets [... , ..., ...]\n"
   ]
  },
  {
   "cell_type": "code",
   "execution_count": 1,
   "metadata": {},
   "outputs": [
    {
     "data": {
      "text/plain": [
       "[2012, 'Daniel Craig', 7.1]"
      ]
     },
     "execution_count": 1,
     "metadata": {},
     "output_type": "execute_result"
    }
   ],
   "source": [
    "L=[2012, \"Daniel Craig\" , 7.1]\n",
    "L"
   ]
  },
  {
   "cell_type": "markdown",
   "metadata": {},
   "source": [
    "Les index négatifs sont autorisés :"
   ]
  },
  {
   "cell_type": "code",
   "execution_count": 2,
   "metadata": {},
   "outputs": [
    {
     "name": "stdout",
     "output_type": "stream",
     "text": [
      "2012 2012\n",
      "Daniel Craig Daniel Craig\n",
      "7.1 7.1\n"
     ]
    }
   ],
   "source": [
    "print(L[0],L[-3])\n",
    "print(L[1], L[-2])\n",
    "print(L[2], L[-1])"
   ]
  },
  {
   "cell_type": "markdown",
   "metadata": {},
   "source": [
    "#### Nesting:    "
   ]
  },
  {
   "cell_type": "code",
   "execution_count": 23,
   "metadata": {},
   "outputs": [],
   "source": [
    "L = [(2006,2018,2012,2015),\"Daniel Craig\", [7.0,5.4,7.1,5.8] ]"
   ]
  },
  {
   "cell_type": "markdown",
   "metadata": {},
   "source": [
    "#### Slicing"
   ]
  },
  {
   "cell_type": "code",
   "execution_count": 4,
   "metadata": {},
   "outputs": [
    {
     "data": {
      "text/plain": [
       "['Daniel Craig', [7.0, 5.4, 7.1, 5.8]]"
      ]
     },
     "execution_count": 4,
     "metadata": {},
     "output_type": "execute_result"
    }
   ],
   "source": [
    "L[1:3]"
   ]
  },
  {
   "cell_type": "markdown",
   "metadata": {},
   "source": [
    "#### L'ajout d'une valeur à une list se fait avec les méthodes `extend` ou `append` ou encore avec l'opérateur `+`"
   ]
  },
  {
   "cell_type": "code",
   "execution_count": 5,
   "metadata": {},
   "outputs": [
    {
     "data": {
      "text/plain": [
       "[(2006, 2018, 2012, 2015),\n",
       " ('Casino Royale', 'Qauntum of Solace', 'Skyfall', 'Spectre'),\n",
       " 'Daniel Craig',\n",
       " [7.0, 5.4, 7.1, 5.8]]"
      ]
     },
     "execution_count": 5,
     "metadata": {},
     "output_type": "execute_result"
    }
   ],
   "source": [
    "L = [(2006,2018,2012,2015)]\n",
    "L.extend([('Casino Royale', 'Qauntum of Solace','Skyfall', 'Spectre')])\n",
    "L.append('Daniel Craig')\n",
    "L += [[7.0, 5.4, 7.1, 5.8]]\n",
    "L"
   ]
  },
  {
   "cell_type": "markdown",
   "metadata": {},
   "source": [
    "Les lists sont mutables, les valeurs peuvent être modifiées (contrairement aux tuples) "
   ]
  },
  {
   "cell_type": "code",
   "execution_count": 6,
   "metadata": {},
   "outputs": [
    {
     "data": {
      "text/plain": [
       "[(2006, 2018, 2012, 2015),\n",
       " ('Casino Royale', 'Qauntum of Solace', 'Skyfall', 'Spectre'),\n",
       " 'Daniel Craig',\n",
       " [7.0, 5.4, 7.1, 6.2]]"
      ]
     },
     "execution_count": 6,
     "metadata": {},
     "output_type": "execute_result"
    }
   ],
   "source": [
    "L[3][3] = 6.2\n",
    "L"
   ]
  },
  {
   "cell_type": "markdown",
   "metadata": {},
   "source": [
    "La méthode **del** permet de supprimer un élèment de la list : `del(L[i])`"
   ]
  },
  {
   "cell_type": "markdown",
   "metadata": {},
   "source": [
    "**split** Conversion d'une chaine de caractère en list : "
   ]
  },
  {
   "cell_type": "code",
   "execution_count": 7,
   "metadata": {},
   "outputs": [
    {
     "data": {
      "text/plain": [
       "['Daniel', 'Craig']"
      ]
     },
     "execution_count": 7,
     "metadata": {},
     "output_type": "execute_result"
    }
   ],
   "source": [
    "'Daniel Craig'.split()\n"
   ]
  },
  {
   "cell_type": "markdown",
   "metadata": {},
   "source": [
    "Par défaut le caractère `espace` est utilisé pour le découpage mais il est possible d'en spécifier un différent :"
   ]
  },
  {
   "cell_type": "code",
   "execution_count": 8,
   "metadata": {},
   "outputs": [
    {
     "data": {
      "text/plain": [
       "['D', 'a', 'n', 'i', 'e', 'l']"
      ]
     },
     "execution_count": 8,
     "metadata": {},
     "output_type": "execute_result"
    }
   ],
   "source": [
    "'D,a,n,i,e,l'.split(',')"
   ]
  },
  {
   "cell_type": "markdown",
   "metadata": {},
   "source": [
    "**Egalité entre lists** :"
   ]
  },
  {
   "cell_type": "code",
   "execution_count": 9,
   "metadata": {},
   "outputs": [
    {
     "data": {
      "text/plain": [
       "[(2006, 2018, 2012, 2015),\n",
       " ('Casino Royale', 'Qauntum of Solace', 'Skyfall', 'Spectre'),\n",
       " 'Daniel Craig',\n",
       " [7.0, 5.4, 7.1, 6.2]]"
      ]
     },
     "execution_count": 9,
     "metadata": {},
     "output_type": "execute_result"
    }
   ],
   "source": [
    "L1 = L\n",
    "L1"
   ]
  },
  {
   "cell_type": "markdown",
   "metadata": {},
   "source": [
    "Tout changement dans L ou dans L1 se répercute automatiquement dans l'autre list : "
   ]
  },
  {
   "cell_type": "code",
   "execution_count": 14,
   "metadata": {},
   "outputs": [
    {
     "name": "stdout",
     "output_type": "stream",
     "text": [
      "L1[3]: [7.0, 5.5, 7.1, 6.2]\n",
      "L1[3]: [7.0, 5.2, 7.1, 6.2]\n"
     ]
    }
   ],
   "source": [
    "print('L1[3]:',L1[3])\n",
    "L[3][1]= 5.2\n",
    "print('L1[3]:',L1[3])"
   ]
  },
  {
   "cell_type": "markdown",
   "metadata": {},
   "source": [
    "Pour créer un clone indépendant d'une list on utilise la méthode suivante :"
   ]
  },
  {
   "cell_type": "code",
   "execution_count": 11,
   "metadata": {},
   "outputs": [
    {
     "data": {
      "text/plain": [
       "[(2006, 2018, 2012, 2015),\n",
       " ('Casino Royale', 'Qauntum of Solace', 'Skyfall', 'Spectre'),\n",
       " 'Daniel Craig',\n",
       " [7.0, 5.8, 7.1, 6.2]]"
      ]
     },
     "execution_count": 11,
     "metadata": {},
     "output_type": "execute_result"
    }
   ],
   "source": [
    "L1=L[:]\n",
    "L1"
   ]
  },
  {
   "cell_type": "markdown",
   "metadata": {},
   "source": [
    "Les deux lists sont alors indépendantes :  \n"
   ]
  },
  {
   "cell_type": "code",
   "execution_count": 13,
   "metadata": {},
   "outputs": [
    {
     "name": "stdout",
     "output_type": "stream",
     "text": [
      "L1[3]: [7.0, 5.8, 7.1, 6.2]\n",
      "L1[3]: [7.0, 5.5, 7.1, 6.2]\n"
     ]
    }
   ],
   "source": [
    "print('L1[3]:',L1[3])\n",
    "L[3][1]= 5.5\n",
    "print('L1[3]:',L1[3])"
   ]
  },
  {
   "cell_type": "markdown",
   "metadata": {},
   "source": [
    "D'autre méthodes sont disponibles pour la manipulation des listes : insert(), remove(), index(), count(), ...\n",
    "Voir la <a href=\"https://www.programiz.com/python-programming/methods/list/insert\">documentation</a> puis expérimenter chacune des méthodes dans le notebook."
   ]
  },
  {
   "cell_type": "markdown",
   "metadata": {},
   "source": [
    " <a id=\"ref2\"></a>\n",
    "<center><h2>Le petit Quiz</h2></center>"
   ]
  },
  {
   "cell_type": "markdown",
   "metadata": {},
   "source": [
    "#### Créer une list 'maListe' , contenant les valeurs suivantes 42, “Bonjour”, [2,4,6 ] et True. "
   ]
  },
  {
   "cell_type": "code",
   "execution_count": 39,
   "metadata": {},
   "outputs": [
    {
     "data": {
      "text/plain": [
       "[42, 'Bonjour', [2, 4, 6], True]"
      ]
     },
     "execution_count": 39,
     "metadata": {},
     "output_type": "execute_result"
    }
   ],
   "source": [
    "maListe = [42, \"Bonjour\", [2,4,6], True]\n",
    "maListe"
   ]
  },
  {
   "cell_type": "markdown",
   "metadata": {},
   "source": [
    " <div align=\"right\">\n",
    "<a href=\"#q1\" class=\"btn btn-default\" data-toggle=\"collapse\">Solution</a>\n",
    "</div>\n",
    "<div id=\"q1\" class=\"collapse\">\n",
    "```\n",
    "maListe=[42, 'Bonjour', [2,4,6 ] , True]\n",
    "maListe\n",
    "\n",
    "```\n",
    "</div>"
   ]
  },
  {
   "cell_type": "markdown",
   "metadata": {},
   "source": [
    "####  Afficher la 3ème valeur de 'maListe'"
   ]
  },
  {
   "cell_type": "code",
   "execution_count": 22,
   "metadata": {},
   "outputs": [
    {
     "data": {
      "text/plain": [
       "[2, 4, 6]"
      ]
     },
     "execution_count": 22,
     "metadata": {},
     "output_type": "execute_result"
    }
   ],
   "source": [
    "maListe [2]"
   ]
  },
  {
   "cell_type": "markdown",
   "metadata": {},
   "source": [
    " <div align=\"right\">\n",
    "<a href=\"#q2\" class=\"btn btn-default\" data-toggle=\"collapse\">Solution</a>\n",
    "</div>\n",
    "<div id=\"q2\" class=\"collapse\">\n",
    "```\n",
    "maListe[2]\n",
    "\n",
    "\n",
    "```\n",
    "</div>"
   ]
  },
  {
   "cell_type": "markdown",
   "metadata": {},
   "source": [
    "####  Extraire les élèments de 'maListe' du 2ème jusqu'à la fin "
   ]
  },
  {
   "cell_type": "code",
   "execution_count": 34,
   "metadata": {},
   "outputs": [
    {
     "data": {
      "text/plain": [
       "('Bonjour', [2, 4, 6], True)"
      ]
     },
     "execution_count": 34,
     "metadata": {},
     "output_type": "execute_result"
    }
   ],
   "source": [
    "maListe [1:]"
   ]
  },
  {
   "cell_type": "markdown",
   "metadata": {},
   "source": [
    " <div align=\"right\">\n",
    "<a href=\"#q3\" class=\"btn btn-default\" data-toggle=\"collapse\">Solution</a>\n",
    "</div>\n",
    "<div id=\"q3\" class=\"collapse\">\n",
    "```\n",
    "maListe[1:]\n",
    "\n",
    "```"
   ]
  },
  {
   "cell_type": "markdown",
   "metadata": {},
   "source": [
    "#### 4) Concatener ces dux listes :  maListe et saListe = [666, False]"
   ]
  },
  {
   "cell_type": "code",
   "execution_count": 40,
   "metadata": {},
   "outputs": [
    {
     "data": {
      "text/plain": [
       "[42, 'Bonjour', [2, 4, 6], True, 666, False]"
      ]
     },
     "execution_count": 40,
     "metadata": {},
     "output_type": "execute_result"
    }
   ],
   "source": [
    "saListe = [666,False] \n",
    "maListe.extend(saListe)\n",
    "maListe"
   ]
  },
  {
   "cell_type": "markdown",
   "metadata": {},
   "source": [
    " <div align=\"right\">\n",
    "<a href=\"#q4\" class=\"btn btn-default\" data-toggle=\"collapse\">Solution</a>\n",
    "</div>\n",
    "<div id=\"q4\" class=\"collapse\">\n",
    "```\n",
    "saListe = [666, False]\n",
    "maListe + saListe\n",
    "```"
   ]
  },
  {
   "cell_type": "markdown",
   "metadata": {
    "deletable": false,
    "editable": false
   },
   "source": [
    "<hr>\n",
    "Copyright &copy; 2020 Hatem & Driss @NEEDEMAND"
   ]
  }
 ],
 "metadata": {
  "celltoolbar": "Aucun(e)",
  "kernelspec": {
   "display_name": "Python 3",
   "language": "python",
   "name": "python3"
  },
  "language_info": {
   "codemirror_mode": {
    "name": "ipython",
    "version": 3
   },
   "file_extension": ".py",
   "mimetype": "text/x-python",
   "name": "python",
   "nbconvert_exporter": "python",
   "pygments_lexer": "ipython3",
   "version": "3.8.3"
  },
  "widgets": {
   "state": {},
   "version": "1.1.2"
  }
 },
 "nbformat": 4,
 "nbformat_minor": 2
}

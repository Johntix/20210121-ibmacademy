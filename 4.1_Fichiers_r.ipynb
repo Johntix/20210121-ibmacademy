{
 "cells": [
  {
   "cell_type": "markdown",
   "metadata": {
    "deletable": false,
    "editable": false
   },
   "source": [
    "<img src = \"images/logos.png\" width = 600, align = \"center\">\n",
    "\n",
    "<h1 align=center><font size = 5>PYTHON - LECTURE DE FICHIERS </font></h1>"
   ]
  },
  {
   "cell_type": "markdown",
   "metadata": {},
   "source": [
    "On s'interessera dans ce fichier à la lecture des fichier **.txt**"
   ]
  },
  {
   "cell_type": "markdown",
   "metadata": {},
   "source": [
    "<div class=\"alert alert-block alert-info\" style=\"margin-top: 20px\">\n",
    "<p></p>\n",
    "Durée éstimée: <strong>15 min</strong>"
   ]
  },
  {
   "cell_type": "markdown",
   "metadata": {},
   "source": [
    " <a id=\"ref1\"></a>\n",
    "<h2 align=center>Lecture des fichiers texte</h2>"
   ]
  },
  {
   "cell_type": "markdown",
   "metadata": {},
   "source": [
    "La lecture des fichiers texte se fait grâce à la méthode native **open**.<br>\n",
    "Cette méthode retourne un objet **File object** qui possède des attributs et des méthodes permettant de lire, sauvegarder et manipuler le fichier.<a href=\"https://www.tutorialspoint.com/python/file_methods.htm\">Doc</a><br>\n",
    "Le premier paramétre dont on a besoin est le chemin d'accès au fichier.\n",
    "Le deuxième, optionnel défini si le fichier sera ouvert en lecture *r ou en écriture w*"
   ]
  },
  {
   "cell_type": "markdown",
   "metadata": {},
   "source": [
    "<img src = \"images/openfile.png\" align = \"center\">"
   ]
  },
  {
   "cell_type": "markdown",
   "metadata": {},
   "source": [
    "**Lecture du fichier : ** "
   ]
  },
  {
   "cell_type": "code",
   "execution_count": 14,
   "metadata": {},
   "outputs": [],
   "source": [
    "chemin=\"data/monfichier.txt\"\n",
    "fichier = open(chemin,\"r\")"
   ]
  },
  {
   "cell_type": "markdown",
   "metadata": {},
   "source": [
    "On peut alors accèder aux attributs de l'objet `fichier`"
   ]
  },
  {
   "cell_type": "markdown",
   "metadata": {},
   "source": [
    "Le nom du fichier :"
   ]
  },
  {
   "cell_type": "code",
   "execution_count": 15,
   "metadata": {},
   "outputs": [
    {
     "data": {
      "text/plain": [
       "'data/monfichier.txt'"
      ]
     },
     "execution_count": 15,
     "metadata": {},
     "output_type": "execute_result"
    }
   ],
   "source": [
    "fichier.name"
   ]
  },
  {
   "cell_type": "markdown",
   "metadata": {},
   "source": [
    " Le mode d'ouverture :"
   ]
  },
  {
   "cell_type": "code",
   "execution_count": 16,
   "metadata": {},
   "outputs": [
    {
     "data": {
      "text/plain": [
       "'r'"
      ]
     },
     "execution_count": 16,
     "metadata": {},
     "output_type": "execute_result"
    }
   ],
   "source": [
    "fichier.mode"
   ]
  },
  {
   "cell_type": "markdown",
   "metadata": {},
   "source": [
    "On peut lire son contenu et le stocker dans une variable :"
   ]
  },
  {
   "cell_type": "code",
   "execution_count": 17,
   "metadata": {},
   "outputs": [
    {
     "data": {
      "text/plain": [
       "\"Une femme demande à son mari : \\n- Chéri, quel genre de femme préfères-tu ?\\nLes femmes belles ou intelligentes ?\\n- Aucune des deux, ma chérie... Tu sais bien que je n'aime que toi...\\nCommentaire : \\nCeci est une blague macho ! \\nC'est inadmissible'\\n\""
      ]
     },
     "execution_count": 17,
     "metadata": {},
     "output_type": "execute_result"
    }
   ],
   "source": [
    "contenu_fichier=fichier.read()\n",
    "contenu_fichier"
   ]
  },
  {
   "cell_type": "markdown",
   "metadata": {},
   "source": [
    "Les“\\n” indiquent à Python la présence d'une nouvelle ligne."
   ]
  },
  {
   "cell_type": "markdown",
   "metadata": {},
   "source": [
    "La méthode print permet d'afficher correctement le contenu"
   ]
  },
  {
   "cell_type": "code",
   "execution_count": 18,
   "metadata": {},
   "outputs": [
    {
     "name": "stdout",
     "output_type": "stream",
     "text": [
      "Une femme demande à son mari : \n",
      "- Chéri, quel genre de femme préfères-tu ?\n",
      "Les femmes belles ou intelligentes ?\n",
      "- Aucune des deux, ma chérie... Tu sais bien que je n'aime que toi...\n",
      "Commentaire : \n",
      "Ceci est une blague macho ! \n",
      "C'est inadmissible'\n",
      "\n"
     ]
    }
   ],
   "source": [
    "print(contenu_fichier)"
   ]
  },
  {
   "cell_type": "markdown",
   "metadata": {},
   "source": [
    "On peut tester le type du contenu : "
   ]
  },
  {
   "cell_type": "code",
   "execution_count": 19,
   "metadata": {},
   "outputs": [
    {
     "data": {
      "text/plain": [
       "str"
      ]
     },
     "execution_count": 19,
     "metadata": {},
     "output_type": "execute_result"
    }
   ],
   "source": [
    "type(contenu_fichier)"
   ]
  },
  {
   "cell_type": "markdown",
   "metadata": {},
   "source": [
    "**Il faut absolument fermer le fichier **"
   ]
  },
  {
   "cell_type": "code",
   "execution_count": 20,
   "metadata": {},
   "outputs": [],
   "source": [
    "fichier.close()"
   ]
  },
  {
   "cell_type": "code",
   "execution_count": 21,
   "metadata": {},
   "outputs": [
    {
     "data": {
      "text/plain": [
       "<_io.TextIOWrapper name='data/monfichier.txt' mode='r' encoding='cp1252'>"
      ]
     },
     "execution_count": 21,
     "metadata": {},
     "output_type": "execute_result"
    }
   ],
   "source": [
    "fichier"
   ]
  },
  {
   "cell_type": "markdown",
   "metadata": {},
   "source": [
    " <h3> Un meilleur moyen d'ouvrir un fichier : </h3>"
   ]
  },
  {
   "cell_type": "markdown",
   "metadata": {},
   "source": [
    "L'utilisation de l'instruction **with** statement et une meilleure alternative car elle ferme le fichier automatiquement même si le système a levé une exception. Toute la partie de code indentée sera exécutée et le fichier sera ensuite fermé.\n"
   ]
  },
  {
   "cell_type": "code",
   "execution_count": 22,
   "metadata": {},
   "outputs": [
    {
     "name": "stdout",
     "output_type": "stream",
     "text": [
      "Une femme demande à son mari : \n",
      "- Chéri, quel genre de femme préfères-tu ?\n",
      "Les femmes belles ou intelligentes ?\n",
      "- Aucune des deux, ma chérie... Tu sais bien que je n'aime que toi...\n",
      "Commentaire : \n",
      "Ceci est une blague macho ! \n",
      "C'est inadmissible'\n",
      "\n"
     ]
    }
   ],
   "source": [
    "with open(chemin,\"r\") as fichier:\n",
    "    contenu_fichier=fichier.read()\n",
    "    print(contenu_fichier)"
   ]
  },
  {
   "cell_type": "markdown",
   "metadata": {},
   "source": [
    "Le fichier est fermé et on peut le vérifier grâce à la commande : "
   ]
  },
  {
   "cell_type": "code",
   "execution_count": 23,
   "metadata": {},
   "outputs": [
    {
     "data": {
      "text/plain": [
       "True"
      ]
     },
     "execution_count": 23,
     "metadata": {},
     "output_type": "execute_result"
    }
   ],
   "source": [
    "fichier.closed"
   ]
  },
  {
   "cell_type": "markdown",
   "metadata": {},
   "source": [
    "**read(n)**"
   ]
  },
  {
   "cell_type": "markdown",
   "metadata": {},
   "source": [
    "La méthode read() peut ne concerner qu'un nombre limité de caractères. Dans ce cas elle peut être appelée plusieurs fois de suite pour lire le fichier par morceaux.\n"
   ]
  },
  {
   "cell_type": "code",
   "execution_count": 24,
   "metadata": {},
   "outputs": [
    {
     "name": "stdout",
     "output_type": "stream",
     "text": [
      "Une \n"
     ]
    }
   ],
   "source": [
    "with open(chemin,\"r\") as fichier:\n",
    "    print(fichier.read(4))"
   ]
  },
  {
   "cell_type": "code",
   "execution_count": 25,
   "metadata": {},
   "outputs": [
    {
     "name": "stdout",
     "output_type": "stream",
     "text": [
      "Une \n",
      "femme \n",
      "demande \n",
      "à son mari : \n",
      "- \n"
     ]
    }
   ],
   "source": [
    "with open(chemin,\"r\") as fichier:\n",
    "    print(fichier.read(4))\n",
    "    print(fichier.read(6))\n",
    "    print(fichier.read(8))\n",
    "    print(fichier.read(16))\n"
   ]
  },
  {
   "cell_type": "markdown",
   "metadata": {},
   "source": [
    "**Lecture d'une ligne** : `readline()`"
   ]
  },
  {
   "cell_type": "markdown",
   "metadata": {},
   "source": [
    "La méthode **readline()** permet de lire une ligne à la fois :"
   ]
  },
  {
   "cell_type": "code",
   "execution_count": 27,
   "metadata": {},
   "outputs": [
    {
     "name": "stdout",
     "output_type": "stream",
     "text": [
      "Première ligne: Une femme demande à son mari : \n",
      "\n",
      "Deuxième ligne - Chéri, quel genre de femme préfères-tu ?\n",
      "\n"
     ]
    }
   ],
   "source": [
    " with open(chemin,\"r\") as fichier:\n",
    "    print(\"Première ligne: \" + fichier.readline())\n",
    "    print(\"Deuxième ligne \" + fichier.readline())\n"
   ]
  },
  {
   "cell_type": "markdown",
   "metadata": {},
   "source": [
    " Une boucle permet alors d'afficher toutes les lignes avec un formattage personnalisé : \n"
   ]
  },
  {
   "cell_type": "code",
   "execution_count": 26,
   "metadata": {},
   "outputs": [
    {
     "name": "stdout",
     "output_type": "stream",
     "text": [
      "Iteration 0 : Une femme demande à son mari : \n",
      "\n",
      "Iteration 1 : - Chéri, quel genre de femme préfères-tu ?\n",
      "\n",
      "Iteration 2 : Les femmes belles ou intelligentes ?\n",
      "\n",
      "Iteration 3 : - Aucune des deux, ma chérie... Tu sais bien que je n'aime que toi...\n",
      "\n",
      "Iteration 4 : Commentaire : \n",
      "\n",
      "Iteration 5 : Ceci est une blague macho ! \n",
      "\n",
      "Iteration 6 : C'est inadmissible'\n",
      "\n"
     ]
    }
   ],
   "source": [
    " with open(chemin,\"r\") as fichier:\n",
    "        i=0;\n",
    "        for ligne in fichier:\n",
    "            print(\"Iteration\" ,str(i),\":\",ligne)\n",
    "            i=i+1;"
   ]
  },
  {
   "cell_type": "markdown",
   "metadata": {},
   "source": [
    "**Lecture des lignes** avec `readlines()`"
   ]
  },
  {
   "cell_type": "markdown",
   "metadata": {},
   "source": [
    "On peut utiliser la méthode **readlines()** pour stocker toutes les lignes dans une list: "
   ]
  },
  {
   "cell_type": "code",
   "execution_count": 28,
   "metadata": {},
   "outputs": [],
   "source": [
    "with open(chemin,\"r\") as fichier:\n",
    "    Fichier_List=fichier.readlines()"
   ]
  },
  {
   "cell_type": "markdown",
   "metadata": {},
   "source": [
    "Chaque élèment de la liste est une ligne du fichier :"
   ]
  },
  {
   "cell_type": "code",
   "execution_count": 29,
   "metadata": {},
   "outputs": [
    {
     "data": {
      "text/plain": [
       "'Une femme demande à son mari : \\n'"
      ]
     },
     "execution_count": 29,
     "metadata": {},
     "output_type": "execute_result"
    }
   ],
   "source": [
    "Fichier_List[0]"
   ]
  },
  {
   "cell_type": "code",
   "execution_count": 30,
   "metadata": {},
   "outputs": [
    {
     "data": {
      "text/plain": [
       "'- Chéri, quel genre de femme préfères-tu ?\\n'"
      ]
     },
     "execution_count": 30,
     "metadata": {},
     "output_type": "execute_result"
    }
   ],
   "source": [
    "Fichier_List[1]"
   ]
  },
  {
   "cell_type": "code",
   "execution_count": 31,
   "metadata": {},
   "outputs": [
    {
     "data": {
      "text/plain": [
       "'Les femmes belles ou intelligentes ?\\n'"
      ]
     },
     "execution_count": 31,
     "metadata": {},
     "output_type": "execute_result"
    }
   ],
   "source": [
    "Fichier_List[2]"
   ]
  },
  {
   "cell_type": "markdown",
   "metadata": {
    "deletable": false,
    "editable": false
   },
   "source": [
    "<hr>\n",
    "Copyright &copy; 2020 Hatem & Driss @NEEDEMAND"
   ]
  }
 ],
 "metadata": {
  "celltoolbar": "Aucun(e)",
  "kernelspec": {
   "display_name": "Python 3",
   "language": "python",
   "name": "python3"
  },
  "language_info": {
   "codemirror_mode": {
    "name": "ipython",
    "version": 3
   },
   "file_extension": ".py",
   "mimetype": "text/x-python",
   "name": "python",
   "nbconvert_exporter": "python",
   "pygments_lexer": "ipython3",
   "version": "3.8.3"
  },
  "widgets": {
   "state": {},
   "version": "1.1.2"
  }
 },
 "nbformat": 4,
 "nbformat_minor": 2
}

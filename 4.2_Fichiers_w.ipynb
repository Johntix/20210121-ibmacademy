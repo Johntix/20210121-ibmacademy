{
 "cells": [
  {
   "cell_type": "markdown",
   "metadata": {
    "deletable": false,
    "editable": false
   },
   "source": [
    "<img src = \"images/logos.png\" width = 600, align = \"center\">\n",
    "<br>\n",
    "\n",
    "<h1 align=center><font size = 5>PYTHON - ECRITURE ET ENREGISTREMENT DE FICHIERS</font></h1>"
   ]
  },
  {
   "cell_type": "markdown",
   "metadata": {},
   "source": [
    "<br>"
   ]
  },
  {
   "cell_type": "markdown",
   "metadata": {},
   "source": [
    "Ce notebook traitera de l'écriture et de l'enregistrement des fichiers  **.txt**. "
   ]
  },
  {
   "cell_type": "markdown",
   "metadata": {},
   "source": [
    "\n",
    "<div class=\"alert alert-block alert-info\" style=\"margin-top: 20px\">\n",
    "<p></p>\n",
    "Durée éstimée : <strong>15 min</strong>\n",
    "</div>\n",
    "\n",
    "<hr>"
   ]
  },
  {
   "cell_type": "markdown",
   "metadata": {},
   "source": [
    "<a id=\"ref3\"></a>\n",
    "<h2 align=center>Ecriture</h2>"
   ]
  },
  {
   "cell_type": "markdown",
   "metadata": {},
   "source": [
    "L'écriture dans un fichier se fait avec la méthode ** write()** .  Bien entendu il faut que le fichier soit ouvert en mode ecriture : **w**To write the mode, argument must be set to  write **w**."
   ]
  },
  {
   "cell_type": "code",
   "execution_count": 1,
   "metadata": {},
   "outputs": [],
   "source": [
    "with open('data/monfichier.txt','w') as ecriture_fichier:\n",
    "    ecriture_fichier.write(\"Commentaire :\\n\")"
   ]
  },
  {
   "cell_type": "markdown",
   "metadata": {},
   "source": [
    " Vérification :"
   ]
  },
  {
   "cell_type": "code",
   "execution_count": 2,
   "metadata": {},
   "outputs": [
    {
     "name": "stdout",
     "output_type": "stream",
     "text": [
      "Commentaire :\n",
      "\n"
     ]
    }
   ],
   "source": [
    "with open('data/monfichier.txt','r') as test_ecriture:\n",
    "    print(test_ecriture.read())"
   ]
  },
  {
   "cell_type": "markdown",
   "metadata": {},
   "source": [
    "**Horreur la blague a été éffacée **"
   ]
  },
  {
   "cell_type": "markdown",
   "metadata": {},
   "source": [
    "Il est possible d'ecrire plusieurs lignes :"
   ]
  },
  {
   "cell_type": "code",
   "execution_count": 3,
   "metadata": {},
   "outputs": [],
   "source": [
    "with open('data/monfichier.txt','w') as ecriture_fichier:\n",
    "    ecriture_fichier.write(\"Une femme demande à son mari : \\n\")\n",
    "    ecriture_fichier.write(\"- Chéri, quel genre de femme préfères-tu ?\\n\")\n",
    "    ecriture_fichier.write(\"Les femmes belles ou intelligentes ?\\n\")\n",
    "    ecriture_fichier.write(\"- Aucune des deux, ma chérie... Tu sais bien que je n'aime que toi...\\n\")"
   ]
  },
  {
   "cell_type": "code",
   "execution_count": 4,
   "metadata": {},
   "outputs": [
    {
     "name": "stdout",
     "output_type": "stream",
     "text": [
      "Une femme demande à son mari : \n",
      "- Chéri, quel genre de femme préfères-tu ?\n",
      "Les femmes belles ou intelligentes ?\n",
      "- Aucune des deux, ma chérie... Tu sais bien que je n'aime que toi...\n",
      "\n"
     ]
    }
   ],
   "source": [
    "with open('data/monfichier.txt','r') as test_ecriture:\n",
    "    print(test_ecriture.read())"
   ]
  },
  {
   "cell_type": "markdown",
   "metadata": {},
   "source": [
    " **Ajouter des lignes**<br>Il suffit de passer le paramètre d'ouverture à **a** pour append ::"
   ]
  },
  {
   "cell_type": "code",
   "execution_count": 5,
   "metadata": {},
   "outputs": [],
   "source": [
    "with open('data/monfichier.txt','a') as ecriture_fichier:\n",
    "    ecriture_fichier.write(\"Commentaire : \\n\")\n",
    "    ecriture_fichier.write(\"Ceci est une blague macho ! \\n\")\n",
    "    ecriture_fichier.write(\"C'est inadmissible'\\n\")"
   ]
  },
  {
   "cell_type": "markdown",
   "metadata": {},
   "source": [
    " You can verify the file has changed by running the following cell:"
   ]
  },
  {
   "cell_type": "code",
   "execution_count": 6,
   "metadata": {},
   "outputs": [
    {
     "name": "stdout",
     "output_type": "stream",
     "text": [
      "Une femme demande à son mari : \n",
      "- Chéri, quel genre de femme préfères-tu ?\n",
      "Les femmes belles ou intelligentes ?\n",
      "- Aucune des deux, ma chérie... Tu sais bien que je n'aime que toi...\n",
      "Commentaire : \n",
      "Ceci est une blague macho ! \n",
      "C'est inadmissible'\n",
      "\n"
     ]
    }
   ],
   "source": [
    "with open('data/monfichier.txt','r') as test_ecriture:\n",
    "    print(test_ecriture.read())"
   ]
  },
  {
   "cell_type": "markdown",
   "metadata": {},
   "source": [
    " **Passage d'un tableau à un fichier texte : **"
   ]
  },
  {
   "cell_type": "code",
   "execution_count": 7,
   "metadata": {},
   "outputs": [
    {
     "data": {
      "text/plain": [
       "[\"C'est la ligne A\\n\", \"C'est la ligne B\\n\", \"C'est la ligne C\\n\"]"
      ]
     },
     "execution_count": 7,
     "metadata": {},
     "output_type": "execute_result"
    }
   ],
   "source": [
    "Lignes=[\"C'est la ligne A\\n\",\"C'est la ligne B\\n\",\"C'est la ligne C\\n\"]\n",
    "Lignes"
   ]
  },
  {
   "cell_type": "code",
   "execution_count": 8,
   "metadata": {},
   "outputs": [
    {
     "name": "stdout",
     "output_type": "stream",
     "text": [
      "C'est la ligne A\n",
      "\n",
      "C'est la ligne B\n",
      "\n",
      "C'est la ligne C\n",
      "\n"
     ]
    }
   ],
   "source": [
    "with open('data/Exemple.txt','w') as ecriture_fichier:\n",
    "    for ligne in Lignes:\n",
    "        print(ligne)\n",
    "        ecriture_fichier.write(ligne)"
   ]
  },
  {
   "cell_type": "markdown",
   "metadata": {},
   "source": [
    "#### Copier un fichier"
   ]
  },
  {
   "cell_type": "markdown",
   "metadata": {},
   "source": [
    "La copie d'un fichier se fait en lisant le premier et en écrivant le contenu dans un deuxième :"
   ]
  },
  {
   "cell_type": "code",
   "execution_count": 9,
   "metadata": {},
   "outputs": [],
   "source": [
    "with open('data/Exemple.txt','r') as lecture:\n",
    "    with open('data/Exemple_copie.txt','w') as ecriture:\n",
    "          for ligne in lecture:\n",
    "                ecriture.write(ligne)"
   ]
  },
  {
   "cell_type": "markdown",
   "metadata": {},
   "source": [
    "We can read the file to see if everything works:"
   ]
  },
  {
   "cell_type": "code",
   "execution_count": 10,
   "metadata": {},
   "outputs": [
    {
     "name": "stdout",
     "output_type": "stream",
     "text": [
      "C'est la ligne A\n",
      "C'est la ligne B\n",
      "C'est la ligne C\n",
      "\n"
     ]
    }
   ],
   "source": [
    "with open('data/Exemple_copie.txt','r') as test_copie:\n",
    "    print(test_copie.read())"
   ]
  },
  {
   "cell_type": "markdown",
   "metadata": {},
   "source": [
    " Une fois ouverts et lu les fichiers peuvent être enregistrés sous d'autres formats tels que **.txt, .csv, .xls  etc**. "
   ]
  },
  {
   "cell_type": "code",
   "execution_count": 12,
   "metadata": {},
   "outputs": [],
   "source": [
    "with open('data/Exemple.txt','r') as lecture:\n",
    "    with open('data/Exemple_copie.csv','w') as ecriture:\n",
    "          for ligne in lecture :\n",
    "                ecriture.write(ligne)"
   ]
  },
  {
   "cell_type": "markdown",
   "metadata": {
    "deletable": false,
    "editable": false
   },
   "source": [
    "<hr>\n",
    "Copyright &copy; 2020 Hatem & Driss @NEEDEMAND"
   ]
  },
  {
   "cell_type": "code",
   "execution_count": null,
   "metadata": {},
   "outputs": [],
   "source": []
  },
  {
   "cell_type": "code",
   "execution_count": null,
   "metadata": {},
   "outputs": [],
   "source": []
  }
 ],
 "metadata": {
  "celltoolbar": "Aucun(e)",
  "kernelspec": {
   "display_name": "Python 3",
   "language": "python",
   "name": "python3"
  },
  "language_info": {
   "codemirror_mode": {
    "name": "ipython",
    "version": 3
   },
   "file_extension": ".py",
   "mimetype": "text/x-python",
   "name": "python",
   "nbconvert_exporter": "python",
   "pygments_lexer": "ipython3",
   "version": "3.8.3"
  },
  "widgets": {
   "state": {},
   "version": "1.1.2"
  }
 },
 "nbformat": 4,
 "nbformat_minor": 2
}

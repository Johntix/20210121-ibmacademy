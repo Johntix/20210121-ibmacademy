{
 "cells": [
  {
   "cell_type": "markdown",
   "metadata": {
    "deletable": false,
    "editable": false
   },
   "source": [
    "<img src = \"images/logos.png\" width = 600, align = \"center\">\n",
    "<br>\n",
    "\n",
    "<h1 align=center><font size = 5>PYTHON - LES DICTIONNAIRES</font></h1>"
   ]
  },
  {
   "cell_type": "markdown",
   "metadata": {},
   "source": [
    "\n",
    "## Contenu\n",
    "\n",
    "\n",
    "<div class=\"alert alert-block alert-info\" style=\"margin-top: 20px\">\n",
    "<ul>\n",
    "<li><a href=\"#ref2\">Dictionnaires</a></li>\n",
    "</ul>\n",
    "    <p></p>\n",
    "Durée estimée : <strong>20 min</strong>\n",
    "</div>\n",
    "\n",
    "<hr>"
   ]
  },
  {
   "cell_type": "markdown",
   "metadata": {},
   "source": [
    "<a id=\"ref2\"></a>\n",
    "<h2 align=center> Dictionnaires</h2>\n"
   ]
  },
  {
   "cell_type": "markdown",
   "metadata": {},
   "source": [
    "Un dictionnaire est un ensemble de couples (clé, valeur). Les clés sont uniques et peuvent être de type integer ou string et même tuple.\n",
    "Ils se définissent par des accolades : `{cle1 : val1 , cle2 : val2 , ....}`"
   ]
  },
  {
   "cell_type": "markdown",
   "metadata": {},
   "source": [
    "Exemple : "
   ]
  },
  {
   "cell_type": "code",
   "execution_count": 1,
   "metadata": {},
   "outputs": [
    {
     "data": {
      "text/plain": [
       "{'c1': 125,\n",
       " 'c2': '250',\n",
       " 'c3': [6, 6, 6],\n",
       " 'cle4': (4, 4, 4),\n",
       " 'k5': 5,\n",
       " (0, 1, 2): 750}"
      ]
     },
     "execution_count": 1,
     "metadata": {},
     "output_type": "execute_result"
    }
   ],
   "source": [
    "Dict={\"c1\":125,\"c2\":\"250\",\"c3\":[6,6,6],\"cle4\":(4,4,4),('k5'):5,(0,1,2):750}\n",
    "Dict"
   ]
  },
  {
   "cell_type": "markdown",
   "metadata": {},
   "source": [
    "L'accès aux valeurs passe par les clés associèes :"
   ]
  },
  {
   "cell_type": "code",
   "execution_count": 2,
   "metadata": {},
   "outputs": [
    {
     "data": {
      "text/plain": [
       "125"
      ]
     },
     "execution_count": 2,
     "metadata": {},
     "output_type": "execute_result"
    }
   ],
   "source": [
    "Dict[\"c1\"]"
   ]
  },
  {
   "cell_type": "code",
   "execution_count": 3,
   "metadata": {},
   "outputs": [
    {
     "data": {
      "text/plain": [
       "750"
      ]
     },
     "execution_count": 3,
     "metadata": {},
     "output_type": "execute_result"
    }
   ],
   "source": [
    "Dict[(0,1,2)]"
   ]
  },
  {
   "cell_type": "code",
   "execution_count": 112,
   "metadata": {},
   "outputs": [
    {
     "data": {
      "text/plain": [
       "{'Dr. No': '1962',\n",
       " 'From Russia with Love': '1963',\n",
       " 'Goldfinger': '1964',\n",
       " 'Thunderball': '1965',\n",
       " 'You only live twice': '1967',\n",
       " \"On Her Majesty's Secret Service\": '1969',\n",
       " 'Diamonds are forever': '1971',\n",
       " 'Live and Let Die': '1973'}"
      ]
     },
     "execution_count": 112,
     "metadata": {},
     "output_type": "execute_result"
    }
   ],
   "source": [
    "annee_film = {\"Dr. No\":\"1962\", \"From Russia with Love\":\"1963\",\n",
    "                    \"Goldfinger\":\"1964\", \"Thunderball\":\"1965\",\n",
    "                    \"You only live twice\":\"1967\",\"On Her Majesty's Secret Service\":\"1969\",\n",
    "                    \"Diamonds are forever\":\"1971\", \"Live and Let Die\":\"1973\"}\n",
    "annee_film"
   ]
  },
  {
   "cell_type": "markdown",
   "metadata": {},
   "source": [
    "Pour ceux qui ont déjà manipulé le langage PHP, il s'agit de l'équivalent du tableau associatif."
   ]
  },
  {
   "cell_type": "markdown",
   "metadata": {},
   "source": [
    "#### Quelles sont les clés de ce dictionnaire ?\n",
    "On peut utiliser la méthode `keys()`"
   ]
  },
  {
   "cell_type": "code",
   "execution_count": 8,
   "metadata": {},
   "outputs": [
    {
     "data": {
      "text/plain": [
       "dict_keys(['Dr. No', 'From Russia with Love', 'Goldfinger', 'Thunderball', 'You only live twice', \"On Her Majesty's Secret Service\", 'Diamonds are forever', 'Live and Let Die'])"
      ]
     },
     "execution_count": 8,
     "metadata": {},
     "output_type": "execute_result"
    }
   ],
   "source": [
    "annee_film.keys()"
   ]
  },
  {
   "cell_type": "markdown",
   "metadata": {},
   "source": [
    " <div align=\"right\">\n",
    "<a href=\"#Dict1\" class=\"btn btn-default\" data-toggle=\"collapse\">Solution</a>\n",
    "\n",
    "</div>\n",
    "<div id=\"Dict1\" class=\"collapse\">\n",
    "```\n",
    "Ce sont les titres de films\n",
    "```\n",
    "</div>"
   ]
  },
  {
   "cell_type": "markdown",
   "metadata": {},
   "source": [
    "####  Quelles sont les valeurs dans ce dictionnaire ?\n",
    "On peut utiliser la méthode `values()`"
   ]
  },
  {
   "cell_type": "code",
   "execution_count": 10,
   "metadata": {},
   "outputs": [
    {
     "data": {
      "text/plain": [
       "dict_values(['1962', '1963', '1964', '1965', '1967', '1969', '1971', '1973'])"
      ]
     },
     "execution_count": 10,
     "metadata": {},
     "output_type": "execute_result"
    }
   ],
   "source": [
    "annee_film.values()"
   ]
  },
  {
   "cell_type": "markdown",
   "metadata": {},
   "source": [
    " <div align=\"right\">\n",
    "<a href=\"#Dict2\" class=\"btn btn-default\" data-toggle=\"collapse\">Solution</a>\n",
    "\n",
    "</div>\n",
    "<div id=\"Dict2\" class=\"collapse\">\n",
    "```\n",
    "Ce sont les années de sortie.\n",
    "```\n",
    "</div>"
   ]
  },
  {
   "cell_type": "markdown",
   "metadata": {},
   "source": [
    "**Ajouter un couple (clé, valeur) : **"
   ]
  },
  {
   "cell_type": "code",
   "execution_count": 14,
   "metadata": {},
   "outputs": [
    {
     "data": {
      "text/plain": [
       "{'Dr. No': '1962',\n",
       " 'From Russia with Love': '1963',\n",
       " 'Thunderball': '1965',\n",
       " 'You only live twice': '1967',\n",
       " \"On Her Majesty's Secret Service\": '1969',\n",
       " 'Diamonds are forever': '1971',\n",
       " 'Live and Let Die': '1973',\n",
       " 'The man wiyh the golden gun': '1977',\n",
       " 'The man with the golden gun': '1977',\n",
       " 'The man with the golden gun 2': '1977'}"
      ]
     },
     "execution_count": 14,
     "metadata": {},
     "output_type": "execute_result"
    }
   ],
   "source": [
    "annee_film['The man with the golden gun 2']='1977'\n",
    "annee_film"
   ]
  },
  {
   "cell_type": "markdown",
   "metadata": {},
   "source": [
    "** Supprimer une entrée : **  "
   ]
  },
  {
   "cell_type": "code",
   "execution_count": 12,
   "metadata": {},
   "outputs": [
    {
     "data": {
      "text/plain": [
       "{'Dr. No': '1962',\n",
       " 'From Russia with Love': '1963',\n",
       " 'Thunderball': '1965',\n",
       " 'You only live twice': '1967',\n",
       " \"On Her Majesty's Secret Service\": '1969',\n",
       " 'Diamonds are forever': '1971',\n",
       " 'Live and Let Die': '1973',\n",
       " 'The man wiyh the golden gun': '1977'}"
      ]
     },
     "execution_count": 12,
     "metadata": {},
     "output_type": "execute_result"
    }
   ],
   "source": [
    "del(annee_film['Goldfinger'])\n",
    "annee_film"
   ]
  },
  {
   "cell_type": "markdown",
   "metadata": {},
   "source": [
    "**Vérifier l'existence d'un élèment :**"
   ]
  },
  {
   "cell_type": "code",
   "execution_count": 20,
   "metadata": {},
   "outputs": [
    {
     "data": {
      "text/plain": [
       "False"
      ]
     },
     "execution_count": 20,
     "metadata": {},
     "output_type": "execute_result"
    }
   ],
   "source": [
    "'Goldfinger' in annee_film"
   ]
  },
  {
   "cell_type": "markdown",
   "metadata": {},
   "source": [
    "##### a) Creer un dictionnaire, des dix plus anciens James Bond, 'notes_films' dans lequel les clés sont les titres de films et les valeurs sont les notes obtenues par chaque film"
   ]
  },
  {
   "cell_type": "code",
   "execution_count": 24,
   "metadata": {},
   "outputs": [
    {
     "data": {
      "text/plain": [
       "{'Dr. No': 6.8,\n",
       " 'From Russia with Love': 6.8,\n",
       " 'Goldfinger': 7.2,\n",
       " 'Thunderball': 6.7,\n",
       " 'You only live twice': 6.5,\n",
       " \"On Her Majesty's Secret Service\": 6.4,\n",
       " 'Diamonds are forever': 6.2,\n",
       " 'Live and Let Die': 6.2}"
      ]
     },
     "execution_count": 24,
     "metadata": {},
     "output_type": "execute_result"
    }
   ],
   "source": [
    "note_film = {\"Dr. No\":6.8, \"From Russia with Love\":6.8,\"Goldfinger\":7.2,\"Thunderball\":6.7,\"You only live twice\":6.5, \"On Her Majesty's Secret Service\":6.4,\"Diamonds are forever\":6.2, \"Live and Let Die\":6.2}\n",
    "note_film"
   ]
  },
  {
   "cell_type": "markdown",
   "metadata": {},
   "source": [
    "#### b) Afficher la note du film : \"Goldfinger\""
   ]
  },
  {
   "cell_type": "code",
   "execution_count": 36,
   "metadata": {},
   "outputs": [
    {
     "data": {
      "text/plain": [
       "7.2"
      ]
     },
     "execution_count": 36,
     "metadata": {},
     "output_type": "execute_result"
    }
   ],
   "source": [
    "note_film [\"Goldfinger\"]"
   ]
  },
  {
   "cell_type": "markdown",
   "metadata": {},
   "source": [
    "#### c)Consulter la <a href=\"https://www.programiz.com/python-programming/methods/dictionary\">documentation</a> puis :"
   ]
  },
  {
   "cell_type": "markdown",
   "metadata": {},
   "source": [
    "Ordonner 'notes_fimls' par ordre décroissant"
   ]
  },
  {
   "cell_type": "code",
   "execution_count": 79,
   "metadata": {},
   "outputs": [
    {
     "data": {
      "text/plain": [
       "[('Goldfinger', 7.2),\n",
       " ('Dr. No', 6.8),\n",
       " ('From Russia with Love', 6.8),\n",
       " ('Thunderball', 6.7),\n",
       " ('You only live twice', 6.5),\n",
       " (\"On Her Majesty's Secret Service\", 6.4),\n",
       " ('Diamonds are forever', 6.2),\n",
       " ('Live and Let Die', 6.2)]"
      ]
     },
     "execution_count": 79,
     "metadata": {},
     "output_type": "execute_result"
    }
   ],
   "source": [
    "#{k: v for k, v in sorted(note_film.items(), key=lambda item:item[1])}\n",
    "\n",
    "\n",
    "sorted(note_film.items(), key=lambda item:item[1], reverse=True)"
   ]
  },
  {
   "cell_type": "markdown",
   "metadata": {},
   "source": [
    "Donner les notes maxi et mini obtenues par les films."
   ]
  },
  {
   "cell_type": "code",
   "execution_count": 117,
   "metadata": {},
   "outputs": [
    {
     "name": "stdout",
     "output_type": "stream",
     "text": [
      "note mini : 6.2\n",
      "note maxi : 7.2\n"
     ]
    }
   ],
   "source": [
    "print(\"note mini : \"+str(min(list(note_film.values()))))\n",
    "print(\"note maxi : \"+str(max(list(note_film.values()))))\n",
    "\n",
    "#je transtype vers STR car mes values sont des floats (sur création de dictionnaire)"
   ]
  },
  {
   "cell_type": "markdown",
   "metadata": {},
   "source": [
    "Expliquer et donner un exemple d'utilisation de la méthode zip()"
   ]
  },
  {
   "cell_type": "code",
   "execution_count": 90,
   "metadata": {},
   "outputs": [
    {
     "name": "stdout",
     "output_type": "stream",
     "text": [
      "{'john': 15, 'ju': 18, 'jean': 20, 'loic': 24, 'vincent': 1}\n"
     ]
    }
   ],
   "source": [
    "keys=[\"john\",\"ju\",\"jean\",\"loic\",\"vincent\"]\n",
    "values=[15,18,20,24,1]\n",
    "\n",
    "z=zip(keys,values)\n",
    "print (dict(z))\n",
    "\n",
    "#si on demande un print z il dira simplement que c'est un zip sans lire ce qu'il y a demain\n",
    "\n",
    "#dézipper\n",
    "#k;v=zip(*list(z))"
   ]
  },
  {
   "cell_type": "markdown",
   "metadata": {
    "deletable": false,
    "editable": false
   },
   "source": [
    "<hr>\n",
    "Copyright &copy; 2020 Hatem & Driss @NEEDEMAND"
   ]
  }
 ],
 "metadata": {
  "celltoolbar": "Aucun(e)",
  "kernelspec": {
   "display_name": "Python 3",
   "language": "python",
   "name": "python3"
  },
  "language_info": {
   "codemirror_mode": {
    "name": "ipython",
    "version": 3
   },
   "file_extension": ".py",
   "mimetype": "text/x-python",
   "name": "python",
   "nbconvert_exporter": "python",
   "pygments_lexer": "ipython3",
   "version": "3.8.3"
  },
  "widgets": {
   "state": {},
   "version": "1.1.2"
  }
 },
 "nbformat": 4,
 "nbformat_minor": 2
}

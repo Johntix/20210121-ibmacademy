{
 "cells": [
  {
   "cell_type": "code",
   "execution_count": 1,
   "metadata": {},
   "outputs": [],
   "source": [
    "import numpy as np\n",
    "import PIL\n",
    "from PIL import Image\n",
    "import os\n",
    "from os import path\n",
    "\n",
    "\n",
    "# Chargement du jeu de données :\n",
    "def load_signaux(dir):\n",
    "    img_list = []\n",
    "    class_counter = 0\n",
    "    class_list = []\n",
    "    for i in os.listdir(dir):\n",
    "        if (path.isdir(path.join(dir, i))):\n",
    "            for j in os.listdir(path.join(dir, i)):\n",
    "                if (j.endswith('.ppm')):\n",
    "                    class_list.append(class_counter)\n",
    "                    img_list.append(np.array(Image.open(os.path.join(os.path.join(dir, i), j)).resize((28, 28))))\n",
    "            class_counter += 1\n",
    "    return np.array(img_list), np.array(class_list)\n"
   ]
  },
  {
   "cell_type": "code",
   "execution_count": 2,
   "metadata": {},
   "outputs": [],
   "source": [
    "import pandas as pd"
   ]
  },
  {
   "cell_type": "code",
   "execution_count": null,
   "metadata": {},
   "outputs": [],
   "source": []
  }
 ],
 "metadata": {
  "kernelspec": {
   "display_name": "Python 3",
   "language": "python",
   "name": "python3"
  },
  "language_info": {
   "codemirror_mode": {
    "name": "ipython",
    "version": 3
   },
   "file_extension": ".py",
   "mimetype": "text/x-python",
   "name": "python",
   "nbconvert_exporter": "python",
   "pygments_lexer": "ipython3",
   "version": "3.8.5"
  }
 },
 "nbformat": 4,
 "nbformat_minor": 4
}

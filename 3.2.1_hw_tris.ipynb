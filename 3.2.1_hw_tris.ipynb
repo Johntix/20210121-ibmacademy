{
 "cells": [
  {
   "cell_type": "markdown",
   "metadata": {
    "deletable": false,
    "editable": false
   },
   "source": [
    "<img src = \"images/logos.png\" width = 600, align = \"center\">\n",
    "<br>\n",
    "<h1 align=center><font size = 5>Méthodes de tri</font></h1>"
   ]
  },
  {
   "cell_type": "markdown",
   "metadata": {},
   "source": [
    "On souhaite écrire un petit programme qui vérifie que le tableau est trié. Il suffit de compléter le\n",
    "programme suivant :"
   ]
  },
  {
   "cell_type": "code",
   "execution_count": 13,
   "metadata": {},
   "outputs": [
    {
     "name": "stdout",
     "output_type": "stream",
     "text": [
      "le résultat est: False\n"
     ]
    }
   ],
   "source": [
    "liste = (1,3,2,4,6,5,7,9,8)\n",
    "len (liste)\n",
    "n= len(liste)\n",
    "resultat = True\n",
    "for i in range (0,n-1):\n",
    "    if (liste[i])>(liste[i+1]): \n",
    "        resultat = False\n",
    "        break\n",
    "print ('le résultat est:', resultat)\n"
   ]
  },
  {
   "cell_type": "markdown",
   "metadata": {},
   "source": [
    "Complétez le programe suivant pour obtenir la même chose qu’à la\n",
    "question précédente :"
   ]
  },
  {
   "cell_type": "code",
   "execution_count": 21,
   "metadata": {},
   "outputs": [
    {
     "name": "stdout",
     "output_type": "stream",
     "text": [
      "le tableau est-il trié :  False\n"
     ]
    }
   ],
   "source": [
    "liste = (1,4,2,3,6,5,7,8,9)\n",
    "n=len(liste)\n",
    "resultat = True\n",
    "i = 0\n",
    "while i < n-1 :\n",
    "    if liste[i] > liste[i+1] :\n",
    "        resultat = False\n",
    "        break\n",
    "    i=i+1\n",
    "print(\"le tableau est-il trié : \", resultat)"
   ]
  },
  {
   "cell_type": "markdown",
   "metadata": {},
   "source": [
    "### Recherche dichotomique"
   ]
  },
  {
   "cell_type": "markdown",
   "metadata": {},
   "source": [
    "La recherche dichotomique consiste à chercher un élément *x* dans un tableau trié\n",
    "On cherche sa position :\n",
    "- On commence par comparer *x* à l’élément placé au milieu du tableau d’indice m, s’ils sont égaux, on a trouvé,\n",
    "- s’il est inférieur, on sait qu’il se trouve entre les indices 0 et m-1,\n",
    "- s’il est supérieur, on sait qu’il se trouve entre les indices m+1 et la fin du tableau.\n",
    "\n",
    "Avec une comparaison, on a déjà éliminé une moitié de tableau dans laquelle on sait que *x* ne se trouve\n",
    "pas. On applique le même raisonnement à l’autre moitié pour réduire la partie du tableau dans laquelle\n",
    "on doit chercher.\n",
    "Il ne reste plus qu’à écrire le programme qui effectue cette recherche. On cherche à déterminer la position\n",
    "de l’élément *x* dans la liste L.\n",
    "On utilise les indications suivantes :\n",
    "- il y a une boucle, de préférence while\n",
    "- il y a deux tests\n",
    "- la liste des variables pourrait être *x*, L, a, b, m"
   ]
  },
  {
   "cell_type": "code",
   "execution_count": 36,
   "metadata": {},
   "outputs": [
    {
     "name": "stdout",
     "output_type": "stream",
     "text": [
      "la valeur à été trouvée et son indice est : 14\n"
     ]
    }
   ],
   "source": [
    "liste=(1,2,3,4,5,6,7,8,9,10,11,12,13,14,15)\n",
    "i=0\n",
    "n=len(liste)-1\n",
    "x=15\n",
    "while i<=n :\n",
    "    m=(i+n)//2\n",
    "    if liste[m] == x :\n",
    "        print(\"la valeur à été trouvée et son indice est :\", m)\n",
    "        break\n",
    "    elif liste[m] < x :\n",
    "        i = m+1\n",
    "    else :\n",
    "        n=m+1\n",
    "else :\n",
    "    print(\"la valeur n'est pas dans la liste\")"
   ]
  },
  {
   "cell_type": "markdown",
   "metadata": {},
   "source": [
    "Que se passe-t-il lorsqu’on cherche un élément qui ne se trouve pas dans le tableau ?"
   ]
  },
  {
   "cell_type": "markdown",
   "metadata": {},
   "source": []
  },
  {
   "cell_type": "markdown",
   "metadata": {},
   "source": [
    "### Le tri à bulle. "
   ]
  },
  {
   "cell_type": "markdown",
   "metadata": {},
   "source": [
    "On commence par la séquence logique suivante :\n",
    "1. On commence à i = 0\n",
    "2. On compare les éléments d’indice i et i+1.<br> Si le second est plus petit que le premier, on permute\n",
    "les deux nombres.\n",
    "3. On se décale en suite d’un cran à i+1.<br>Si i+1 < n−1, on retourne à l’étape 2."
   ]
  },
  {
   "cell_type": "markdown",
   "metadata": {},
   "source": [
    "Commencer par écrire une fonction permutation qui permute deux éléments d'une liste"
   ]
  },
  {
   "cell_type": "code",
   "execution_count": 63,
   "metadata": {},
   "outputs": [
    {
     "name": "stdout",
     "output_type": "stream",
     "text": [
      "[1, 5, 3, 8, 4, 9, 7, 2]\n",
      "[5, 1, 3, 8, 4, 9, 7, 2]\n"
     ]
    }
   ],
   "source": [
    "liste = [1,5,3,8,4,9,7,2]\n",
    "print(liste)\n",
    "\n",
    "def permutation(L, i, j) :\n",
    "    if (L != None) :\n",
    "        if (i<len(L) and j<len(L)) :\n",
    "            ibis = L[i]\n",
    "            L[i] = L[j]\n",
    "            L[j] = ibis\n",
    "        else :\n",
    "            print('les bornes sont incorrectes')\n",
    "    else :\n",
    "        print(\"la liste n'existe pas\")\n",
    "    \n",
    "    \n",
    "permutation(liste,0,1)\n",
    "print (liste)\n",
    "        "
   ]
  },
  {
   "cell_type": "markdown",
   "metadata": {},
   "source": [
    "On cherche à décomposer le problème en des fonctions aussi petites que possibles puis à les assembler par\n",
    "la suite pour former la séquence décrite ci-dessus.\n",
    "\n",
    "Ecrire une fonction qui compare deux éléments consécutifs et les permute s’ils sont dans le mauvais ordre.\n",
    "On utilisera la fonction `permutation`"
   ]
  },
  {
   "cell_type": "code",
   "execution_count": 104,
   "metadata": {},
   "outputs": [
    {
     "name": "stdout",
     "output_type": "stream",
     "text": [
      "[1, 5, 3, 8, 4, 9, 7, 2]\n",
      "[1, 5, 8, 3, 4, 9, 7, 2]\n",
      "[1, 5, 3, 8, 4, 9, 7, 2]\n"
     ]
    }
   ],
   "source": [
    "liste = [1,5,3,8,4,9,7,2]\n",
    "print(liste)\n",
    "\n",
    "def permutation(L, i, j) :\n",
    "    if (L != None) :\n",
    "        if (i<len(L) and j<len(L)) :\n",
    "            ibis = L[i]\n",
    "            L[i] = L[j]\n",
    "            L[j] = ibis\n",
    "        else :\n",
    "            print('les bornes sont incorrectes')\n",
    "    else :\n",
    "        print(\"la liste n'existe pas\")\n",
    "    \n",
    "    \n",
    "permutation(liste,2,3)\n",
    "print (liste)\n",
    "\n",
    "\n",
    "\n",
    "def compare_permute(L,i) :\n",
    "    if L[i]>L[i+1] :\n",
    "        permutation(L,i,(i+1))\n",
    "\n",
    "compare_permute(liste,2)\n",
    "print(liste)"
   ]
  },
  {
   "cell_type": "code",
   "execution_count": null,
   "metadata": {},
   "outputs": [],
   "source": []
  },
  {
   "cell_type": "markdown",
   "metadata": {},
   "source": [
    "on appelle la fonction compare_permute pour tous les entiers de i allant de 0 à len(L)−1."
   ]
  },
  {
   "cell_type": "code",
   "execution_count": 121,
   "metadata": {},
   "outputs": [
    {
     "name": "stdout",
     "output_type": "stream",
     "text": [
      "[1, 5, 3, 8, 4, 9, 7, 2]\n",
      "les valeurs sont déjà ordonnées\n",
      "les valeurs sont déjà ordonnées\n",
      "les valeurs sont déjà ordonnées\n",
      "[1, 3, 5, 4, 8, 7, 2, 9]\n"
     ]
    }
   ],
   "source": [
    "liste = [1,5,3,8,4,9,7,2]\n",
    "print(liste)\n",
    "\n",
    "def permutation(L, i, j) :\n",
    "    if (L != None) :\n",
    "        if (i<len(L) and j<len(L)) :\n",
    "            ibis = L[i]\n",
    "            L[i] = L[j]\n",
    "            L[j] = ibis\n",
    "        else :\n",
    "            print('les bornes sont incorrectes')\n",
    "    else :\n",
    "        print(\"la liste n'existe pas\")\n",
    "    \n",
    "    \n",
    "\n",
    "\n",
    "\n",
    "def compare_permute(L,i) :\n",
    "    if (L != None) :\n",
    "        if L[i]>L[i+1] :\n",
    "            permutation(L,i,(i+1))\n",
    "        else :\n",
    "            print(\"les valeurs sont déjà ordonnées\")\n",
    "    else :\n",
    "        print(\"la liste n'existe pas\")\n",
    "\n",
    "\n",
    "\n",
    "\n",
    "def many_compare_permute (L) :\n",
    "    n=len(liste)\n",
    "    for i in range (0,n-1) :\n",
    "        compare_permute(L,i)\n",
    "        \n",
    "many_compare_permute (liste)\n",
    "print(liste)"
   ]
  },
  {
   "cell_type": "markdown",
   "metadata": {},
   "source": [
    "Après l’exécution de la fonction `many_compare_permute` , peut-on considérer le tableau trié ?\n",
    "Pourquoi ?"
   ]
  },
  {
   "cell_type": "markdown",
   "metadata": {},
   "source": []
  },
  {
   "cell_type": "markdown",
   "metadata": {},
   "source": [
    "#### La fin\n",
    "Ecrire la fonction permettant de trier le tableau L par tri à bulle en utilisant les fonctions définies plus haut.\n",
    ":"
   ]
  },
  {
   "cell_type": "code",
   "execution_count": 8,
   "metadata": {},
   "outputs": [
    {
     "name": "stdout",
     "output_type": "stream",
     "text": [
      "[1, 5, 3, 8, 4, 9, 7, 2, 6]\n",
      "[1, 2, 3, 4, 5, 6, 7, 8, 9]\n"
     ]
    }
   ],
   "source": [
    "liste = [1,5,3,8,4,9,7,2,6]\n",
    "print(liste)\n",
    "\n",
    "\n",
    "def permutation(L, i, j) :\n",
    "            ibis = L[i]\n",
    "            L[i] = L[j]\n",
    "            L[j] = ibis\n",
    "            \n",
    "    \n",
    "def compare_permute(L,i) :\n",
    "        if L[i]>L[i+1] :\n",
    "            permutation(L,i,(i+1))\n",
    "        \n",
    "\n",
    "\n",
    "def many_compare_permute (L) :\n",
    "    n=len(L)\n",
    "    for i in range (0,n-1) :\n",
    "        compare_permute(L,i)\n",
    "        \n",
    "#dans le for on ne peut pas changer la valeur de i contrairement à while\n",
    "\n",
    "def tri_bulle(L):\n",
    "    n = len(L)\n",
    "    i=0\n",
    "    while i< (n-1):\n",
    "        if L[i]>L[i+1] :\n",
    "            many_compare_permute(L)\n",
    "            i=0\n",
    "        i = i+1\n",
    "            \n",
    "tri_bulle (liste)\n",
    "print (liste)\n",
    "            "
   ]
  },
  {
   "cell_type": "markdown",
   "metadata": {},
   "source": [
    "**Bonus**\n",
    "- Comptez le nombre de comparaisons de la précédente méthode ? Peut-on faire mieux et comment ?\n",
    "- Modifiez les fonctions précédentes pour diminuer le nombre de comparaisons ?"
   ]
  },
  {
   "cell_type": "code",
   "execution_count": null,
   "metadata": {
    "collapsed": true
   },
   "outputs": [],
   "source": [
    "Oui on peut faire mieux en utilisant sorted"
   ]
  },
  {
   "cell_type": "code",
   "execution_count": 27,
   "metadata": {},
   "outputs": [
    {
     "name": "stdout",
     "output_type": "stream",
     "text": [
      "[1, 2, 3, 4, 5, 6, 7, 8, 9]\n"
     ]
    }
   ],
   "source": [
    "liste = [1,5,3,8,4,9,7,2,6]\n",
    "liste.sort()\n",
    "print(liste)"
   ]
  },
  {
   "cell_type": "markdown",
   "metadata": {
    "deletable": false,
    "editable": false
   },
   "source": [
    "<hr>\n",
    "Copyright &copy; 2020 Hatem & Driss @NEEDEMAND"
   ]
  }
 ],
 "metadata": {
  "celltoolbar": "Aucun(e)",
  "kernelspec": {
   "display_name": "Python 3",
   "language": "python",
   "name": "python3"
  },
  "language_info": {
   "codemirror_mode": {
    "name": "ipython",
    "version": 3
   },
   "file_extension": ".py",
   "mimetype": "text/x-python",
   "name": "python",
   "nbconvert_exporter": "python",
   "pygments_lexer": "ipython3",
   "version": "3.8.3"
  }
 },
 "nbformat": 4,
 "nbformat_minor": 2
}

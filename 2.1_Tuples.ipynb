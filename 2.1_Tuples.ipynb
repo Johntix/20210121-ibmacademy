{
 "cells": [
  {
   "cell_type": "markdown",
   "metadata": {},
   "source": [
    "<img src = \"images/logos.png\" width = 600, align = \"center\">\n",
    "<br>\n",
    "\n",
    "<h1 align=center><font size = 5>PYTHON-Les Tuples</font></h1>"
   ]
  },
  {
   "cell_type": "markdown",
   "metadata": {},
   "source": [
    "\n",
    "## Contenu\n",
    "\n",
    "\n",
    "<div class=\"alert alert-block alert-info\" style=\"margin-top: 20px\">\n",
    "<ul><li><a href=\"#ref0\">Présentation du jeu de données</a></li>\n",
    "<li><a href=\"#ref1\">Les Tuples</a></li>\n",
    "<li><a href=\"#ref2\">Quiz</a></li>\n",
    "    </ul>\n",
    "Durée estimée: <strong>15 min</strong>\n",
    "</div>\n",
    "\n",
    "<hr>"
   ]
  },
  {
   "cell_type": "markdown",
   "metadata": {},
   "source": [
    "<a id=\"ref0\"></a>\n",
    "<center><h2>Le jeu de données</h2></center>"
   ]
  },
  {
   "cell_type": "markdown",
   "metadata": {},
   "source": [
    "Vous collectionnez les films de James Bond et récupérer une base de données contenant des informations sur la filmographie complète de l'agent 007.\n",
    "\n",
    "La table est composée d'une ligne par film et caractérise un film par :\n",
    "\n",
    "- **Numero**\n",
    "- **Titre original**\n",
    "- **Annee** - Année de sortie\n",
    "- **Realisateur**\n",
    "- **Acteur**\n",
    "- **Compositeur**\n",
    "- **Interprete**\n",
    "- **Budget**\n",
    "- **Total_box_office**\n",
    "- **Box_office_france**\n",
    "- **Note**\n",
    "<br>\n",
    "<br>\n",
    "\n",
    "Le jeu de données est visisble ci-dessous :\n",
    "<font size=\"1\">\n",
    "<table font-size:xx-small style=\"width:90%\">\n",
    "<caption>\n",
    "</caption>\n",
    "<tbody><tr>\n",
    "<th align=\"center\">Numéro\n",
    "</th>\n",
    "<th align=\"center\">Titre original\n",
    "</th>\n",
    "<th>Année\n",
    "</th>\n",
    "<th>Réalisateur\n",
    "</th>\n",
    "<th align=\"center\">Acteur\n",
    "</th>\n",
    "<th>Compositeur\n",
    "</th>\n",
    "<th>Interprète<br/>du générique\n",
    "</th>\n",
    "<th>Budget<br />(USD)\n",
    "</th>\n",
    "<th>Total Box-office<br/>(USD)\n",
    "</th>\n",
    "<th>Box-office<br/>France\n",
    "</th>\n",
    "<th>Note\n",
    "</th></tr>\n",
    "<tr>\n",
    "<td>1\n",
    "</td>\n",
    "<td>Dr. No\n",
    "</td>\n",
    "<td>1962\n",
    "</td>\n",
    "<td>Terence Young\n",
    "</td>\n",
    "<td>Sean Connery\n",
    "</td>\n",
    "<td>Monty Norman\n",
    "</td>\n",
    "<td>\n",
    "</td>\n",
    "<td align=\"right\">1000000\n",
    "</td>\n",
    "<td align=\"right\">59600000\n",
    "</td>\n",
    "<td align=\"right\">4772547\n",
    "</td>\n",
    "<td>6.8\n",
    "</td></tr>\n",
    "<tr>\n",
    "<td>2\n",
    "</td>\n",
    "<td><i>From Russia with Love</i>\n",
    "</td>\n",
    "<td>1963\n",
    "</td>\n",
    "<td>Terence Young\n",
    "</td>\n",
    "<td>Sean Connery\n",
    "</td>\n",
    "<td>John Barry\n",
    "</td>\n",
    "<td>Matt Monro\n",
    "</td>\n",
    "<td align=\"right\">2500000\n",
    "</td>\n",
    "<td align=\"right\">78900000\n",
    "</td>\n",
    "<td align=\"right\">5623391\n",
    "</td>\n",
    "<td>6.8\n",
    "</td>\n",
    "</tr>\n",
    "<tr>\n",
    "<td>3\n",
    "</td>\n",
    "<td><i>Goldfinger</i>\n",
    "</td>\n",
    "<td>1964\n",
    "</td>\n",
    "<td>Guy Hamilton\n",
    "</td>\n",
    "<td>Sean Connery\n",
    "</td>\n",
    "<td>John Barry\n",
    "</td>\n",
    "<td>Shirley Bassey\n",
    "</td>\n",
    "<td align=\"right\">3500000\n",
    "</td>\n",
    "<td align=\"right\">124900000\n",
    "</td>\n",
    "<td align=\"right\">6675099\n",
    "</td>\n",
    "<td>7.2\n",
    "</td>\n",
    "</tr>\n",
    "<tr>\n",
    "<td>4\n",
    "</td>\n",
    "<td><i>Thunderball</i>\n",
    "</td>\n",
    "<td>1965\n",
    "</td>\n",
    "<td>Terence Young\n",
    "</td>\n",
    "<td>Sean Connery\n",
    "</td>\n",
    "<td>John Barry\n",
    "</td>\n",
    "<td>Tom Jones\n",
    "</td>\n",
    "<td align=\"right\">5600000\n",
    "</td>\n",
    "<td align=\"right\">141200000\n",
    "</td>\n",
    "<td align=\"right\">55734842\n",
    "</td>\n",
    "<td>6.7\n",
    "</td></tr>\n",
    "<tr>\n",
    "<td>5\n",
    "</td>\n",
    "<td>You Only Live Twice\n",
    "</td>\n",
    "<td>1967\n",
    "</td>\n",
    "<td>Lewis Gilbert\n",
    "</td>\n",
    "<td>Sean Connery\n",
    "</td>\n",
    "<td>John Barry\n",
    "</td>\n",
    "<td>Nancy Sinatra\n",
    "</td>\n",
    "<td align=\"right\">9500000\n",
    "</td>\n",
    "<td align=\"right\">111600000\n",
    "</td>\n",
    "<td align=\"right\">4489249\n",
    "</td>\n",
    "<td>6.5\n",
    "</td></tr>\n",
    "<tr>\n",
    "<td>6\n",
    "</td>\n",
    "<td>On Her Majesty's Secret Service\n",
    "</td>\n",
    "<td>1969\n",
    "</td>\n",
    "<td>Peter Roger Hunt\n",
    "</td>\n",
    "<td>George Lazenby\n",
    "</td>\n",
    "<td>John Barry\n",
    "</td>\n",
    "<td>Louis Armstrong\n",
    "</td>\n",
    "<td align=\"right\">7000000\n",
    "</td>\n",
    "<td align=\"right\">87400000\n",
    "</td>\n",
    "\n",
    "<td align=\"right\">1958172\n",
    "</td>\n",
    "<td>6.4\n",
    "</td></tr>\n",
    "<tr>\n",
    "<td>7\n",
    "</td>\n",
    "<td>Diamonds are forever\n",
    "</td>\n",
    "<td>1971\n",
    "</td>\n",
    "<td>Guy Hamilton\n",
    "</td>\n",
    "<td>Sean Connery\n",
    "</td>\n",
    "<td>John Barry\n",
    "</td>\n",
    "<td>Shirley Bassey\n",
    "</td>\n",
    "<td align=\"right\">7200000\n",
    "</td>\n",
    "<td align=\"right\">116000000\n",
    "</td>\n",
    "<td align=\"right\">2493739\n",
    "</td>\n",
    "<td>6.2\n",
    "</td></tr>\n",
    "<tr>\n",
    "<td>8\n",
    "</td>\n",
    "<td>Live and Let Die\n",
    "</td>\n",
    "<td>1973\n",
    "</td>\n",
    "<td>Guy Hamilton\n",
    "</td>\n",
    "<td>Roger Moore\n",
    "</td>\n",
    "<td>George Martin\n",
    "</td>\n",
    "<td>Paul McCartney\n",
    "<p>Wings\n",
    "</p>\n",
    "</td>\n",
    "<td align=\"right\">7000000\n",
    "</td>\n",
    "<td align=\"right\">161800000\n",
    "</td>\n",
    "<td align=\"right\">3053913\n",
    "</td>\n",
    "<td>6.1\n",
    "</td></tr>\n",
    "<tr>\n",
    "<td>9\n",
    "</td>\n",
    "<td>The Man with the Golden Gun\n",
    "</td>\n",
    "<td>1974\n",
    "</td>\n",
    "    <td>Guy Hamilton\n",
    "</td>\n",
    "    <td>Roger Moore\n",
    "</td>\n",
    "<td>John Barry\n",
    "</td>\n",
    "<td>Lulu\n",
    "</td>\n",
    "<td align=\"right\">7000000\n",
    "</td>\n",
    "<td align=\"right\">97600000\n",
    "</td>\n",
    "<td align=\"right\">2873898\n",
    "</td>\n",
    "<td>6.2\n",
    "</td></tr>\n",
    "<tr>\n",
    "<td>10\n",
    "</td>\n",
    "<td>The Spy Who Loved Me\n",
    "</td>\n",
    "<td>1977\n",
    "</td>\n",
    "<td>Lewis Gilbert\n",
    "</td>\n",
    "<td>Roger Moore\n",
    "</td>\n",
    "<td>Marvin Hamlisch\n",
    "</td>\n",
    "<td>Carly Simon\n",
    "</td>\n",
    "<td align=\"right\">14000000\n",
    "</td>\n",
    "<td align=\"right\">185400000\n",
    "</td>\n",
    "<td align=\"right\">3500993\n",
    "</td>\n",
    "<td>6.4\n",
    "</td></tr>\n",
    "<tr>\n",
    "<td>11\n",
    "</td>\n",
    "<td>Moonraker\n",
    "</td>\n",
    "<td>1979\n",
    "</td>\n",
    "<td>Lewis Gilbert\n",
    "</td>\n",
    "<td>Roger Moore\n",
    "</td>\n",
    "<td>John Barry\n",
    "</td>\n",
    "<td>Shirley Bassey\n",
    "</td>\n",
    "<td align=\"right\">34000000\n",
    "</td>\n",
    "<td align=\"right\">210300000\n",
    "</td>\n",
    "<td align=\"right\">3171274\n",
    "</td>\n",
    "<td>5.8\n",
    "</td></tr>\n",
    "<tr>\n",
    "<td>12\n",
    "</td>\n",
    "<td>For Your Eyes Only\n",
    "</td>\n",
    "<td>1981\n",
    "</td>\n",
    "<td>John Glen\n",
    "</td>\n",
    "<td>Roger Moore\n",
    "</td>\n",
    "<td>Bill Conti\n",
    "</td>\n",
    "<td>Sheena Easton\n",
    "</td>\n",
    "<td align=\"right\">28000000\n",
    "</td>\n",
    "<td align=\"right\">195300000\n",
    "</td>\n",
    "<td align=\"right\">3181840\n",
    "</td>\n",
    "<td>6.0\n",
    "</td></tr>\n",
    "<tr>\n",
    "<td>13\n",
    "</td>\n",
    "<td><i>Octopussy</i>\n",
    "</td>\n",
    "<td>1983\n",
    "</td>\n",
    "<td>John Glen\n",
    "</td>\n",
    "<td>Roger Moore\n",
    "</td>\n",
    "<td>John Barry\n",
    "</td>\n",
    "<td>Rita Coolidge\n",
    "</td>\n",
    "<td align=\"right\">27500000\n",
    "</td>\n",
    "<td align=\"right\">187500000\n",
    "</td>\n",
    "<td align=\"right\">2944481\n",
    "</td>\n",
    "<td>6.0\n",
    "</td></tr>\n",
    "<tr>\n",
    "<td>14\n",
    "</td>\n",
    "<td><i>A View to a Kill</i>\n",
    "</td>\n",
    "<td>1985\n",
    "</td>\n",
    "    <td>John Glen\n",
    "</td>\n",
    "    <td>Roger Moore\n",
    "</td>\n",
    "    <td>John Barry\n",
    "</td>\n",
    "<td>Duran Duran\n",
    "</td>\n",
    "<td align=\"right\">30000000\n",
    "</td>\n",
    "<td align=\"right\">152400000\n",
    "</td>\n",
    "<td align=\"right\">2423306\n",
    "</td>\n",
    "<td>5.9\n",
    "</td></tr>\n",
    "<tr>\n",
    "<td>15\n",
    "</td>\n",
    "<td>The Living Daylights\n",
    "</td>\n",
    "<td>1987\n",
    "</td>\n",
    "<td>John Glen\n",
    "</td>\n",
    "<td>Timothy Dalton\n",
    "</td>\n",
    "    <td>John Barry\n",
    "</td>\n",
    "<td>a-ha\n",
    "</td>\n",
    "<td align=\"right\">40000000\n",
    "</td>\n",
    "<td align=\"right\">191200000\n",
    "</td>\n",
    "<td align=\"right\">1978347\n",
    "</td>\n",
    "<td>6.2\n",
    "</td></tr>\n",
    "<tr>\n",
    "<td>16\n",
    "</td>\n",
    "<td>Licence to Kill\n",
    "</td>\n",
    "<td>1989\n",
    "</td>\n",
    "<td>John Glen\n",
    "</td>\n",
    "<td>Timothy Dalton\n",
    "</td>\n",
    "<td>Michael Kamen\n",
    "</td>\n",
    "<td>Gladys Knight\n",
    "<p>Patti LaBelle\n",
    "</p>\n",
    "</td>\n",
    "<td align=\"right\">42000000\n",
    "</td>\n",
    "<td align=\"right\">156200000\n",
    "</td>\n",
    "<td align=\"right\">2110402\n",
    "</td>\n",
    "<td>6.2\n",
    "</td></tr>\n",
    "<tr>\n",
    "<td>17\n",
    "</td>\n",
    "<td>GoldenEye\n",
    "</td>\n",
    "<td>1995\n",
    "</td>\n",
    "<td>Martin Campbell\n",
    "</td>\n",
    "<td>Pierce Brosnan\n",
    "</td>\n",
    "<td>Eric Serra\n",
    "</td>\n",
    "<td>Tina Turner\n",
    "</td>\n",
    "<td align=\"right\">60000000\n",
    "</td>\n",
    "<td align=\"right\">353400000\n",
    "</td>\n",
    "<td align=\"right\">3493610\n",
    "</td>\n",
    "<td>6.6\n",
    "</td></tr>\n",
    "<tr>\n",
    "<td>18\n",
    "</td>\n",
    "<td>Tomorrow Never Dies\n",
    "</td>\n",
    "<td>1997\n",
    "</td>\n",
    "<td>Roger Spottiswoode\n",
    "</td>\n",
    "<td>Pierce Brosnan\n",
    "</td>\n",
    "<td>David Arnold\n",
    "</td>\n",
    "<td>Sheryl Crow\n",
    "</td>\n",
    "<td align=\"right\">110000000\n",
    "</td>\n",
    "<td align=\"right\">346600000\n",
    "</td>\n",
    "<td align=\"right\">3435210\n",
    "</td>\n",
    "<td>5.8\n",
    "</td></tr>\n",
    "<tr>\n",
    "<td>19\n",
    "</td>\n",
    "<td>The World Is Not Enough\n",
    "</td>\n",
    "<td>1999\n",
    "</td>\n",
    "<td>Michael Apted\n",
    "</td>\n",
    "<td>Pierce Brosnan\n",
    "</td>\n",
    "   <td>David Arnold\n",
    "</td>\n",
    "<td>Garbage\n",
    "</td>\n",
    "<td align=\"right\">135000000\n",
    "</td>\n",
    "<td align=\"right\">390000000\n",
    "</td>\n",
    "<td align=\"right\">3599609\n",
    "</td>\n",
    "<td>5.5\n",
    "</td></tr>\n",
    "<tr>\n",
    "<td>20\n",
    "</td>\n",
    "<td>Die Another Day\n",
    "</td>\n",
    "<td>2002\n",
    "</td>\n",
    "<td>Lee Tamahori\n",
    "</td>\n",
    "<td>Pierce Brosnan\n",
    "</td>\n",
    "<td>David Arnold\n",
    "</td>\n",
    "<td>Madonna\n",
    "</td>\n",
    "<td align=\"right\">142000000\n",
    "</td>\n",
    "<td align=\"right\">456000000\n",
    "</td>\n",
    "<td align=\"right\">4015654\n",
    "</td>\n",
    "<td>5.0\n",
    "</td></tr>\n",
    "<tr>\n",
    "<td>21\n",
    "</td>\n",
    "<td>Casino Royale\n",
    "</td>\n",
    "<td>2006\n",
    "</td>\n",
    "<td>Martin Campbell\n",
    "</td>\n",
    "<td>Daniel Craig\n",
    "</td>\n",
    "<td>David Arnold\n",
    "</td>\n",
    "<td>Chris Cornell\n",
    "</td>\n",
    "<td align=\"right\">140000000\n",
    "</td>\n",
    "<td align=\"right\">594293106\n",
    "</td>\n",
    "<td align=\"right\">3179519\n",
    "</td>\n",
    "<td>7.0\n",
    "</td></tr>\n",
    "<tr>\n",
    "<td>22\n",
    "</td>\n",
    "<td>Quantum of Solace\n",
    "</td>\n",
    "<td>2008\n",
    "</td>\n",
    "<td>Marc Forster\n",
    "</td>\n",
    "<td>Daniel Craig\n",
    "</td>\n",
    "<td>David Arnold\n",
    "</td>\n",
    "<td>Alicia Keys\n",
    "<p>Jack White\n",
    "</p>\n",
    "</td>\n",
    "<td align=\"right\">230000000\n",
    "</td>\n",
    "<td align=\"right\">586090627\n",
    "</td>\n",
    "<td align=\"right\">3715301\n",
    "</td>\n",
    "<td>5.4\n",
    "</td></tr>\n",
    "<tr>\n",
    "<td>23\n",
    "</td>\n",
    "<td>Skyfall\n",
    "</td>\n",
    "<td>2012\n",
    "</td>\n",
    "<td>Sam Mendes\n",
    "</td>\n",
    " <td>Daniel Craig\n",
    "</td>\n",
    "<td>Thomas Newman\n",
    "</td>\n",
    "    \n",
    "<td>Adele\n",
    "</td>\n",
    "<td align=\"right\">200000000\n",
    "</td>\n",
    "<td align=\"right\">1108346855\n",
    "</td>\n",
    "<td align=\"right\">7003902\n",
    "</td>\n",
    "<td>7.1\n",
    "</td></tr>\n",
    "<tr>\n",
    "<td>24\n",
    "</td>\n",
    "<td>Spectre\n",
    "</td>\n",
    "<td>2015\n",
    "</td>\n",
    "<td>Sam Mendes\n",
    "</td>\n",
    " <td>Daniel Craig\n",
    "</td>\n",
    "<td>Thomas Newman\n",
    "</td>\n",
    "<td>Sam Smith\n",
    "</td>\n",
    "<td align=\"right\">245000000\n",
    "</td>\n",
    "<td align=\"right\">880674175\n",
    "</td>\n",
    "<td align=\"right\">4978710\n",
    "</td>\n",
    "<td>5.8\n",
    "</td>\n",
    "</tr>\n",
    "<tr>\n",
    "<td>25\n",
    "</td>\n",
    "<td>Bond 25\n",
    "</td>\n",
    "<td>2020\n",
    "</td>\n",
    "<td>Cary Joji Fukunaga\n",
    "</td>\n",
    "<td align=\"right\">\n",
    "</td>\n",
    "<td align=\"right\">\n",
    "</td>\n",
    "<td align=\"right\">\n",
    "</td>\n",
    "<td align=\"right\">\n",
    "</td></tr></tbody></table></font>"
   ]
  },
  {
   "cell_type": "markdown",
   "metadata": {},
   "source": [
    "<hr>"
   ]
  },
  {
   "cell_type": "markdown",
   "metadata": {},
   "source": [
    "<a id=\"ref1\"></a>\n",
    "<center><h2>Tuples</h2></center>\n",
    "\n",
    "Un tuple est un conteneur pouvant regrouper des valeurs de types différents :  string, integer et float."
   ]
  },
  {
   "cell_type": "code",
   "execution_count": 2,
   "metadata": {},
   "outputs": [
    {
     "data": {
      "text/plain": [
       "('Goldfinger', 1964, 'Guy Hamilton', 'Sean Connery')"
      ]
     },
     "execution_count": 2,
     "metadata": {},
     "output_type": "execute_result"
    }
   ],
   "source": [
    "film_3=(\"Goldfinger\",1964, \"Guy Hamilton\", \"Sean Connery\" )\n",
    "film_3"
   ]
  },
  {
   "cell_type": "markdown",
   "metadata": {},
   "source": [
    "Le type de la variable est **tuple**. "
   ]
  },
  {
   "cell_type": "code",
   "execution_count": 3,
   "metadata": {},
   "outputs": [
    {
     "data": {
      "text/plain": [
       "tuple"
      ]
     },
     "execution_count": 3,
     "metadata": {},
     "output_type": "execute_result"
    }
   ],
   "source": [
    " type(film_3)"
   ]
  },
  {
   "cell_type": "markdown",
   "metadata": {},
   "source": [
    "Chaque élèment d'un tuple est identifié par sa position : l'index (numérotation à partir de 0)"
   ]
  },
  {
   "cell_type": "markdown",
   "metadata": {},
   "source": [
    "L'accès aux valeurs d'un tuple se fait par :"
   ]
  },
  {
   "cell_type": "code",
   "execution_count": 4,
   "metadata": {},
   "outputs": [
    {
     "name": "stdout",
     "output_type": "stream",
     "text": [
      "Goldfinger\n",
      "1964\n",
      "Guy Hamilton\n"
     ]
    }
   ],
   "source": [
    "print( film_3[0])\n",
    "print( film_3[1])\n",
    "print( film_3[2])"
   ]
  },
  {
   "cell_type": "markdown",
   "metadata": {},
   "source": [
    "Il est possible d'afficher le **type** de chaque élèment d'un tuple:\n"
   ]
  },
  {
   "cell_type": "code",
   "execution_count": 6,
   "metadata": {},
   "outputs": [
    {
     "name": "stdout",
     "output_type": "stream",
     "text": [
      "<class 'str'>\n",
      "<class 'int'>\n",
      "<class 'str'>\n",
      "<class 'str'>\n"
     ]
    }
   ],
   "source": [
    "print( type(film_3[0]))\n",
    "print( type(film_3[1]))\n",
    "print( type(film_3[2]))\n",
    "print( type(film_3[3]))"
   ]
  },
  {
   "cell_type": "markdown",
   "metadata": {},
   "source": [
    "Comme pour les chaines de caractères, il est possible d'accéder aux élèments avec des index négatifs :"
   ]
  },
  {
   "cell_type": "code",
   "execution_count": null,
   "metadata": {},
   "outputs": [],
   "source": [
    "film_3[-1]"
   ]
  },
  {
   "cell_type": "markdown",
   "metadata": {},
   "source": [
    "Il est possible de concaténer les tuples avec l'opérateur **+** :"
   ]
  },
  {
   "cell_type": "code",
   "execution_count": 7,
   "metadata": {},
   "outputs": [
    {
     "data": {
      "text/plain": [
       "('Goldfinger',\n",
       " 1964,\n",
       " 'Guy Hamilton',\n",
       " 'Sean Connery',\n",
       " 'Jhon Barry',\n",
       " 'Shirley Bassey',\n",
       " 3500000,\n",
       " 124900000,\n",
       " 6675099,\n",
       " 8)"
      ]
     },
     "execution_count": 7,
     "metadata": {},
     "output_type": "execute_result"
    }
   ],
   "source": [
    "film_3=film_3+(\"Jhon Barry\", \"Shirley Bassey\",3500000,124900000,6675099,8)\n",
    "film_3"
   ]
  },
  {
   "cell_type": "markdown",
   "metadata": {},
   "source": [
    "Le slicing :"
   ]
  },
  {
   "cell_type": "code",
   "execution_count": 8,
   "metadata": {},
   "outputs": [
    {
     "data": {
      "text/plain": [
       "('Goldfinger', 1964, 'Guy Hamilton')"
      ]
     },
     "execution_count": 8,
     "metadata": {},
     "output_type": "execute_result"
    }
   ],
   "source": [
    "film_3[0:3]"
   ]
  },
  {
   "cell_type": "markdown",
   "metadata": {},
   "source": [
    "Longueur d'un tuple :  "
   ]
  },
  {
   "cell_type": "code",
   "execution_count": 9,
   "metadata": {},
   "outputs": [
    {
     "data": {
      "text/plain": [
       "10"
      ]
     },
     "execution_count": 9,
     "metadata": {},
     "output_type": "execute_result"
    }
   ],
   "source": [
    "len(film_3)"
   ]
  },
  {
   "cell_type": "markdown",
   "metadata": {},
   "source": [
    " Consider the following tuple:"
   ]
  },
  {
   "cell_type": "code",
   "execution_count": 11,
   "metadata": {},
   "outputs": [],
   "source": [
    "Notes =(6.8,6.8,7.2,6.7,6.5,6.4,6.2,6.1,6.2,6.4,5.8,6.0,6.0,6.1,5.9,6.2,6.2,6.6,5.8,5.5,5.0,7.,5.4,7.1,5.8)"
   ]
  },
  {
   "cell_type": "markdown",
   "metadata": {},
   "source": [
    "Le tuple peut être ffecté à une nouvelle variable :\n",
    " "
   ]
  },
  {
   "cell_type": "code",
   "execution_count": 12,
   "metadata": {},
   "outputs": [
    {
     "data": {
      "text/plain": [
       "(6.8,\n",
       " 6.8,\n",
       " 7.2,\n",
       " 6.7,\n",
       " 6.5,\n",
       " 6.4,\n",
       " 6.2,\n",
       " 6.1,\n",
       " 6.2,\n",
       " 6.4,\n",
       " 5.8,\n",
       " 6.0,\n",
       " 6.0,\n",
       " 6.1,\n",
       " 5.9,\n",
       " 6.2,\n",
       " 6.2,\n",
       " 6.6,\n",
       " 5.8,\n",
       " 5.5,\n",
       " 5.0,\n",
       " 7.0,\n",
       " 5.4,\n",
       " 7.1,\n",
       " 5.8)"
      ]
     },
     "execution_count": 12,
     "metadata": {},
     "output_type": "execute_result"
    }
   ],
   "source": [
    "Notes1=Notes\n",
    "Notes"
   ]
  },
  {
   "cell_type": "markdown",
   "metadata": {},
   "source": [
    "Le tuple peut être trié puis affecté à une nouvelle variable :<br>\n",
    "Le tri est ascendant par défaut. Pour un tri descendant, il faut rajouter l'argument `reverse=True`."
   ]
  },
  {
   "cell_type": "code",
   "execution_count": 13,
   "metadata": {},
   "outputs": [
    {
     "data": {
      "text/plain": [
       "[5.0,\n",
       " 5.4,\n",
       " 5.5,\n",
       " 5.8,\n",
       " 5.8,\n",
       " 5.8,\n",
       " 5.9,\n",
       " 6.0,\n",
       " 6.0,\n",
       " 6.1,\n",
       " 6.1,\n",
       " 6.2,\n",
       " 6.2,\n",
       " 6.2,\n",
       " 6.2,\n",
       " 6.4,\n",
       " 6.4,\n",
       " 6.5,\n",
       " 6.6,\n",
       " 6.7,\n",
       " 6.8,\n",
       " 6.8,\n",
       " 7.0,\n",
       " 7.1,\n",
       " 7.2]"
      ]
     },
     "execution_count": 13,
     "metadata": {},
     "output_type": "execute_result"
    }
   ],
   "source": [
    "Tri_notes=sorted(Notes)\n",
    "Tri_notes"
   ]
  },
  {
   "cell_type": "code",
   "execution_count": 14,
   "metadata": {},
   "outputs": [
    {
     "data": {
      "text/plain": [
       "[7.2,\n",
       " 7.1,\n",
       " 7.0,\n",
       " 6.8,\n",
       " 6.8,\n",
       " 6.7,\n",
       " 6.6,\n",
       " 6.5,\n",
       " 6.4,\n",
       " 6.4,\n",
       " 6.2,\n",
       " 6.2,\n",
       " 6.2,\n",
       " 6.2,\n",
       " 6.1,\n",
       " 6.1,\n",
       " 6.0,\n",
       " 6.0,\n",
       " 5.9,\n",
       " 5.8,\n",
       " 5.8,\n",
       " 5.8,\n",
       " 5.5,\n",
       " 5.4,\n",
       " 5.0]"
      ]
     },
     "execution_count": 14,
     "metadata": {},
     "output_type": "execute_result"
    }
   ],
   "source": [
    "NotesDsc = sorted(Notes, reverse=True)\n",
    "NotesDsc"
   ]
  },
  {
   "cell_type": "markdown",
   "metadata": {},
   "source": [
    "Le nesting : \n",
    "Un tuplepeut contenir des valeurs dont les types sont complexes : "
   ]
  },
  {
   "cell_type": "code",
   "execution_count": 15,
   "metadata": {},
   "outputs": [],
   "source": [
    "Nested =(1, 2, (\"thriller\", \"adventure\") ,(3,4),(\"thriller\",(1,2)))"
   ]
  },
  {
   "cell_type": "markdown",
   "metadata": {},
   "source": [
    "Chaque élèment continu a être accessible par son index :"
   ]
  },
  {
   "cell_type": "code",
   "execution_count": 16,
   "metadata": {},
   "outputs": [
    {
     "name": "stdout",
     "output_type": "stream",
     "text": [
      "Element 0 of Tuple:  1\n",
      "Element 1 of Tuple:  2\n",
      "Element 2 of Tuple:  ('thriller', 'adventure')\n",
      "Element 3 of Tuple:  (3, 4)\n",
      "Element 4 of Tuple:  ('thriller', (1, 2))\n"
     ]
    }
   ],
   "source": [
    "print(\"Element 0 of Tuple: \", Nested[0])\n",
    "print(\"Element 1 of Tuple: \", Nested[1])\n",
    "print(\"Element 2 of Tuple: \", Nested[2])\n",
    "print(\"Element 3 of Tuple: \", Nested[3])\n",
    "print(\"Element 4 of Tuple: \", Nested[4])"
   ]
  },
  {
   "cell_type": "markdown",
   "metadata": {},
   "source": [
    "Il est nécessaire ensuite d'utiliser une double indexation pour accèder aux élèments des valeurs de type complexe."
   ]
  },
  {
   "cell_type": "code",
   "execution_count": 17,
   "metadata": {},
   "outputs": [
    {
     "name": "stdout",
     "output_type": "stream",
     "text": [
      "Element 2,0 of Tuple:  thriller\n",
      "Element 2,1 of Tuple:  adventure\n",
      "Element 3,0 of Tuple:  3\n",
      "Element 3,1 of Tuple:  4\n",
      "Element 4,0 of Tuple:  thriller\n",
      "Element 4,1 of Tuple:  (1, 2)\n"
     ]
    }
   ],
   "source": [
    "print(\"Element 2,0 of Tuple: \",   Nested[2][0])\n",
    "print(\"Element 2,1 of Tuple: \",   Nested[2][1])\n",
    "print(\"Element 3,0 of Tuple: \",   Nested[3][0])\n",
    "print(\"Element 3,1 of Tuple: \",   Nested[3][1])\n",
    "print(\"Element 4,0 of Tuple: \",   Nested[4][0])\n",
    "print(\"Element 4,1 of Tuple: \",   Nested[4][1])"
   ]
  },
  {
   "cell_type": "markdown",
   "metadata": {},
   "source": [
    "Et même une triple indexation si necessaire :"
   ]
  },
  {
   "cell_type": "code",
   "execution_count": 18,
   "metadata": {},
   "outputs": [
    {
     "data": {
      "text/plain": [
       "'a'"
      ]
     },
     "execution_count": 18,
     "metadata": {},
     "output_type": "execute_result"
    }
   ],
   "source": [
    "Nested[2][1][0]"
   ]
  },
  {
   "cell_type": "code",
   "execution_count": 19,
   "metadata": {},
   "outputs": [
    {
     "data": {
      "text/plain": [
       "'d'"
      ]
     },
     "execution_count": 19,
     "metadata": {},
     "output_type": "execute_result"
    }
   ],
   "source": [
    " Nested[2][1][1]"
   ]
  },
  {
   "cell_type": "markdown",
   "metadata": {},
   "source": [
    " <a id=\"ref2\"></a>\n",
    "<h2 align=center> Le petit Quiz</h2>"
   ]
  },
  {
   "cell_type": "markdown",
   "metadata": {},
   "source": [
    "Considerons le tuple suivant :"
   ]
  },
  {
   "cell_type": "code",
   "execution_count": 22,
   "metadata": {},
   "outputs": [
    {
     "data": {
      "text/plain": [
       "('Sean Connery',\n",
       " 'Georges Lasenby',\n",
       " 'Roger Moore',\n",
       " 'Timothy Dalton',\n",
       " 'Pierce Brosnan',\n",
       " 'Daniel Craig')"
      ]
     },
     "execution_count": 22,
     "metadata": {},
     "output_type": "execute_result"
    }
   ],
   "source": [
    "acteurs = (\"Sean Connery\", \"Georges Lasenby\",\"Roger Moore\", \"Timothy Dalton\",\"Pierce Brosnan\", \"Daniel Craig\")\n",
    "acteurs"
   ]
  },
  {
   "cell_type": "markdown",
   "metadata": {},
   "source": [
    "#### Afficher la longueur du tuple, \"acteurs\":"
   ]
  },
  {
   "cell_type": "code",
   "execution_count": 23,
   "metadata": {},
   "outputs": [
    {
     "data": {
      "text/plain": [
       "6"
      ]
     },
     "execution_count": 23,
     "metadata": {},
     "output_type": "execute_result"
    }
   ],
   "source": [
    "len (acteurs)"
   ]
  },
  {
   "cell_type": "markdown",
   "metadata": {},
   "source": [
    "<div align=\"right\">\n",
    "<a href=\"#String1\" class=\"btn btn-default\" data-toggle=\"collapse\">Solution</a>\n",
    "\n",
    "</div>\n",
    "\n",
    "\n",
    "<div id=\"String1\" class=\"collapse\">\n",
    "\n",
    "\"len(acteurs)\"\n",
    "```\n",
    "\n",
    "\n",
    "```\n",
    "</div>\n"
   ]
  },
  {
   "cell_type": "markdown",
   "metadata": {},
   "source": [
    "#### Aficher le 5ème élèment du tuple : "
   ]
  },
  {
   "cell_type": "code",
   "execution_count": 24,
   "metadata": {},
   "outputs": [
    {
     "name": "stdout",
     "output_type": "stream",
     "text": [
      "Pierce Brosnan\n"
     ]
    }
   ],
   "source": [
    "print (acteurs [4])"
   ]
  },
  {
   "cell_type": "markdown",
   "metadata": {},
   "source": [
    "<div align=\"right\">\n",
    "<a href=\"#2\" class=\"btn btn-default\" data-toggle=\"collapse\">Solution</a>\n",
    "\n",
    "</div>\n",
    "\n",
    "\n",
    "<div id=\"2\" class=\"collapse\">\n",
    "\n",
    "\n",
    " <a ><img src = \"https://ibm.box.com/shared/static/s6r8v2uy6wifmaqv53w6adabqci47zme.png\" width = 1100, align = \"center\"></a>\n",
    "\n",
    "</div>\n",
    "\n",
    "\n"
   ]
  },
  {
   "cell_type": "markdown",
   "metadata": {},
   "source": [
    "####   Afficher, en utilisant le slicing, toutes les valeurs de la 2ème à la 5ème :"
   ]
  },
  {
   "cell_type": "code",
   "execution_count": 25,
   "metadata": {},
   "outputs": [
    {
     "name": "stdout",
     "output_type": "stream",
     "text": [
      "('Georges Lasenby', 'Roger Moore', 'Timothy Dalton')\n"
     ]
    }
   ],
   "source": [
    "print (acteurs [1:4])"
   ]
  },
  {
   "cell_type": "markdown",
   "metadata": {},
   "source": [
    "\n",
    "  <div align=\"right\">\n",
    "<a href=\"#3\" class=\"btn btn-default\" data-toggle=\"collapse\">Solution</a>\n",
    "\n",
    "</div>\n",
    "\n",
    "\n",
    "<div id=\"3\" class=\"collapse\">\n",
    "\n",
    "\n",
    "acteurs[2:6]\n",
    "\n",
    "</div>"
   ]
  },
  {
   "cell_type": "markdown",
   "metadata": {},
   "source": [
    "#### Afficher l'index de la valeur 'Daniel Craig':"
   ]
  },
  {
   "cell_type": "code",
   "execution_count": 26,
   "metadata": {},
   "outputs": [
    {
     "data": {
      "text/plain": [
       "5"
      ]
     },
     "execution_count": 26,
     "metadata": {},
     "output_type": "execute_result"
    }
   ],
   "source": [
    "acteurs.index (\"Daniel Craig\")"
   ]
  },
  {
   "cell_type": "markdown",
   "metadata": {},
   "source": [
    " <div align=\"right\">\n",
    "<a href=\"#q6\" class=\"btn btn-default\" data-toggle=\"collapse\">Solution</a>\n",
    "</div>\n",
    "<div id=\"q6\" class=\"collapse\">\n",
    "```\n",
    "acteurs.index(\"Daniel Craig\") \n",
    "\n",
    "```"
   ]
  },
  {
   "cell_type": "markdown",
   "metadata": {},
   "source": [
    "<hr>"
   ]
  },
  {
   "cell_type": "markdown",
   "metadata": {},
   "source": [
    "####  Créer un tuple formé en ordonant par ordre décroissant le tuple C=(10, -5, 78, 0, 1, -3) :"
   ]
  },
  {
   "cell_type": "code",
   "execution_count": 27,
   "metadata": {},
   "outputs": [
    {
     "data": {
      "text/plain": [
       "[78, 10, 1, 0, -3, -5]"
      ]
     },
     "execution_count": 27,
     "metadata": {},
     "output_type": "execute_result"
    }
   ],
   "source": [
    "C=(10, -5, 78, 0, 1, -3)\n",
    "Tri_C=sorted (C,reverse=True)\n",
    "Tri_C"
   ]
  },
  {
   "cell_type": "markdown",
   "metadata": {},
   "source": [
    " <div align=\"right\">\n",
    "<a href=\"#q7\" class=\"btn btn-default\" data-toggle=\"collapse\">Solution</a>\n",
    "</div>\n",
    "<div id=\"q7\" class=\"collapse\">\n",
    "```\n",
    "C = (10, -5, 78, 0, 1, -3)\n",
    "C2 = sorted(C_tuple, reverse=True)\n",
    "C2\n",
    "\n",
    "```"
   ]
  },
  {
   "cell_type": "markdown",
   "metadata": {
    "deletable": false,
    "editable": false
   },
   "source": [
    "<hr>\n",
    "Copyright &copy; 2020 Hatem & Driss @NEEDEMAND"
   ]
  }
 ],
 "metadata": {
  "celltoolbar": "Aucun(e)",
  "kernelspec": {
   "display_name": "Python 3",
   "language": "python",
   "name": "python3"
  },
  "language_info": {
   "codemirror_mode": {
    "name": "ipython",
    "version": 3
   },
   "file_extension": ".py",
   "mimetype": "text/x-python",
   "name": "python",
   "nbconvert_exporter": "python",
   "pygments_lexer": "ipython3",
   "version": "3.8.3"
  },
  "widgets": {
   "state": {},
   "version": "1.1.2"
  }
 },
 "nbformat": 4,
 "nbformat_minor": 2
}

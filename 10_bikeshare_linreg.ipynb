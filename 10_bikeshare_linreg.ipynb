{
 "cells": [
  {
   "cell_type": "markdown",
   "metadata": {
    "deletable": false,
    "editable": false
   },
   "source": [
    "<img src = \"images/logos.png\" align = \"center\">\n",
    "<br>\n",
    "<h1 align=center><font size = 5>Régression linéaire</font></h1>"
   ]
  },
  {
   "cell_type": "markdown",
   "metadata": {},
   "source": [
    "## Plan du notebook\n",
    "\n",
    "1. Exploration du jeu de données\n",
    "    - Chargement des données\n",
    "    - Visualisation des données\n",
    "2. Modèle de régression linéaire univariée\n",
    "    - Les mathématiques de la régression linéaire\n",
    "    - Contruction d'un modèle de regréssion linéaire\n",
    "    - Utilisation du modèle en prediction\n",
    "    - Importance de l'echele des valeurs en regression\n",
    "3. Regression multivariée\n",
    "    - Visualiser le jeu de données (partie 2)\n",
    "    - Ajout de nouvelles variables au modèle\n",
    "4. Choisir le bon modèle\n",
    "    - Métriques d'évaluation pour la régression\n",
    "    - Comparaison des modèles avec train/test split et RMSE\n",
    "5. Création et gestion des variables\n",
    "    - Gestion des variables catégoriques\n",
    "    - Feature engineering"
   ]
  },
  {
   "cell_type": "markdown",
   "metadata": {},
   "source": [
    "## 1. Exploration du jeu de données\n",
    "\n",
    "Le jeu de données servant au support de ce notebook est utilisé dans les compétitions Kaggle et correspond à l'étude des fréquences d'utilisation des velos de la société Capital bikeshare en libre service à Washington.([plus d'infos](https://www.kaggle.com/c/bike-sharing-demand/data))."
   ]
  },
  {
   "cell_type": "markdown",
   "metadata": {},
   "source": [
    "### Chargement des données"
   ]
  },
  {
   "cell_type": "code",
   "execution_count": 3,
   "metadata": {},
   "outputs": [],
   "source": [
    "# importer les données dans un dataframe en indexant par la date\n",
    "import pandas as pd\n",
    "url = 'https://raw.githubusercontent.com/justmarkham/DAT8/master/data/bikeshare.csv'\n",
    "bikeshare = pd.read_csv(url, index_col='datetime', parse_dates=True)"
   ]
  },
  {
   "cell_type": "code",
   "execution_count": 4,
   "metadata": {},
   "outputs": [
    {
     "data": {
      "text/html": [
       "<div>\n",
       "<style scoped>\n",
       "    .dataframe tbody tr th:only-of-type {\n",
       "        vertical-align: middle;\n",
       "    }\n",
       "\n",
       "    .dataframe tbody tr th {\n",
       "        vertical-align: top;\n",
       "    }\n",
       "\n",
       "    .dataframe thead th {\n",
       "        text-align: right;\n",
       "    }\n",
       "</style>\n",
       "<table border=\"1\" class=\"dataframe\">\n",
       "  <thead>\n",
       "    <tr style=\"text-align: right;\">\n",
       "      <th></th>\n",
       "      <th>season</th>\n",
       "      <th>holiday</th>\n",
       "      <th>workingday</th>\n",
       "      <th>weather</th>\n",
       "      <th>temp</th>\n",
       "      <th>atemp</th>\n",
       "      <th>humidity</th>\n",
       "      <th>windspeed</th>\n",
       "      <th>casual</th>\n",
       "      <th>registered</th>\n",
       "      <th>count</th>\n",
       "    </tr>\n",
       "    <tr>\n",
       "      <th>datetime</th>\n",
       "      <th></th>\n",
       "      <th></th>\n",
       "      <th></th>\n",
       "      <th></th>\n",
       "      <th></th>\n",
       "      <th></th>\n",
       "      <th></th>\n",
       "      <th></th>\n",
       "      <th></th>\n",
       "      <th></th>\n",
       "      <th></th>\n",
       "    </tr>\n",
       "  </thead>\n",
       "  <tbody>\n",
       "    <tr>\n",
       "      <th>2011-01-01 00:00:00</th>\n",
       "      <td>1</td>\n",
       "      <td>0</td>\n",
       "      <td>0</td>\n",
       "      <td>1</td>\n",
       "      <td>9.84</td>\n",
       "      <td>14.395</td>\n",
       "      <td>81</td>\n",
       "      <td>0.0000</td>\n",
       "      <td>3</td>\n",
       "      <td>13</td>\n",
       "      <td>16</td>\n",
       "    </tr>\n",
       "    <tr>\n",
       "      <th>2011-01-01 01:00:00</th>\n",
       "      <td>1</td>\n",
       "      <td>0</td>\n",
       "      <td>0</td>\n",
       "      <td>1</td>\n",
       "      <td>9.02</td>\n",
       "      <td>13.635</td>\n",
       "      <td>80</td>\n",
       "      <td>0.0000</td>\n",
       "      <td>8</td>\n",
       "      <td>32</td>\n",
       "      <td>40</td>\n",
       "    </tr>\n",
       "    <tr>\n",
       "      <th>2011-01-01 02:00:00</th>\n",
       "      <td>1</td>\n",
       "      <td>0</td>\n",
       "      <td>0</td>\n",
       "      <td>1</td>\n",
       "      <td>9.02</td>\n",
       "      <td>13.635</td>\n",
       "      <td>80</td>\n",
       "      <td>0.0000</td>\n",
       "      <td>5</td>\n",
       "      <td>27</td>\n",
       "      <td>32</td>\n",
       "    </tr>\n",
       "    <tr>\n",
       "      <th>2011-01-01 03:00:00</th>\n",
       "      <td>1</td>\n",
       "      <td>0</td>\n",
       "      <td>0</td>\n",
       "      <td>1</td>\n",
       "      <td>9.84</td>\n",
       "      <td>14.395</td>\n",
       "      <td>75</td>\n",
       "      <td>0.0000</td>\n",
       "      <td>3</td>\n",
       "      <td>10</td>\n",
       "      <td>13</td>\n",
       "    </tr>\n",
       "    <tr>\n",
       "      <th>2011-01-01 04:00:00</th>\n",
       "      <td>1</td>\n",
       "      <td>0</td>\n",
       "      <td>0</td>\n",
       "      <td>1</td>\n",
       "      <td>9.84</td>\n",
       "      <td>14.395</td>\n",
       "      <td>75</td>\n",
       "      <td>0.0000</td>\n",
       "      <td>0</td>\n",
       "      <td>1</td>\n",
       "      <td>1</td>\n",
       "    </tr>\n",
       "    <tr>\n",
       "      <th>2011-01-01 05:00:00</th>\n",
       "      <td>1</td>\n",
       "      <td>0</td>\n",
       "      <td>0</td>\n",
       "      <td>2</td>\n",
       "      <td>9.84</td>\n",
       "      <td>12.880</td>\n",
       "      <td>75</td>\n",
       "      <td>6.0032</td>\n",
       "      <td>0</td>\n",
       "      <td>1</td>\n",
       "      <td>1</td>\n",
       "    </tr>\n",
       "    <tr>\n",
       "      <th>2011-01-01 06:00:00</th>\n",
       "      <td>1</td>\n",
       "      <td>0</td>\n",
       "      <td>0</td>\n",
       "      <td>1</td>\n",
       "      <td>9.02</td>\n",
       "      <td>13.635</td>\n",
       "      <td>80</td>\n",
       "      <td>0.0000</td>\n",
       "      <td>2</td>\n",
       "      <td>0</td>\n",
       "      <td>2</td>\n",
       "    </tr>\n",
       "    <tr>\n",
       "      <th>2011-01-01 07:00:00</th>\n",
       "      <td>1</td>\n",
       "      <td>0</td>\n",
       "      <td>0</td>\n",
       "      <td>1</td>\n",
       "      <td>8.20</td>\n",
       "      <td>12.880</td>\n",
       "      <td>86</td>\n",
       "      <td>0.0000</td>\n",
       "      <td>1</td>\n",
       "      <td>2</td>\n",
       "      <td>3</td>\n",
       "    </tr>\n",
       "    <tr>\n",
       "      <th>2011-01-01 08:00:00</th>\n",
       "      <td>1</td>\n",
       "      <td>0</td>\n",
       "      <td>0</td>\n",
       "      <td>1</td>\n",
       "      <td>9.84</td>\n",
       "      <td>14.395</td>\n",
       "      <td>75</td>\n",
       "      <td>0.0000</td>\n",
       "      <td>1</td>\n",
       "      <td>7</td>\n",
       "      <td>8</td>\n",
       "    </tr>\n",
       "    <tr>\n",
       "      <th>2011-01-01 09:00:00</th>\n",
       "      <td>1</td>\n",
       "      <td>0</td>\n",
       "      <td>0</td>\n",
       "      <td>1</td>\n",
       "      <td>13.12</td>\n",
       "      <td>17.425</td>\n",
       "      <td>76</td>\n",
       "      <td>0.0000</td>\n",
       "      <td>8</td>\n",
       "      <td>6</td>\n",
       "      <td>14</td>\n",
       "    </tr>\n",
       "    <tr>\n",
       "      <th>2011-01-01 10:00:00</th>\n",
       "      <td>1</td>\n",
       "      <td>0</td>\n",
       "      <td>0</td>\n",
       "      <td>1</td>\n",
       "      <td>15.58</td>\n",
       "      <td>19.695</td>\n",
       "      <td>76</td>\n",
       "      <td>16.9979</td>\n",
       "      <td>12</td>\n",
       "      <td>24</td>\n",
       "      <td>36</td>\n",
       "    </tr>\n",
       "    <tr>\n",
       "      <th>2011-01-01 11:00:00</th>\n",
       "      <td>1</td>\n",
       "      <td>0</td>\n",
       "      <td>0</td>\n",
       "      <td>1</td>\n",
       "      <td>14.76</td>\n",
       "      <td>16.665</td>\n",
       "      <td>81</td>\n",
       "      <td>19.0012</td>\n",
       "      <td>26</td>\n",
       "      <td>30</td>\n",
       "      <td>56</td>\n",
       "    </tr>\n",
       "    <tr>\n",
       "      <th>2011-01-01 12:00:00</th>\n",
       "      <td>1</td>\n",
       "      <td>0</td>\n",
       "      <td>0</td>\n",
       "      <td>1</td>\n",
       "      <td>17.22</td>\n",
       "      <td>21.210</td>\n",
       "      <td>77</td>\n",
       "      <td>19.0012</td>\n",
       "      <td>29</td>\n",
       "      <td>55</td>\n",
       "      <td>84</td>\n",
       "    </tr>\n",
       "    <tr>\n",
       "      <th>2011-01-01 13:00:00</th>\n",
       "      <td>1</td>\n",
       "      <td>0</td>\n",
       "      <td>0</td>\n",
       "      <td>2</td>\n",
       "      <td>18.86</td>\n",
       "      <td>22.725</td>\n",
       "      <td>72</td>\n",
       "      <td>19.9995</td>\n",
       "      <td>47</td>\n",
       "      <td>47</td>\n",
       "      <td>94</td>\n",
       "    </tr>\n",
       "    <tr>\n",
       "      <th>2011-01-01 14:00:00</th>\n",
       "      <td>1</td>\n",
       "      <td>0</td>\n",
       "      <td>0</td>\n",
       "      <td>2</td>\n",
       "      <td>18.86</td>\n",
       "      <td>22.725</td>\n",
       "      <td>72</td>\n",
       "      <td>19.0012</td>\n",
       "      <td>35</td>\n",
       "      <td>71</td>\n",
       "      <td>106</td>\n",
       "    </tr>\n",
       "    <tr>\n",
       "      <th>2011-01-01 15:00:00</th>\n",
       "      <td>1</td>\n",
       "      <td>0</td>\n",
       "      <td>0</td>\n",
       "      <td>2</td>\n",
       "      <td>18.04</td>\n",
       "      <td>21.970</td>\n",
       "      <td>77</td>\n",
       "      <td>19.9995</td>\n",
       "      <td>40</td>\n",
       "      <td>70</td>\n",
       "      <td>110</td>\n",
       "    </tr>\n",
       "    <tr>\n",
       "      <th>2011-01-01 16:00:00</th>\n",
       "      <td>1</td>\n",
       "      <td>0</td>\n",
       "      <td>0</td>\n",
       "      <td>2</td>\n",
       "      <td>17.22</td>\n",
       "      <td>21.210</td>\n",
       "      <td>82</td>\n",
       "      <td>19.9995</td>\n",
       "      <td>41</td>\n",
       "      <td>52</td>\n",
       "      <td>93</td>\n",
       "    </tr>\n",
       "    <tr>\n",
       "      <th>2011-01-01 17:00:00</th>\n",
       "      <td>1</td>\n",
       "      <td>0</td>\n",
       "      <td>0</td>\n",
       "      <td>2</td>\n",
       "      <td>18.04</td>\n",
       "      <td>21.970</td>\n",
       "      <td>82</td>\n",
       "      <td>19.0012</td>\n",
       "      <td>15</td>\n",
       "      <td>52</td>\n",
       "      <td>67</td>\n",
       "    </tr>\n",
       "    <tr>\n",
       "      <th>2011-01-01 18:00:00</th>\n",
       "      <td>1</td>\n",
       "      <td>0</td>\n",
       "      <td>0</td>\n",
       "      <td>3</td>\n",
       "      <td>17.22</td>\n",
       "      <td>21.210</td>\n",
       "      <td>88</td>\n",
       "      <td>16.9979</td>\n",
       "      <td>9</td>\n",
       "      <td>26</td>\n",
       "      <td>35</td>\n",
       "    </tr>\n",
       "    <tr>\n",
       "      <th>2011-01-01 19:00:00</th>\n",
       "      <td>1</td>\n",
       "      <td>0</td>\n",
       "      <td>0</td>\n",
       "      <td>3</td>\n",
       "      <td>17.22</td>\n",
       "      <td>21.210</td>\n",
       "      <td>88</td>\n",
       "      <td>16.9979</td>\n",
       "      <td>6</td>\n",
       "      <td>31</td>\n",
       "      <td>37</td>\n",
       "    </tr>\n",
       "  </tbody>\n",
       "</table>\n",
       "</div>"
      ],
      "text/plain": [
       "                     season  holiday  workingday  weather   temp   atemp  \\\n",
       "datetime                                                                   \n",
       "2011-01-01 00:00:00       1        0           0        1   9.84  14.395   \n",
       "2011-01-01 01:00:00       1        0           0        1   9.02  13.635   \n",
       "2011-01-01 02:00:00       1        0           0        1   9.02  13.635   \n",
       "2011-01-01 03:00:00       1        0           0        1   9.84  14.395   \n",
       "2011-01-01 04:00:00       1        0           0        1   9.84  14.395   \n",
       "2011-01-01 05:00:00       1        0           0        2   9.84  12.880   \n",
       "2011-01-01 06:00:00       1        0           0        1   9.02  13.635   \n",
       "2011-01-01 07:00:00       1        0           0        1   8.20  12.880   \n",
       "2011-01-01 08:00:00       1        0           0        1   9.84  14.395   \n",
       "2011-01-01 09:00:00       1        0           0        1  13.12  17.425   \n",
       "2011-01-01 10:00:00       1        0           0        1  15.58  19.695   \n",
       "2011-01-01 11:00:00       1        0           0        1  14.76  16.665   \n",
       "2011-01-01 12:00:00       1        0           0        1  17.22  21.210   \n",
       "2011-01-01 13:00:00       1        0           0        2  18.86  22.725   \n",
       "2011-01-01 14:00:00       1        0           0        2  18.86  22.725   \n",
       "2011-01-01 15:00:00       1        0           0        2  18.04  21.970   \n",
       "2011-01-01 16:00:00       1        0           0        2  17.22  21.210   \n",
       "2011-01-01 17:00:00       1        0           0        2  18.04  21.970   \n",
       "2011-01-01 18:00:00       1        0           0        3  17.22  21.210   \n",
       "2011-01-01 19:00:00       1        0           0        3  17.22  21.210   \n",
       "\n",
       "                     humidity  windspeed  casual  registered  count  \n",
       "datetime                                                             \n",
       "2011-01-01 00:00:00        81     0.0000       3          13     16  \n",
       "2011-01-01 01:00:00        80     0.0000       8          32     40  \n",
       "2011-01-01 02:00:00        80     0.0000       5          27     32  \n",
       "2011-01-01 03:00:00        75     0.0000       3          10     13  \n",
       "2011-01-01 04:00:00        75     0.0000       0           1      1  \n",
       "2011-01-01 05:00:00        75     6.0032       0           1      1  \n",
       "2011-01-01 06:00:00        80     0.0000       2           0      2  \n",
       "2011-01-01 07:00:00        86     0.0000       1           2      3  \n",
       "2011-01-01 08:00:00        75     0.0000       1           7      8  \n",
       "2011-01-01 09:00:00        76     0.0000       8           6     14  \n",
       "2011-01-01 10:00:00        76    16.9979      12          24     36  \n",
       "2011-01-01 11:00:00        81    19.0012      26          30     56  \n",
       "2011-01-01 12:00:00        77    19.0012      29          55     84  \n",
       "2011-01-01 13:00:00        72    19.9995      47          47     94  \n",
       "2011-01-01 14:00:00        72    19.0012      35          71    106  \n",
       "2011-01-01 15:00:00        77    19.9995      40          70    110  \n",
       "2011-01-01 16:00:00        82    19.9995      41          52     93  \n",
       "2011-01-01 17:00:00        82    19.0012      15          52     67  \n",
       "2011-01-01 18:00:00        88    16.9979       9          26     35  \n",
       "2011-01-01 19:00:00        88    16.9979       6          31     37  "
      ]
     },
     "execution_count": 4,
     "metadata": {},
     "output_type": "execute_result"
    }
   ],
   "source": [
    "bikeshare.head(20)"
   ]
  },
  {
   "cell_type": "markdown",
   "metadata": {},
   "source": [
    "**Questions:**\n",
    "\n",
    "- Que représente chaque observation/ligne ?\n",
    "- Quelle est est la colonne cible ?\n",
    "- Combien de caractéristiques sont utilisées ?"
   ]
  },
  {
   "cell_type": "code",
   "execution_count": 5,
   "metadata": {},
   "outputs": [],
   "source": [
    "# Il est judicieux d'éviter de nommer les colonnes par des mots clés.\n",
    "# C'est le cas de la colonne count : nom d'une méthode. Renommer la colonne en 'total'\n",
    "bikeshare.rename(columns={'count':'total'}, inplace=True)"
   ]
  },
  {
   "cell_type": "markdown",
   "metadata": {},
   "source": [
    "### Visualisation des données"
   ]
  },
  {
   "cell_type": "code",
   "execution_count": 6,
   "metadata": {},
   "outputs": [],
   "source": [
    "import matplotlib.pyplot as plt\n",
    "%matplotlib inline\n",
    "plt.rcParams['figure.figsize'] = (8, 6)\n",
    "plt.rcParams['font.size'] = 14"
   ]
  },
  {
   "cell_type": "code",
   "execution_count": 7,
   "metadata": {},
   "outputs": [
    {
     "data": {
      "text/plain": [
       "<matplotlib.axes._subplots.AxesSubplot at 0x14cac846640>"
      ]
     },
     "execution_count": 7,
     "metadata": {},
     "output_type": "execute_result"
    },
    {
     "data": {
      "image/png": "[encoded data removed]",
      "text/plain": [
       "<Figure size 576x432 with 1 Axes>"
      ]
     },
     "metadata": {
      "needs_background": "light"
     },
     "output_type": "display_data"
    }
   ],
   "source": [
    "# Nuage de points cible en fonction de la température\n",
    "bikeshare.plot(kind='scatter', x='temp', y='total', alpha=0.2)"
   ]
  },
  {
   "cell_type": "code",
   "execution_count": null,
   "metadata": {},
   "outputs": [],
   "source": [
    "# Le nuage de point peut être amélioré par l'ajout d'une droite de regression avec Seaborn\n",
    "import seaborn as sns\n",
    "sns.lmplot(x='temp', y='total', data=bikeshare, aspect=1.5, scatter_kws={'alpha':0.2})"
   ]
  },
  {
   "cell_type": "markdown",
   "metadata": {},
   "source": [
    "## 2. Modèle de régression linéaire univariée"
   ]
  },
  {
   "cell_type": "markdown",
   "metadata": {},
   "source": [
    "### Les mathématiques de la régression linéaire\n",
    "\n",
    "L'expression recherchée peut s'écrire :\n",
    "\n",
    "$y = \\beta_0 + \\beta_1x_1 + \\beta_2x_2 + ... + \\beta_nx_n$\n",
    "\n",
    "- $y$ est la valeur cible\n",
    "- $\\beta_0$ iest l'ordonnée à l'origine\n",
    "- $\\beta_1$ est le coefficient associé à la caractéristique $x_1$ (1ère colonne)\n",
    "- $\\beta_n$ est le coefficient associé à $x_n$ (nième colonne)\n",
    "\n",
    "Les valeurs $\\beta$ sont appelées **coefficients du modèle**:\n",
    "\n",
    "- Ces valeurs sont éstimée ou \"apprises\" pendant la phase d'apprentissage en utilisant la **méthode des moindres carrés**\n",
    "- Plus précisément, il s'agit de trouver l'équation de la droite qui soit la plus proche possible de tous les points. Pour cela on cherchera à minimiser la **somme des carrés des erreurs**.\n",
    "- une fois établie, l'équation permettra de calculer des prédictions sur la valeur cible.\n",
    "\n",
    "![Méthode des moindres carrés](images/estimating_coefficients.png)\n",
    "\n",
    "Dans le schéma ci-dessus:\n",
    "\n",
    "- Les points noirs représentent les **observations** des x et des y.\n",
    "- Les points bleus proviennet de droite obtenue par **les moindres carrés**.\n",
    "- Les lignes rouges sont les erreurs comises et qui sont donc les **écarts** entre les valeurs observées et les valeurs calculées par l'équation."
   ]
  },
  {
   "cell_type": "markdown",
   "metadata": {},
   "source": [
    "### Construction du modèle de régression linéaire"
   ]
  },
  {
   "cell_type": "code",
   "execution_count": null,
   "metadata": {},
   "outputs": [],
   "source": [
    "# creation de la matrice X et du vecteur y\n",
    "# Selection des caractéristiques \n",
    "caract = ['temp']\n",
    "X = bikeshare[caract]\n",
    "y = bikeshare.total"
   ]
  },
  {
   "cell_type": "code",
   "execution_count": null,
   "metadata": {},
   "outputs": [],
   "source": [
    "# import, instantiation et application\n",
    "from sklearn.linear_model import LinearRegression\n",
    "linreg = LinearRegression()\n",
    "linreg.fit(X, y)"
   ]
  },
  {
   "cell_type": "code",
   "execution_count": null,
   "metadata": {},
   "outputs": [],
   "source": [
    "# affichage des coefficients\n",
    "print(linreg.intercept_)\n",
    "print(linreg.coef_)"
   ]
  },
  {
   "cell_type": "markdown",
   "metadata": {},
   "source": [
    "Interpretation des résultats\n",
    "\n",
    "**L'ordonnée à l'origine : intercept  ($\\beta_0$):**\n",
    "\n",
    "- C'est la valeur de la cible $y$ quand $x$=0.\n",
    "- Ce serait le nombre de locations lorsque la température vaut 0 degrés Celsius.\n",
    "- **Remarque:** L'ordonnée à l'origine n'est pas toujours une valeur porteuse de sens.\n",
    "\n",
    "**Le coefficient du modèle associé à la caractéristique \"temp\" ($\\beta_1$):**\n",
    "\n",
    "- Mathématiquement, il s'agit de la pente de la droite ou encore le rapport d'un accroissement  de $y$ par l'accroissement associé de $x$.\n",
    "- Dans la pratique on dira qu'une augmentation de la température de 1 degré est **assocée à** une augmentation de 9.17 locations de vélos.\n",
    "- Il n'y a pas de liens de causalité !\n",
    "- $\\beta_1$ serait **negatif** si le nombre de locations diminuait lorsue la température augmente."
   ]
  },
  {
   "cell_type": "markdown",
   "metadata": {},
   "source": [
    "### Utilisation du modèle en prédiction\n",
    "\n",
    "Combien de locations peut on prédire si la température vaut 25 degrés Celsius?"
   ]
  },
  {
   "cell_type": "code",
   "execution_count": null,
   "metadata": {},
   "outputs": [],
   "source": [
    "# Calcul manuel\n",
    "linreg.intercept_ + linreg.coef_*25"
   ]
  },
  {
   "cell_type": "code",
   "execution_count": null,
   "metadata": {},
   "outputs": [],
   "source": [
    "# en utilisant la méthode `predict` du modèle\n",
    "linreg.predict([[25]])"
   ]
  },
  {
   "cell_type": "markdown",
   "metadata": {},
   "source": [
    "### Importance de l'echele des valeurs en regression?\n",
    "\n",
    "Voyons ce qui se passe si la température était mesurée en Fahrenheit !"
   ]
  },
  {
   "cell_type": "code",
   "execution_count": null,
   "metadata": {},
   "outputs": [],
   "source": [
    "# créer une nouvelle colonne de température en Fahrenheit (temp_F= temp*1.8 + 32)\n",
    "bikeshare['temp_F'] = bikeshare.temp * 1.8 + 32\n",
    "bikeshare.head()"
   ]
  },
  {
   "cell_type": "code",
   "execution_count": null,
   "metadata": {},
   "outputs": [],
   "source": [
    "# Afficher le nuage de points avec  Seaborn y en fonction de temp_F\n",
    "sns.lmplot(x='temp_F', y='total', data=bikeshare, aspect=1.5, scatter_kws={'alpha':0.2})"
   ]
  },
  {
   "cell_type": "code",
   "execution_count": null,
   "metadata": {},
   "outputs": [],
   "source": [
    "# creation de la matrice X et du vecteur y\n",
    "caract = ['temp_F']\n",
    "X = bikeshare[caract]\n",
    "y = bikeshare.total\n",
    "\n",
    "# instantiation et application\n",
    "linreg = LinearRegression()\n",
    "linreg.fit(X, y)\n",
    "\n",
    "# affichage des coefficients\n",
    "print(linreg.intercept_\n",
    "print(linreg.coef_"
   ]
  },
  {
   "cell_type": "code",
   "execution_count": null,
   "metadata": {},
   "outputs": [],
   "source": [
    "# conversion de 25 degrés Celsius en Fahrenheit\n",
    "25 * 1.8 + 32"
   ]
  },
  {
   "cell_type": "code",
   "execution_count": null,
   "metadata": {},
   "outputs": [],
   "source": [
    "# prediction des locations pour 77 degrés Fahrenheit\n",
    "linreg.predict([[77]])"
   ]
  },
  {
   "cell_type": "markdown",
   "metadata": {},
   "source": [
    "**Conclusion:** L'échélle des caractéristiques n'affecte pas la régression linéaire. Ce sont les coefficients qui sont modifiés et leur interprétation."
   ]
  },
  {
   "cell_type": "code",
   "execution_count": null,
   "metadata": {},
   "outputs": [],
   "source": [
    "# Supprimer la colonne temp_F\n",
    "bikeshare.drop('temp_F', axis=1, inplace=True)"
   ]
  },
  {
   "cell_type": "markdown",
   "metadata": {},
   "source": [
    "## 3. Regression multivariée"
   ]
  },
  {
   "cell_type": "markdown",
   "metadata": {},
   "source": [
    "### Visualiser le jeu des données (partie 2)"
   ]
  },
  {
   "cell_type": "code",
   "execution_count": null,
   "metadata": {},
   "outputs": [],
   "source": [
    "# exploration de caractéristiques suppémentaires\n",
    "caract = ['temp', 'weather', 'humidity','windspeed']"
   ]
  },
  {
   "cell_type": "code",
   "execution_count": null,
   "metadata": {},
   "outputs": [],
   "source": [
    "# Nuages de points multiple avec Seaborn\n",
    "sns.pairplot(bikeshare, x_vars=caract, y_vars='total', kind='reg')"
   ]
  },
  {
   "cell_type": "markdown",
   "metadata": {},
   "source": [
    "Quelles remarques peut-on faire à propos de ces graphiques ?"
   ]
  },
  {
   "cell_type": "code",
   "execution_count": null,
   "metadata": {},
   "outputs": [],
   "source": [
    "# Matrice de correlation\n",
    "bikeshare.corr()"
   ]
  },
  {
   "cell_type": "code",
   "execution_count": null,
   "metadata": {},
   "outputs": [],
   "source": [
    "# Matrice de correlation au format heatmap\n",
    "sns.heatmap(bikeshare.corr(), cmap=\"YlGnBu\")"
   ]
  },
  {
   "cell_type": "markdown",
   "metadata": {},
   "source": [
    "Quelles sont les relations notables ?"
   ]
  },
  {
   "cell_type": "markdown",
   "metadata": {},
   "source": [
    "### Ajout de nouvelles variables au modèle"
   ]
  },
  {
   "cell_type": "code",
   "execution_count": null,
   "metadata": {},
   "outputs": [],
   "source": [
    "# creation de la liste des carctéristiques \n",
    "caract= ['temp', 'humidity', 'windspeed']"
   ]
  },
  {
   "cell_type": "code",
   "execution_count": null,
   "metadata": {},
   "outputs": [],
   "source": [
    "# creation de la matrice X et du vecteur y\n",
    "X = bikeshare[caract]\n",
    "y = bikeshare.total\n",
    "\n",
    "# instantiation et application\n",
    "linreg = LinearRegression()\n",
    "linreg.fit(X, y)\n",
    "\n",
    "# affichage des coefficients\n",
    "print(linreg.intercept_)\n",
    "print(linreg.coef_)"
   ]
  },
  {
   "cell_type": "code",
   "execution_count": null,
   "metadata": {},
   "outputs": [],
   "source": [
    "# Association des variables avec les coefficients\n",
    "for line in zip(caract, linreg.coef_):\n",
    "    print(line)"
   ]
  },
  {
   "cell_type": "markdown",
   "metadata": {},
   "source": [
    "Interpretation:\n",
    "En suposant que les autres caractéristiques ne changent pas\n",
    "\n",
    "- Une augmentation d'une unité de **température** entraine une **augmentation** de 8, 74 locations de vélos.\n",
    "- Une augmentation d'une unité d'**humidité** entraine une **diminution** de 2.7 locations de vélos.\n",
    "- Une augmentation d'une unité de **vitesse de vent** entraine une **augmentation** de 0.36 locations de vélos.\n",
    "\n",
    "Que penser de la caractéristique \"windspeed\" ?"
   ]
  },
  {
   "cell_type": "markdown",
   "metadata": {},
   "source": [
    "## 4. Choisir le bon modèle"
   ]
  },
  {
   "cell_type": "markdown",
   "metadata": {},
   "source": [
    "### Métriques d'évaluation pour la régression\n",
    "\n",
    "Les modèles de régressions produisent en sortie des **valeurs continues** et ne peuvent donc pas être évalués par des métriques telles que la *précision* (plus adaptée à la classification). Les métriques les plus utilisées en régression sont :\n",
    "\n",
    "**Erreur moyenne absolue** Mean Absolute Error **MAE** : moyenne des valeurs absolues des erreurs :\n",
    "\n",
    "$$\\frac 1n\\sum_{i=1}^n|y_i-\\hat{y}_i|$$\n",
    "\n",
    "**Le carré moyen des erreurs** Mean Squared Error **MSE**  : moyenne des carrés des erreurs :\n",
    "\n",
    "$$\\frac 1n\\sum_{i=1}^n(y_i-\\hat{y}_i)^2$$\n",
    "\n",
    "**Erreur quadratique moyenne** Root Mean Squared Error (RMSE) : racine carrée du précédent (MSE) :\n",
    "\n",
    "$$\\sqrt{\\frac 1n\\sum_{i=1}^n(y_i-\\hat{y}_i)^2}$$"
   ]
  },
  {
   "cell_type": "code",
   "execution_count": null,
   "metadata": {},
   "outputs": [],
   "source": [
    "# exemple de valeurs réélles et prédites\n",
    "true = [10, 7, 5, 5]\n",
    "pred = [8, 6, 5, 10]"
   ]
  },
  {
   "cell_type": "code",
   "execution_count": null,
   "metadata": {},
   "outputs": [],
   "source": [
    "# calcul des métriques\n",
    "from sklearn import metrics\n",
    "import numpy as np\n",
    "print('MAE:', metrics.mean_absolute_error(true, pred))\n",
    "print('MSE:', metrics.mean_squared_error(true, pred))\n",
    "print('RMSE:', np.sqrt(metrics.mean_squared_error(true, pred)))"
   ]
  },
  {
   "cell_type": "markdown",
   "metadata": {},
   "source": [
    "Comparaison des métriques :\n",
    "\n",
    "- **MAE** est la plus simple et facile à comprendre, c'est une moyenne classique.\n",
    "- **MSE** est plus utilisée car elle subit l'influence des grandes erreurs et est donc plus adaptée aux cas concrets.\n",
    "- **RMSE** est encore plus utilisée car elle retourne une valeur dans la même unité que la cible \"y\".\n",
    "\n",
    "Toutes ces valeurs sont des **fonctions d'erreurs** (loss functions), qu'il faut **minimiser**.\n",
    "\n",
    "Ci-dessous un exemple pour montrer l'inffluence des grandes erreurs sur les métriques MSE/RMSE :"
   ]
  },
  {
   "cell_type": "code",
   "execution_count": null,
   "metadata": {},
   "outputs": [],
   "source": [
    "# On change les valeurs prédites :\n",
    "true = [10, 7, 5, 5]\n",
    "pred = [10, 7, 5, 13]\n",
    "\n",
    "# La MAE est la même\n",
    "print('MAE:', metrics.mean_absolute_error(true, pred))\n",
    "\n",
    "# MSE et RMSE sont plus importantes\n",
    "print('MSE:', metrics.mean_squared_error(true, pred))\n",
    "print('RMSE:', np.sqrt(metrics.mean_squared_error(true, pred)))"
   ]
  },
  {
   "cell_type": "markdown",
   "metadata": {},
   "source": [
    "### Comparaison des modèles avec train/test split et RMSE"
   ]
  },
  {
   "cell_type": "code",
   "execution_count": null,
   "metadata": {},
   "outputs": [],
   "source": [
    "from sklearn.model_selection import train_test_split\n",
    "\n",
    "# Définition d'une fonction prenant en entrée une liste de caractériqtiques et retournant la RMSE en utilisant\n",
    "# la technique train/test split :\n",
    "\n",
    "def train_test_rmse(caract):\n",
    "    X = bikeshare[caract]\n",
    "    y = bikeshare.total\n",
    "    X_train, X_test, y_train, y_test = train_test_split(X, y, random_state=123)\n",
    "    linreg = LinearRegression()\n",
    "    linreg.fit(X_train, y_train)\n",
    "    y_pred = linreg.predict(X_test)\n",
    "    return np.sqrt(metrics.mean_squared_error(y_test, y_pred))"
   ]
  },
  {
   "cell_type": "code",
   "execution_count": null,
   "metadata": {},
   "outputs": [],
   "source": [
    "# comparaison de différents ensembles de caractéristiques\n",
    "print(train_test_rmse(['temp','humidity','windspeed']))\n",
    "print(train_test_rmse(['temp', 'humidity']))\n",
    "print(train_test_rmse(['temp']))"
   ]
  },
  {
   "cell_type": "markdown",
   "metadata": {},
   "source": [
    "## 5. Création et gestion des variables"
   ]
  },
  {
   "cell_type": "markdown",
   "metadata": {},
   "source": [
    "### Gestion des variables catégoriques\n",
    "\n",
    "Le module scikit-learn est prévu pour gérer les caractéristiques numériques et ne prend pas en charges les variables catégoriques. Il faut donc trouver une méthode permettant de \"numériser\" ce type de variables :\n",
    "\n",
    "- **Categories ordonnées :** On les transforme en valeurs numériques ordonnées exemple : petit=1, moyen=2, grand=3\n",
    "- **Categories sans ordre :** On utilise la méthode get_dummies qui crée 1 variable indicatrice pour chaque modalité en prenant la valeur 1 lorsque la modalité est présente et  0 partout ailleurs.\n",
    "\n",
    "Dans le jeu de données bikeshare nous avons deux varaibles catégoriques :\n",
    "\n",
    "- **Categorie ordonnée:** weather déja numérisée en 1, 2, 3 ou 4 :\n",
    "    - 1: Clear, Few clouds, Partly cloudy, Partly cloudy\n",
    "    - 2: Mist + Cloudy, Mist + Broken clouds, Mist + Few clouds, Mist\n",
    "    - 3: Light Snow, Light Rain + Thunderstorm + Scattered clouds, Light Rain + Scattered clouds\n",
    "    - 4: Heavy Rain + Ice Pallets + Thunderstorm + Mist, Snow + Fog\n",
    "\n",
    "- **Catégories sans ordre:**  : \n",
    "    - season :  1 = printemps, 2 = été, 3 = automne, 4 = hiver doit être encodée pour éviter de considérer un ordre dans les saisons\n",
    "    - holiday  et workingday (déjà encodées)"
   ]
  },
  {
   "cell_type": "code",
   "execution_count": null,
   "metadata": {},
   "outputs": [],
   "source": [
    "# Les boites à moustache peuvent être une bonne façon de visualiser l'importance de chaque modalité\n",
    "sns.boxplot(x=\"season\", y=\"total\", data=bikeshare, showfliers = False)"
   ]
  },
  {
   "cell_type": "code",
   "execution_count": null,
   "metadata": {},
   "outputs": [],
   "source": [
    "# Transformation de la colonne season. La 1ère est supprimée pour éviter les multicolinéarités et \n",
    "# servira donc de référence\n",
    "seasons_dum = pd.get_dummies(bikeshare.season, prefix='season', drop_first=True)\n",
    "#On affiche ( lignes aléatoires)\n",
    "seasons_dum.sample(n=5, random_state=123)"
   ]
  },
  {
   "cell_type": "code",
   "execution_count": null,
   "metadata": {},
   "outputs": [],
   "source": [
    "# concatenation du dataframe original avec le dataframe créé.\n",
    "bikeshare = pd.concat([bikeshare, seasons_dum], axis=1)\n",
    "\n",
    "# print 5 random rows\n",
    "bikeshare.sample(n=5, random_state=123)"
   ]
  },
  {
   "cell_type": "code",
   "execution_count": null,
   "metadata": {},
   "outputs": [],
   "source": [
    "# On ajoute les nouvelles colonnes dans le modèle de régression\n",
    "caract = ['temp', 'season_2', 'season_3', 'season_4', 'humidity']\n",
    "X = bikeshare[caract]\n",
    "y = bikeshare.total\n",
    "linreg = LinearRegression()\n",
    "linreg.fit(X, y)\n",
    "coefs = zip(caract, linreg.coef_)\n",
    "for line in coefs :\n",
    "    print(line)"
   ]
  },
  {
   "cell_type": "markdown",
   "metadata": {},
   "source": [
    "**Interpretation**:\n",
    "En suposant que les autres caractéristiques ne changent pas\n",
    "\n",
    "- **l'été** est associé à une **baisse de 3.39 locations** comparé au printemps\n",
    "- **l'automne** est associé à une **baisse de 41,7 locations** comparé au printemps\n",
    "- **l'hiver** est associé à une **hausse de 64,4 locations** comparé au printemps"
   ]
  },
  {
   "cell_type": "code",
   "execution_count": null,
   "metadata": {},
   "outputs": [],
   "source": [
    "# Influence globale des varible catégoriques transformées\n",
    "print(train_test_rmse(['temp', 'season', 'humidity']))\n",
    "print(train_test_rmse(['temp', 'season_2', 'season_3', 'season_4', 'humidity']))"
   ]
  },
  {
   "cell_type": "markdown",
   "metadata": {},
   "source": [
    "### Feature engineering\n",
    "Il est parfois utile d'extraire des variables supplémentaires du jeu de données. Ici l'index datetime contient l'information de l'heure de location qui peut être pertinente si elle est traitée comme variable catégorique( 2' modalités)"
   ]
  },
  {
   "cell_type": "code",
   "execution_count": null,
   "metadata": {},
   "outputs": [],
   "source": [
    "# On crée une colonne heure\n",
    "bikeshare['heure'] = bikeshare.index.hour\n",
    "sns.boxplot(x=\"heure\", y=\"total\", data=bikeshare, showfliers = False)"
   ]
  },
  {
   "cell_type": "code",
   "execution_count": null,
   "metadata": {},
   "outputs": [],
   "source": [
    "# Traitement de la variable catégorique heure\n",
    "heure_dum = pd.get_dummies(bikeshare.heure, prefix='h', drop_first=True)\n",
    "heure_dum.sample(n=5, random_state=123)"
   ]
  },
  {
   "cell_type": "code",
   "execution_count": null,
   "metadata": {},
   "outputs": [],
   "source": [
    "# Concatenation\n",
    "bikeshare = pd.concat([bikeshare, heure_dum], axis=1)"
   ]
  },
  {
   "cell_type": "code",
   "execution_count": null,
   "metadata": {},
   "outputs": [],
   "source": [
    "caract= bikeshare.columns[bikeshare.columns.str.startswith('h_')]\n",
    "print(train_test_rmse(['heure']))\n",
    "print(train_test_rmse(caract))"
   ]
  },
  {
   "cell_type": "code",
   "execution_count": null,
   "metadata": {},
   "outputs": [],
   "source": [
    "# création d'une nouvelle colonne journée \n",
    "bikeshare['journée'] = ((bikeshare.heure > 6) & (bikeshare.heure < 21)).astype(int)\n",
    "print(train_test_rmse(['journée']))"
   ]
  },
  {
   "cell_type": "markdown",
   "metadata": {
    "deletable": false,
    "editable": false
   },
   "source": [
    "<hr>\n",
    "Copyright &copy; 2020 Hatem & Driss @NEEDEMAND"
   ]
  }
 ],
 "metadata": {
  "celltoolbar": "Aucun(e)",
  "kernelspec": {
   "display_name": "Python 3",
   "language": "python",
   "name": "python3"
  },
  "language_info": {
   "codemirror_mode": {
    "name": "ipython",
    "version": 3
   },
   "file_extension": ".py",
   "mimetype": "text/x-python",
   "name": "python",
   "nbconvert_exporter": "python",
   "pygments_lexer": "ipython3",
   "version": "3.8.3"
  }
 },
 "nbformat": 4,
 "nbformat_minor": 1
}

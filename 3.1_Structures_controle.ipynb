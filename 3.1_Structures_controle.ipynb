{
 "cells": [
  {
   "cell_type": "markdown",
   "metadata": {
    "deletable": false,
    "editable": false
   },
   "source": [
    "<img src = \"images/logos.png\" width = 600, align = \"center\">\n",
    "<br>\n",
    "\n",
    "\n",
    "<h1 align=center><font size = 5>PYTHON - STRUCTURES DE CONTRÔLE</font></h1>"
   ]
  },
  {
   "cell_type": "markdown",
   "metadata": {},
   "source": [
    "## Contenu\n",
    "\n",
    "\n",
    "<div class=\"alert alert-block alert-info\" style=\"margin-top: 20px\">\n",
    "<ul>\n",
    "    <li><a href=\"#ref1\">Opérateurs de comparaison</a></li>\n",
    "    <li><a href=\"#ref2\">Structures imbriquées</a></li>\n",
    "    <li><a href=\"#ref3\">Opérateurs logiques </a></li>\n",
    "    <li><a href=\"#ref4\">Boucle for</a></li>\n",
    "    <li><a href=\"#ref5\">boucle while</a></li>\n",
    "</ul>\n",
    "<p></p>\n",
    "Durée éstimée: <strong>20 min</strong>\n",
    "</div>\n",
    "\n",
    "<hr>"
   ]
  },
  {
   "cell_type": "markdown",
   "metadata": {},
   "source": [
    "<a id=\"ref1\"></a>\n",
    "<center><h2>OPERATEURS DE COMPARAISON</h2></center>"
   ]
  },
  {
   "cell_type": "markdown",
   "metadata": {},
   "source": [
    "Les opérateurs de comparaison produisent un booléen : \n",
    "\n",
    "<table>\n",
    "    <tr><td>égal à </td><td> `==`</td></tr>\n",
    "<tr><td>différent de </td><td> `!=`</td></tr>\n",
    "<tr><td>supérieur à </td><td> `>`</td></tr>\n",
    "<tr><td>inférieur à </td><td> `<`</td></tr>\n",
    "<tr><td>superieur ou égal à </td><td> `>=`</td></tr>\n",
    "<tr><td>inférieur ou égal à </td><td> `<=`</td></tr>\n",
    "</table>\n",
    "\n"
   ]
  },
  {
   "cell_type": "markdown",
   "metadata": {},
   "source": [
    "<a id=\"ref2\"></a>\n",
    "<center><h2>Structures imbriquées</h2></center>\n"
   ]
  },
  {
   "cell_type": "markdown",
   "metadata": {},
   "source": [
    "Les conditions imbriquées permettent d'executer un bloc d'instructions différents selon les résultats des conditions évaluées.\n",
    "<img src=\"images/conditions.png\">"
   ]
  },
  {
   "cell_type": "markdown",
   "metadata": {},
   "source": [
    "#### Ecrire un test affichant \"Ce film est génial\" si la note est supérieure à 8 et \"Ce film est classique\" sinon. \n"
   ]
  },
  {
   "cell_type": "code",
   "execution_count": 12,
   "metadata": {},
   "outputs": [
    {
     "name": "stdout",
     "output_type": "stream",
     "text": [
      "note du film ? :9\n",
      "Ce film est génial\n"
     ]
    }
   ],
   "source": [
    "note= int(input(\"note du film ? :\"))\n",
    "if note>8 : print(\"Ce film est génial\")\n",
    "else: print(\"Ce film est classique\")"
   ]
  },
  {
   "cell_type": "markdown",
   "metadata": {},
   "source": [
    " <div align=\"right\">\n",
    "<a href=\"#q2\" class=\"btn btn-default\" data-toggle=\"collapse\">Solution</a>\n",
    "\n",
    "</div>\n",
    "<div id=\"q2\" class=\"collapse\">\n",
    "```\n",
    "note = 8.5\n",
    "#valeur de test\n",
    "#note = 8\n",
    "if note > 8:\n",
    "    print(\"Ce film est génial\")\n",
    "else:\n",
    "    print(\"Ce film est classique\")µ\n",
    "```\n",
    "</div>"
   ]
  },
  {
   "cell_type": "markdown",
   "metadata": {},
   "source": [
    " <a id=\"ref3\"></a>\n",
    "<center><h2>Opérateurs logiques</h2></center>"
   ]
  },
  {
   "cell_type": "markdown",
   "metadata": {},
   "source": [
    "\n",
    "Lorsqu'on doit évaluer plus d'une condition on a recours aux opérateurs logiques pour combiner ou modifier les conditions :\n",
    "<ul>\n",
    "<li> `and`\n",
    "<li> `or`\n",
    "<li> `not` \n",
    "</ul>\n",
    "\n",
    "Ces opérateurs obéissent aux rèfles énoncées dans les tables de vérité ci-dessous :  "
   ]
  },
  {
   "cell_type": "markdown",
   "metadata": {},
   "source": [
    " <img src = \"images/op_logiques.png\"  align = \"center\">\n",
    "  <h4 align=center> \n",
    "  </h4>\n"
   ]
  },
  {
   "cell_type": "markdown",
   "metadata": {},
   "source": [
    "#### Ecrire un test permettant de savoir si un film est sorti dans les année 80.\n"
   ]
  },
  {
   "cell_type": "code",
   "execution_count": 28,
   "metadata": {},
   "outputs": [
    {
     "name": "stdout",
     "output_type": "stream",
     "text": [
      "DVD ou Blueray\n"
     ]
    }
   ],
   "source": [
    "listefilms = {\"Ace Ventura\":1995,\"Grease\":1985,\"Jurrasic Park\":1992}\n",
    "anneefilm = 2005\n",
    "if (anneefilm)<=1989 & (anneefilm)>=1980:\n",
    "    print(\"Ce film est probabalement disponible en K7\")\n",
    "else :\n",
    "    print(\"DVD ou Blueray\")\n",
    "    \n"
   ]
  },
  {
   "cell_type": "markdown",
   "metadata": {},
   "source": [
    "<div align=\"right\">\n",
    "<a href=\"#q3\" class=\"btn btn-default\" data-toggle=\"collapse\">Solution</a>\n",
    "\n",
    "</div>\n",
    "<div id=\"q3\" class=\"collapse\">\n",
    "```\n",
    "annee_film = 1983\n",
    "if (annee_film<=1980) and (annee_film<1990):\n",
    "    print(\"c'est un film des 80s\")\n",
    "\n",
    "```\n",
    "</div>"
   ]
  },
  {
   "cell_type": "markdown",
   "metadata": {},
   "source": [
    " <a id=\"ref4\"></a>\n",
    "<center><h2>Boucle for</h2></center>"
   ]
  },
  {
   "cell_type": "markdown",
   "metadata": {},
   "source": [
    "Les boucles `for`sont utilisées lorsque le nombre d'itérations est connu à l'avance. En Python elles s'appuient sur l'objet **range**"
   ]
  },
  {
   "cell_type": "markdown",
   "metadata": {},
   "source": [
    "**L'objet range **"
   ]
  },
  {
   "cell_type": "markdown",
   "metadata": {},
   "source": [
    "L'objet range permet d'otenir une liste ordonnées de valeurs."
   ]
  },
  {
   "cell_type": "code",
   "execution_count": 30,
   "metadata": {},
   "outputs": [
    {
     "data": {
      "text/plain": [
       "range(0, 6)"
      ]
     },
     "execution_count": 30,
     "metadata": {},
     "output_type": "execute_result"
    }
   ],
   "source": [
    "range(6) #liste des valeurs entières de 0 à 5"
   ]
  },
  {
   "cell_type": "code",
   "execution_count": 31,
   "metadata": {},
   "outputs": [
    {
     "data": {
      "text/plain": [
       "range(10, 19)"
      ]
     },
     "execution_count": 31,
     "metadata": {},
     "output_type": "execute_result"
    }
   ],
   "source": [
    "range(10, 19)#liste des valeurs entières de 10 à 18"
   ]
  },
  {
   "cell_type": "code",
   "execution_count": 32,
   "metadata": {},
   "outputs": [
    {
     "data": {
      "text/plain": [
       "range(1, 15, 2)"
      ]
     },
     "execution_count": 32,
     "metadata": {},
     "output_type": "execute_result"
    }
   ],
   "source": [
    "range(1,15,2) #liste des valeurs entières de 1 à 14 avec un pas de 2"
   ]
  },
  {
   "cell_type": "markdown",
   "metadata": {},
   "source": [
    "*Parcours de lists*"
   ]
  },
  {
   "cell_type": "code",
   "execution_count": 33,
   "metadata": {},
   "outputs": [
    {
     "name": "stdout",
     "output_type": "stream",
     "text": [
      "Dr. No\n",
      "From Russia with Love\n",
      "Goldfinger\n",
      "Thunderball\n",
      "You only live twice\n",
      "On Her Majesty's Secret Service\n",
      "Diamonds are forever\n",
      "Live and Let Die\n"
     ]
    }
   ],
   "source": [
    "titres = [\"Dr. No\", \"From Russia with Love\",\"Goldfinger\", \"Thunderball\",\"You only live twice\",\\\n",
    "          \"On Her Majesty's Secret Service\",\"Diamonds are forever\", \"Live and Let Die\"]\n",
    "N=len(titres)\n",
    "\n",
    "for i in range(N):\n",
    "     \n",
    "    print(titres[i])"
   ]
  },
  {
   "cell_type": "markdown",
   "metadata": {},
   "source": [
    "Autre méthode"
   ]
  },
  {
   "cell_type": "code",
   "execution_count": 34,
   "metadata": {},
   "outputs": [
    {
     "name": "stdout",
     "output_type": "stream",
     "text": [
      "Dr. No\n",
      "From Russia with Love\n",
      "Goldfinger\n",
      "Thunderball\n",
      "You only live twice\n",
      "On Her Majesty's Secret Service\n",
      "Diamonds are forever\n",
      "Live and Let Die\n"
     ]
    }
   ],
   "source": [
    "for t in titres:  \n",
    "    print(t)"
   ]
  },
  {
   "cell_type": "markdown",
   "metadata": {},
   "source": [
    "**Ecrire une boucle permettant d'afficher les entiers de 1 à 20 dans l’ordre décroissant.**"
   ]
  },
  {
   "cell_type": "code",
   "execution_count": 38,
   "metadata": {},
   "outputs": [
    {
     "name": "stdout",
     "output_type": "stream",
     "text": [
      "20\n",
      "19\n",
      "18\n",
      "17\n",
      "16\n",
      "15\n",
      "14\n",
      "13\n",
      "12\n",
      "11\n",
      "10\n",
      "9\n",
      "8\n",
      "7\n",
      "6\n",
      "5\n",
      "4\n",
      "3\n",
      "2\n",
      "1\n"
     ]
    }
   ],
   "source": [
    "for i in range (0,20):\n",
    "    print(20-i)"
   ]
  },
  {
   "cell_type": "markdown",
   "metadata": {},
   "source": [
    "<div align=\"right\">\n",
    "<a href=\"#q4\" class=\"btn btn-default\" data-toggle=\"collapse\">Solution</a>\n",
    "\n",
    "</div>\n",
    "<div id=\"q4\" class=\"collapse\">\n",
    "```\n",
    "for i in range(0, 20) :\n",
    "    print(20-i)\n",
    "\n",
    "```\n",
    "</div>"
   ]
  },
  {
   "cell_type": "markdown",
   "metadata": {},
   "source": [
    " <a id=\"ref5\"></a>\n",
    "<center><h2>Boucle while</h2></center>"
   ]
  },
  {
   "cell_type": "markdown",
   "metadata": {},
   "source": [
    "Le deuxième type de boucle est la boucle while. Cette fois ci l'arrêt de la boucle dépend d'une condition."
   ]
  },
  {
   "cell_type": "markdown",
   "metadata": {},
   "source": [
    "<img src=\"images/while.png\" >"
   ]
  },
  {
   "cell_type": "markdown",
   "metadata": {},
   "source": [
    "#### Ecrire une boucle qui copie les notes du tableau notes dans un nouveau tableau. La copie s'arrête dès que la note est inférieure à 6.\n",
    "`notes = [6.8,6.8,7.2,6.7,6.5,6.4,6.2,6.1,6.2,6.4,5.8,6.0,6.0,6.1,5.9,6.2,6.2,6.6,5.8,5.5,5.0,7.,5.4,7.1,5.8]`"
   ]
  },
  {
   "cell_type": "code",
   "execution_count": 56,
   "metadata": {},
   "outputs": [
    {
     "data": {
      "text/plain": [
       "[7.1,\n",
       " 7.0,\n",
       " 6.6,\n",
       " 6.2,\n",
       " 6.2,\n",
       " 6.1,\n",
       " 6.4,\n",
       " 6.2,\n",
       " 6.1,\n",
       " 6.2,\n",
       " 6.4,\n",
       " 6.5,\n",
       " 6.7,\n",
       " 7.2,\n",
       " 6.8,\n",
       " 6.8]"
      ]
     },
     "execution_count": 56,
     "metadata": {},
     "output_type": "execute_result"
    }
   ],
   "source": [
    "notes = [6.8,6.8,7.2,6.7,6.5,6.4,6.2,6.1,6.2,6.4,5.8,6.0,6.0,6.1,5.9,6.2,6.2,6.6,5.8,5.5,5.0,7.,5.4,7.1,5.8]\n",
    "newnotes = []\n",
    "while notes :\n",
    "    x =notes.pop()\n",
    "    if x>6 :\n",
    "        newnotes.append (x)\n",
    "\n",
    "newnotes"
   ]
  },
  {
   "cell_type": "markdown",
   "metadata": {},
   "source": [
    "<div align=\"right\">\n",
    "<a href=\"#q5\" class=\"btn btn-default\" data-toggle=\"collapse\">Solution</a>\n",
    "\n",
    "</div>\n",
    "<div id=\"q5\" class=\"collapse\">\n",
    "```\n",
    "notes = [6.8,6.8,7.2,6.7,6.5,6.4,6.2,6.1,6.2,6.4,5.8,6.0,6.0,6.1,5.9,6.2,6.2,6.6,5.8,5.5,5.0,7.,5.4,7.1,5.8]\n",
    "new_notes=[]\n",
    "i=0\n",
    "while(notes[i]>6) :\n",
    "    new_notes.append(notes[i])\n",
    "    i +=1\n",
    "\n",
    "new_notes\n",
    "\n",
    "```\n",
    "</div>"
   ]
  },
  {
   "cell_type": "markdown",
   "metadata": {
    "deletable": false,
    "editable": false
   },
   "source": [
    "<hr>\n",
    "Copyright &copy; 2020 Hatem & Driss @NEEDEMAND"
   ]
  }
 ],
 "metadata": {
  "celltoolbar": "Aucun(e)",
  "kernelspec": {
   "display_name": "Python 3",
   "language": "python",
   "name": "python3"
  },
  "language_info": {
   "codemirror_mode": {
    "name": "ipython",
    "version": 3
   },
   "file_extension": ".py",
   "mimetype": "text/x-python",
   "name": "python",
   "nbconvert_exporter": "python",
   "pygments_lexer": "ipython3",
   "version": "3.8.3"
  },
  "widgets": {
   "state": {},
   "version": "1.1.2"
  }
 },
 "nbformat": 4,
 "nbformat_minor": 2
}
